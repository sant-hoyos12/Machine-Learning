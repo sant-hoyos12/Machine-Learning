{
  "nbformat": 4,
  "nbformat_minor": 0,
  "metadata": {
    "colab": {
      "provenance": []
    },
    "kernelspec": {
      "name": "python3",
      "display_name": "Python 3"
    },
    "language_info": {
      "name": "python"
    }
  },
  "cells": [
    {
      "cell_type": "markdown",
      "source": [
        "##Red neuronal para predicción de alquiler de bicicletas\n",
        "\n",
        "Construiremos una red neuronal, esta vez para un problema de regresión: predicción de la cantidad de bicicletas alquiladas, según el conjunto de datos *bikeshare_hour*, el cuál se proveerá. Adicionalmente, en esta ocasión encontraremos el mejor modelo usando un conjunto de validación.\n",
        "\n",
        "Cargar en formato .ipynb o .html en aulas a más tardar el día jueves 21 de septiembre a las 11:00am."
      ],
      "metadata": {
        "id": "MtJzIS1HeOsb"
      }
    },
    {
      "cell_type": "code",
      "execution_count": 25,
      "metadata": {
        "id": "kyuH3kGIVku9"
      },
      "outputs": [],
      "source": [
        "import numpy as np\n",
        "import pandas as pd\n",
        "import matplotlib.pyplot as plt\n",
        "\n",
        "from sklearn.model_selection import train_test_split\n",
        "\n",
        "import torch\n",
        "import torch.nn as nn\n",
        "import torch.nn.functional as F\n",
        "import torch.utils.data\n",
        "from torch.utils.data import DataLoader\n",
        "from torch.utils.data import TensorDataset"
      ]
    },
    {
      "cell_type": "markdown",
      "source": [
        "### Cargar y preparar los datos\n",
        "\n",
        "Un paso muy importante en redes neuronales es preparar correctamente los datos. Variables con diferentes escalas le dificulta a la red aprender eficientemente los pesos correctos.\n"
      ],
      "metadata": {
        "id": "EdmFWlr2eN2E"
      }
    },
    {
      "cell_type": "code",
      "source": [
        "df=pd.read_csv('bikeshare_hour.csv')\n",
        "df.head()"
      ],
      "metadata": {
        "id": "KooB2GeojdYl",
        "colab": {
          "base_uri": "https://localhost:8080/",
          "height": 313
        },
        "outputId": "bcbbf44f-c6eb-4e0e-84f3-24a51141d928"
      },
      "execution_count": 26,
      "outputs": [
        {
          "output_type": "execute_result",
          "data": {
            "text/plain": [
              "   instant      dteday  season  yr  mnth  hr  holiday  weekday  workingday  \\\n",
              "0        1  2011-01-01       1   0     1   0        0        6           0   \n",
              "1        2  2011-01-01       1   0     1   1        0        6           0   \n",
              "2        3  2011-01-01       1   0     1   2        0        6           0   \n",
              "3        4  2011-01-01       1   0     1   3        0        6           0   \n",
              "4        5  2011-01-01       1   0     1   4        0        6           0   \n",
              "\n",
              "   weathersit  temp   atemp   hum  windspeed  casual  registered  cnt  \n",
              "0           1  0.24  0.2879  0.81        0.0       3          13   16  \n",
              "1           1  0.22  0.2727  0.80        0.0       8          32   40  \n",
              "2           1  0.22  0.2727  0.80        0.0       5          27   32  \n",
              "3           1  0.24  0.2879  0.75        0.0       3          10   13  \n",
              "4           1  0.24  0.2879  0.75        0.0       0           1    1  "
            ],
            "text/html": [
              "\n",
              "  <div id=\"df-f18ba283-b99a-425c-b254-7bdcdfc4e933\" class=\"colab-df-container\">\n",
              "    <div>\n",
              "<style scoped>\n",
              "    .dataframe tbody tr th:only-of-type {\n",
              "        vertical-align: middle;\n",
              "    }\n",
              "\n",
              "    .dataframe tbody tr th {\n",
              "        vertical-align: top;\n",
              "    }\n",
              "\n",
              "    .dataframe thead th {\n",
              "        text-align: right;\n",
              "    }\n",
              "</style>\n",
              "<table border=\"1\" class=\"dataframe\">\n",
              "  <thead>\n",
              "    <tr style=\"text-align: right;\">\n",
              "      <th></th>\n",
              "      <th>instant</th>\n",
              "      <th>dteday</th>\n",
              "      <th>season</th>\n",
              "      <th>yr</th>\n",
              "      <th>mnth</th>\n",
              "      <th>hr</th>\n",
              "      <th>holiday</th>\n",
              "      <th>weekday</th>\n",
              "      <th>workingday</th>\n",
              "      <th>weathersit</th>\n",
              "      <th>temp</th>\n",
              "      <th>atemp</th>\n",
              "      <th>hum</th>\n",
              "      <th>windspeed</th>\n",
              "      <th>casual</th>\n",
              "      <th>registered</th>\n",
              "      <th>cnt</th>\n",
              "    </tr>\n",
              "  </thead>\n",
              "  <tbody>\n",
              "    <tr>\n",
              "      <th>0</th>\n",
              "      <td>1</td>\n",
              "      <td>2011-01-01</td>\n",
              "      <td>1</td>\n",
              "      <td>0</td>\n",
              "      <td>1</td>\n",
              "      <td>0</td>\n",
              "      <td>0</td>\n",
              "      <td>6</td>\n",
              "      <td>0</td>\n",
              "      <td>1</td>\n",
              "      <td>0.24</td>\n",
              "      <td>0.2879</td>\n",
              "      <td>0.81</td>\n",
              "      <td>0.0</td>\n",
              "      <td>3</td>\n",
              "      <td>13</td>\n",
              "      <td>16</td>\n",
              "    </tr>\n",
              "    <tr>\n",
              "      <th>1</th>\n",
              "      <td>2</td>\n",
              "      <td>2011-01-01</td>\n",
              "      <td>1</td>\n",
              "      <td>0</td>\n",
              "      <td>1</td>\n",
              "      <td>1</td>\n",
              "      <td>0</td>\n",
              "      <td>6</td>\n",
              "      <td>0</td>\n",
              "      <td>1</td>\n",
              "      <td>0.22</td>\n",
              "      <td>0.2727</td>\n",
              "      <td>0.80</td>\n",
              "      <td>0.0</td>\n",
              "      <td>8</td>\n",
              "      <td>32</td>\n",
              "      <td>40</td>\n",
              "    </tr>\n",
              "    <tr>\n",
              "      <th>2</th>\n",
              "      <td>3</td>\n",
              "      <td>2011-01-01</td>\n",
              "      <td>1</td>\n",
              "      <td>0</td>\n",
              "      <td>1</td>\n",
              "      <td>2</td>\n",
              "      <td>0</td>\n",
              "      <td>6</td>\n",
              "      <td>0</td>\n",
              "      <td>1</td>\n",
              "      <td>0.22</td>\n",
              "      <td>0.2727</td>\n",
              "      <td>0.80</td>\n",
              "      <td>0.0</td>\n",
              "      <td>5</td>\n",
              "      <td>27</td>\n",
              "      <td>32</td>\n",
              "    </tr>\n",
              "    <tr>\n",
              "      <th>3</th>\n",
              "      <td>4</td>\n",
              "      <td>2011-01-01</td>\n",
              "      <td>1</td>\n",
              "      <td>0</td>\n",
              "      <td>1</td>\n",
              "      <td>3</td>\n",
              "      <td>0</td>\n",
              "      <td>6</td>\n",
              "      <td>0</td>\n",
              "      <td>1</td>\n",
              "      <td>0.24</td>\n",
              "      <td>0.2879</td>\n",
              "      <td>0.75</td>\n",
              "      <td>0.0</td>\n",
              "      <td>3</td>\n",
              "      <td>10</td>\n",
              "      <td>13</td>\n",
              "    </tr>\n",
              "    <tr>\n",
              "      <th>4</th>\n",
              "      <td>5</td>\n",
              "      <td>2011-01-01</td>\n",
              "      <td>1</td>\n",
              "      <td>0</td>\n",
              "      <td>1</td>\n",
              "      <td>4</td>\n",
              "      <td>0</td>\n",
              "      <td>6</td>\n",
              "      <td>0</td>\n",
              "      <td>1</td>\n",
              "      <td>0.24</td>\n",
              "      <td>0.2879</td>\n",
              "      <td>0.75</td>\n",
              "      <td>0.0</td>\n",
              "      <td>0</td>\n",
              "      <td>1</td>\n",
              "      <td>1</td>\n",
              "    </tr>\n",
              "  </tbody>\n",
              "</table>\n",
              "</div>\n",
              "    <div class=\"colab-df-buttons\">\n",
              "\n",
              "  <div class=\"colab-df-container\">\n",
              "    <button class=\"colab-df-convert\" onclick=\"convertToInteractive('df-f18ba283-b99a-425c-b254-7bdcdfc4e933')\"\n",
              "            title=\"Convert this dataframe to an interactive table.\"\n",
              "            style=\"display:none;\">\n",
              "\n",
              "  <svg xmlns=\"http://www.w3.org/2000/svg\" height=\"24px\" viewBox=\"0 -960 960 960\">\n",
              "    <path d=\"M120-120v-720h720v720H120Zm60-500h600v-160H180v160Zm220 220h160v-160H400v160Zm0 220h160v-160H400v160ZM180-400h160v-160H180v160Zm440 0h160v-160H620v160ZM180-180h160v-160H180v160Zm440 0h160v-160H620v160Z\"/>\n",
              "  </svg>\n",
              "    </button>\n",
              "\n",
              "  <style>\n",
              "    .colab-df-container {\n",
              "      display:flex;\n",
              "      gap: 12px;\n",
              "    }\n",
              "\n",
              "    .colab-df-convert {\n",
              "      background-color: #E8F0FE;\n",
              "      border: none;\n",
              "      border-radius: 50%;\n",
              "      cursor: pointer;\n",
              "      display: none;\n",
              "      fill: #1967D2;\n",
              "      height: 32px;\n",
              "      padding: 0 0 0 0;\n",
              "      width: 32px;\n",
              "    }\n",
              "\n",
              "    .colab-df-convert:hover {\n",
              "      background-color: #E2EBFA;\n",
              "      box-shadow: 0px 1px 2px rgba(60, 64, 67, 0.3), 0px 1px 3px 1px rgba(60, 64, 67, 0.15);\n",
              "      fill: #174EA6;\n",
              "    }\n",
              "\n",
              "    .colab-df-buttons div {\n",
              "      margin-bottom: 4px;\n",
              "    }\n",
              "\n",
              "    [theme=dark] .colab-df-convert {\n",
              "      background-color: #3B4455;\n",
              "      fill: #D2E3FC;\n",
              "    }\n",
              "\n",
              "    [theme=dark] .colab-df-convert:hover {\n",
              "      background-color: #434B5C;\n",
              "      box-shadow: 0px 1px 3px 1px rgba(0, 0, 0, 0.15);\n",
              "      filter: drop-shadow(0px 1px 2px rgba(0, 0, 0, 0.3));\n",
              "      fill: #FFFFFF;\n",
              "    }\n",
              "  </style>\n",
              "\n",
              "    <script>\n",
              "      const buttonEl =\n",
              "        document.querySelector('#df-f18ba283-b99a-425c-b254-7bdcdfc4e933 button.colab-df-convert');\n",
              "      buttonEl.style.display =\n",
              "        google.colab.kernel.accessAllowed ? 'block' : 'none';\n",
              "\n",
              "      async function convertToInteractive(key) {\n",
              "        const element = document.querySelector('#df-f18ba283-b99a-425c-b254-7bdcdfc4e933');\n",
              "        const dataTable =\n",
              "          await google.colab.kernel.invokeFunction('convertToInteractive',\n",
              "                                                    [key], {});\n",
              "        if (!dataTable) return;\n",
              "\n",
              "        const docLinkHtml = 'Like what you see? Visit the ' +\n",
              "          '<a target=\"_blank\" href=https://colab.research.google.com/notebooks/data_table.ipynb>data table notebook</a>'\n",
              "          + ' to learn more about interactive tables.';\n",
              "        element.innerHTML = '';\n",
              "        dataTable['output_type'] = 'display_data';\n",
              "        await google.colab.output.renderOutput(dataTable, element);\n",
              "        const docLink = document.createElement('div');\n",
              "        docLink.innerHTML = docLinkHtml;\n",
              "        element.appendChild(docLink);\n",
              "      }\n",
              "    </script>\n",
              "  </div>\n",
              "\n",
              "\n",
              "<div id=\"df-4aaaa740-58db-4ec8-8cfc-4ffefc625324\">\n",
              "  <button class=\"colab-df-quickchart\" onclick=\"quickchart('df-4aaaa740-58db-4ec8-8cfc-4ffefc625324')\"\n",
              "            title=\"Suggest charts.\"\n",
              "            style=\"display:none;\">\n",
              "\n",
              "<svg xmlns=\"http://www.w3.org/2000/svg\" height=\"24px\"viewBox=\"0 0 24 24\"\n",
              "     width=\"24px\">\n",
              "    <g>\n",
              "        <path d=\"M19 3H5c-1.1 0-2 .9-2 2v14c0 1.1.9 2 2 2h14c1.1 0 2-.9 2-2V5c0-1.1-.9-2-2-2zM9 17H7v-7h2v7zm4 0h-2V7h2v10zm4 0h-2v-4h2v4z\"/>\n",
              "    </g>\n",
              "</svg>\n",
              "  </button>\n",
              "\n",
              "<style>\n",
              "  .colab-df-quickchart {\n",
              "      --bg-color: #E8F0FE;\n",
              "      --fill-color: #1967D2;\n",
              "      --hover-bg-color: #E2EBFA;\n",
              "      --hover-fill-color: #174EA6;\n",
              "      --disabled-fill-color: #AAA;\n",
              "      --disabled-bg-color: #DDD;\n",
              "  }\n",
              "\n",
              "  [theme=dark] .colab-df-quickchart {\n",
              "      --bg-color: #3B4455;\n",
              "      --fill-color: #D2E3FC;\n",
              "      --hover-bg-color: #434B5C;\n",
              "      --hover-fill-color: #FFFFFF;\n",
              "      --disabled-bg-color: #3B4455;\n",
              "      --disabled-fill-color: #666;\n",
              "  }\n",
              "\n",
              "  .colab-df-quickchart {\n",
              "    background-color: var(--bg-color);\n",
              "    border: none;\n",
              "    border-radius: 50%;\n",
              "    cursor: pointer;\n",
              "    display: none;\n",
              "    fill: var(--fill-color);\n",
              "    height: 32px;\n",
              "    padding: 0;\n",
              "    width: 32px;\n",
              "  }\n",
              "\n",
              "  .colab-df-quickchart:hover {\n",
              "    background-color: var(--hover-bg-color);\n",
              "    box-shadow: 0 1px 2px rgba(60, 64, 67, 0.3), 0 1px 3px 1px rgba(60, 64, 67, 0.15);\n",
              "    fill: var(--button-hover-fill-color);\n",
              "  }\n",
              "\n",
              "  .colab-df-quickchart-complete:disabled,\n",
              "  .colab-df-quickchart-complete:disabled:hover {\n",
              "    background-color: var(--disabled-bg-color);\n",
              "    fill: var(--disabled-fill-color);\n",
              "    box-shadow: none;\n",
              "  }\n",
              "\n",
              "  .colab-df-spinner {\n",
              "    border: 2px solid var(--fill-color);\n",
              "    border-color: transparent;\n",
              "    border-bottom-color: var(--fill-color);\n",
              "    animation:\n",
              "      spin 1s steps(1) infinite;\n",
              "  }\n",
              "\n",
              "  @keyframes spin {\n",
              "    0% {\n",
              "      border-color: transparent;\n",
              "      border-bottom-color: var(--fill-color);\n",
              "      border-left-color: var(--fill-color);\n",
              "    }\n",
              "    20% {\n",
              "      border-color: transparent;\n",
              "      border-left-color: var(--fill-color);\n",
              "      border-top-color: var(--fill-color);\n",
              "    }\n",
              "    30% {\n",
              "      border-color: transparent;\n",
              "      border-left-color: var(--fill-color);\n",
              "      border-top-color: var(--fill-color);\n",
              "      border-right-color: var(--fill-color);\n",
              "    }\n",
              "    40% {\n",
              "      border-color: transparent;\n",
              "      border-right-color: var(--fill-color);\n",
              "      border-top-color: var(--fill-color);\n",
              "    }\n",
              "    60% {\n",
              "      border-color: transparent;\n",
              "      border-right-color: var(--fill-color);\n",
              "    }\n",
              "    80% {\n",
              "      border-color: transparent;\n",
              "      border-right-color: var(--fill-color);\n",
              "      border-bottom-color: var(--fill-color);\n",
              "    }\n",
              "    90% {\n",
              "      border-color: transparent;\n",
              "      border-bottom-color: var(--fill-color);\n",
              "    }\n",
              "  }\n",
              "</style>\n",
              "\n",
              "  <script>\n",
              "    async function quickchart(key) {\n",
              "      const quickchartButtonEl =\n",
              "        document.querySelector('#' + key + ' button');\n",
              "      quickchartButtonEl.disabled = true;  // To prevent multiple clicks.\n",
              "      quickchartButtonEl.classList.add('colab-df-spinner');\n",
              "      try {\n",
              "        const charts = await google.colab.kernel.invokeFunction(\n",
              "            'suggestCharts', [key], {});\n",
              "      } catch (error) {\n",
              "        console.error('Error during call to suggestCharts:', error);\n",
              "      }\n",
              "      quickchartButtonEl.classList.remove('colab-df-spinner');\n",
              "      quickchartButtonEl.classList.add('colab-df-quickchart-complete');\n",
              "    }\n",
              "    (() => {\n",
              "      let quickchartButtonEl =\n",
              "        document.querySelector('#df-4aaaa740-58db-4ec8-8cfc-4ffefc625324 button');\n",
              "      quickchartButtonEl.style.display =\n",
              "        google.colab.kernel.accessAllowed ? 'block' : 'none';\n",
              "    })();\n",
              "  </script>\n",
              "</div>\n",
              "    </div>\n",
              "  </div>\n"
            ]
          },
          "metadata": {},
          "execution_count": 26
        }
      ]
    },
    {
      "cell_type": "markdown",
      "source": [
        "Este dataset contiene el número de alquileres para cada hora de cada día desde Enero 1 de 2011 hasta Diciembre 31 de 2012. El número de usuarios que alquilaron se divide en regitrados *(registered)* y casuales *(casual)*, los cuales se suman en la columna *cnt*, la cuál será nuestra variable objetivo.\n",
        "\n",
        "\n",
        "Los fines de semana tienen un número más bajo de alquileres y hay picos cuando las personas se dirigen desde y hacia el trabajo durante la semana También tenemos información acerca de la temperatura, humedad, velocidad del viento, todas estas afectando el npumero de alquileres. Trataremos de capturar esta información con nuestro modelo.\n",
        "\n"
      ],
      "metadata": {
        "id": "nJbJ0xUkj0Oq"
      }
    },
    {
      "cell_type": "code",
      "source": [
        "df[:24*10].plot(x='dteday', y='cnt')"
      ],
      "metadata": {
        "id": "hKOhx_hRmUek",
        "colab": {
          "base_uri": "https://localhost:8080/",
          "height": 466
        },
        "outputId": "208038da-aec1-47b0-ef41-44dc20d6a90c"
      },
      "execution_count": 27,
      "outputs": [
        {
          "output_type": "execute_result",
          "data": {
            "text/plain": [
              "<Axes: xlabel='dteday'>"
            ]
          },
          "metadata": {},
          "execution_count": 27
        },
        {
          "output_type": "display_data",
          "data": {
            "text/plain": [
              "<Figure size 640x480 with 1 Axes>"
            ],
            "image/png": "[encoded data removed]"
          },
          "metadata": {}
        }
      ]
    },
    {
      "cell_type": "markdown",
      "source": [
        "Hay algunas variables categóricas: **season**, **weathersit**, **mnth**, **hr**, **weekday**. Nevesitamos crear variables dummy para éstas.\n",
        "\n",
        "Así mismo, eliminaremos algunas variables que redundan o no aportan para el modelamiento el modelamiento: **instant**, **dteday**, **atemp**, **workingday**,**registered**, **casual**."
      ],
      "metadata": {
        "id": "9FPYGLaqmVdj"
      }
    },
    {
      "cell_type": "markdown",
      "source": [
        "1. Crear las variables dummies indicadas, y eliminar los atributos indicados.\n"
      ],
      "metadata": {
        "id": "MNE1RND6IQbO"
      }
    },
    {
      "cell_type": "code",
      "source": [
        "df = df.drop(['instant', 'dteday', 'atemp', 'workingday', 'registered', 'casual'], axis=1)\n",
        "df = pd.get_dummies(df, columns=['season', 'weathersit', 'mnth', 'hr', 'weekday'])"
      ],
      "metadata": {
        "id": "nNl0uDVTmsqr"
      },
      "execution_count": 28,
      "outputs": []
    },
    {
      "cell_type": "markdown",
      "source": [
        "#### Cambiar la escala en variables cuantitativas (estandarizar).\n",
        "Para que el entrenamiento sea más fácil, estandarizaremos los datos de las variables contínuas, de manera que tengan media 0 y desviación estandar 1.\n",
        "\n",
        "Para esto, en las columnas de variables contínuas usamos la media y desviación estandar de la respectiva columna\n",
        "\n",
        "$$col:=\\frac{col-mean}{standardeviation}$$\n",
        "\n",
        "2. Estandarizar las columnas cuantitativas"
      ],
      "metadata": {
        "id": "P9lXcUDhoI4x"
      }
    },
    {
      "cell_type": "code",
      "source": [
        "#Estandarizar las columnas cuantitativas: cnt, temp, hum, windspeed.\n",
        "\n",
        "df2 = df[['cnt','temp','hum','windspeed']]\n",
        "df = df.drop(columns= ['cnt','temp','hum','windspeed'])\n",
        "\n",
        "\n",
        "normalized_df=(df2-df2.mean())/df2.std()\n",
        "\n",
        "df['cnt'] = normalized_df['cnt']\n",
        "df['temp'] = normalized_df['temp']\n",
        "df['hum'] = normalized_df['hum']\n",
        "df['windspeed'] = normalized_df['windspeed']\n",
        "df.info()"
      ],
      "metadata": {
        "id": "-R8AjJzJoBGJ",
        "colab": {
          "base_uri": "https://localhost:8080/"
        },
        "outputId": "9f615159-1689-4cb9-f1e6-1f2fec8a4f23"
      },
      "execution_count": 29,
      "outputs": [
        {
          "output_type": "stream",
          "name": "stdout",
          "text": [
            "<class 'pandas.core.frame.DataFrame'>\n",
            "RangeIndex: 17379 entries, 0 to 17378\n",
            "Data columns (total 57 columns):\n",
            " #   Column        Non-Null Count  Dtype  \n",
            "---  ------        --------------  -----  \n",
            " 0   yr            17379 non-null  int64  \n",
            " 1   holiday       17379 non-null  int64  \n",
            " 2   season_1      17379 non-null  uint8  \n",
            " 3   season_2      17379 non-null  uint8  \n",
            " 4   season_3      17379 non-null  uint8  \n",
            " 5   season_4      17379 non-null  uint8  \n",
            " 6   weathersit_1  17379 non-null  uint8  \n",
            " 7   weathersit_2  17379 non-null  uint8  \n",
            " 8   weathersit_3  17379 non-null  uint8  \n",
            " 9   weathersit_4  17379 non-null  uint8  \n",
            " 10  mnth_1        17379 non-null  uint8  \n",
            " 11  mnth_2        17379 non-null  uint8  \n",
            " 12  mnth_3        17379 non-null  uint8  \n",
            " 13  mnth_4        17379 non-null  uint8  \n",
            " 14  mnth_5        17379 non-null  uint8  \n",
            " 15  mnth_6        17379 non-null  uint8  \n",
            " 16  mnth_7        17379 non-null  uint8  \n",
            " 17  mnth_8        17379 non-null  uint8  \n",
            " 18  mnth_9        17379 non-null  uint8  \n",
            " 19  mnth_10       17379 non-null  uint8  \n",
            " 20  mnth_11       17379 non-null  uint8  \n",
            " 21  mnth_12       17379 non-null  uint8  \n",
            " 22  hr_0          17379 non-null  uint8  \n",
            " 23  hr_1          17379 non-null  uint8  \n",
            " 24  hr_2          17379 non-null  uint8  \n",
            " 25  hr_3          17379 non-null  uint8  \n",
            " 26  hr_4          17379 non-null  uint8  \n",
            " 27  hr_5          17379 non-null  uint8  \n",
            " 28  hr_6          17379 non-null  uint8  \n",
            " 29  hr_7          17379 non-null  uint8  \n",
            " 30  hr_8          17379 non-null  uint8  \n",
            " 31  hr_9          17379 non-null  uint8  \n",
            " 32  hr_10         17379 non-null  uint8  \n",
            " 33  hr_11         17379 non-null  uint8  \n",
            " 34  hr_12         17379 non-null  uint8  \n",
            " 35  hr_13         17379 non-null  uint8  \n",
            " 36  hr_14         17379 non-null  uint8  \n",
            " 37  hr_15         17379 non-null  uint8  \n",
            " 38  hr_16         17379 non-null  uint8  \n",
            " 39  hr_17         17379 non-null  uint8  \n",
            " 40  hr_18         17379 non-null  uint8  \n",
            " 41  hr_19         17379 non-null  uint8  \n",
            " 42  hr_20         17379 non-null  uint8  \n",
            " 43  hr_21         17379 non-null  uint8  \n",
            " 44  hr_22         17379 non-null  uint8  \n",
            " 45  hr_23         17379 non-null  uint8  \n",
            " 46  weekday_0     17379 non-null  uint8  \n",
            " 47  weekday_1     17379 non-null  uint8  \n",
            " 48  weekday_2     17379 non-null  uint8  \n",
            " 49  weekday_3     17379 non-null  uint8  \n",
            " 50  weekday_4     17379 non-null  uint8  \n",
            " 51  weekday_5     17379 non-null  uint8  \n",
            " 52  weekday_6     17379 non-null  uint8  \n",
            " 53  cnt           17379 non-null  float64\n",
            " 54  temp          17379 non-null  float64\n",
            " 55  hum           17379 non-null  float64\n",
            " 56  windspeed     17379 non-null  float64\n",
            "dtypes: float64(4), int64(2), uint8(51)\n",
            "memory usage: 1.6 MB\n"
          ]
        }
      ]
    },
    {
      "cell_type": "markdown",
      "source": [
        "#### Crear conjuntos de entrenamiento, validación y test\n",
        "\n",
        "3. En esta ocasión seleccionaremos los conjuntos de entrenamiento, vlaidación y test de forma ordenada. Para el test, seleccionaer los datos de aproximadamente los últimos 21 días. Para el conjunto de validación, tomar los datos de aproximadamente los últimos 60 días de los datos restantes.\n",
        "**Observación:** Tenga en cuenta que hay aproximadamente un registro por hora del día. Así que la información de un día corresponde a 24 registros. Esto puede ser de ayuda."
      ],
      "metadata": {
        "id": "_5mCaI9Armma"
      }
    },
    {
      "cell_type": "code",
      "source": [
        "# Definir los conjuntos de train, test y validation. Darles los nombres train, val, test.\n",
        "\n",
        "# Create a dataframe with the first 21 days of data\n",
        "train = df.head(21 * 24)\n",
        "# Create a dataframe with the next 60 days of data\n",
        "val = df.iloc[21 * 24: (21 + 60) * 24]\n",
        "# Create a dataframe with the remaining data\n",
        "test = df.tail((len(df) - (21 + 60) * 24))"
      ],
      "metadata": {
        "id": "UcA98WZnrlGv"
      },
      "execution_count": 30,
      "outputs": []
    },
    {
      "cell_type": "markdown",
      "source": [
        "#### Convertir los datos a tensores y prepararlos para alimentar la red\n",
        "A continuación  crearemos una clase (*MyDataset*) que nos prepara los datos para alimentar la red neuronal, convirtiendolos a parejas ordenadas de tensores conteniento los atributos y la variable objetivo. Sus parámetros son: el dataset df y el nombre de la columna objetivo en el dataset.\n"
      ],
      "metadata": {
        "id": "oe0XyxIFtS1U"
      }
    },
    {
      "cell_type": "code",
      "source": [
        "class MyDataset():\n",
        "\n",
        "  def __init__(self,df,target_column):\n",
        "\n",
        "    y=df[target_column].values\n",
        "    X=df.drop(target_column,axis=1).values\n",
        "    self.X=torch.tensor(X,dtype=torch.float32)\n",
        "    self.y=torch.tensor(y,dtype=torch.float32)\n",
        "\n",
        "  def __len__(self):\n",
        "    return len(self.y)\n",
        "\n",
        "  def __getitem__(self,idx):\n",
        "    return self.X[idx],self.y[idx]"
      ],
      "metadata": {
        "id": "ovRt0NLytnF5"
      },
      "execution_count": 31,
      "outputs": []
    },
    {
      "cell_type": "markdown",
      "source": [
        "Ahora usamos los Dataloaders para los conjuntos set, val y test."
      ],
      "metadata": {
        "id": "CB1Wuh0yuTe_"
      }
    },
    {
      "cell_type": "code",
      "source": [
        "# Usar la clase MyDataset para preparar cada conjunto en forma de tensores\n",
        "train_sec=MyDataset(train,'cnt')\n",
        "test_sec=MyDataset(test,'cnt')\n",
        "val_sec=MyDataset(val,'cnt')"
      ],
      "metadata": {
        "id": "QZs4EuDTuVai"
      },
      "execution_count": 32,
      "outputs": []
    },
    {
      "cell_type": "code",
      "source": [
        "# Definir los DataLoaders para cargar la información por lotes\n",
        "train_data=DataLoader(\n",
        "    train_sec,\n",
        "    batch_size=2,\n",
        "    shuffle=False,\n",
        "    #num_workers=0,\n",
        "    #collate_fn=None,\n",
        "    #pin_memory=False,\n",
        " )\n",
        "\n",
        "test_data=DataLoader(\n",
        "    test_sec,\n",
        "    batch_size=3,\n",
        "    shuffle=False,\n",
        "    num_workers=0,\n",
        "    collate_fn=None,\n",
        "    pin_memory=False,\n",
        " )\n",
        "\n",
        "val_data=DataLoader(\n",
        "    val_sec,\n",
        "    batch_size=3,\n",
        "    shuffle=False,\n",
        "    num_workers=0,\n",
        "    collate_fn=None,\n",
        "    pin_memory=False,\n",
        " )"
      ],
      "metadata": {
        "id": "yJjcOaN7ukXs"
      },
      "execution_count": 33,
      "outputs": []
    },
    {
      "cell_type": "markdown",
      "source": [
        "**Vamos** a imprimir el primer bath del Test Set para visualizar y entender, sus tamaños y cómo el Dataloader ingresan los datos a la red neuronal."
      ],
      "metadata": {
        "id": "OLnxN2WNvPxG"
      }
    },
    {
      "cell_type": "code",
      "source": [
        "for i, (data, labels) in enumerate(test_data):\n",
        "  print(data.shape, labels.shape)\n",
        "  print(data,labels)\n",
        "  break;"
      ],
      "metadata": {
        "id": "YN3DMvb9umEU",
        "colab": {
          "base_uri": "https://localhost:8080/"
        },
        "outputId": "f16c2081-5bba-4a01-bdd3-6cf6b1d7b622"
      },
      "execution_count": 34,
      "outputs": [
        {
          "output_type": "stream",
          "name": "stdout",
          "text": [
            "torch.Size([3, 56]) torch.Size([3])\n",
            "tensor([[ 0.0000,  0.0000,  0.0000,  1.0000,  0.0000,  0.0000,  0.0000,  1.0000,\n",
            "          0.0000,  0.0000,  0.0000,  0.0000,  1.0000,  0.0000,  0.0000,  0.0000,\n",
            "          0.0000,  0.0000,  0.0000,  0.0000,  0.0000,  0.0000,  0.0000,  0.0000,\n",
            "          0.0000,  0.0000,  0.0000,  0.0000,  0.0000,  0.0000,  0.0000,  0.0000,\n",
            "          0.0000,  0.0000,  0.0000,  0.0000,  0.0000,  0.0000,  0.0000,  0.0000,\n",
            "          0.0000,  1.0000,  0.0000,  0.0000,  0.0000,  0.0000,  0.0000,  0.0000,\n",
            "          0.0000,  0.0000,  0.0000,  0.0000,  1.0000, -1.1269, -0.9186,  0.5199],\n",
            "        [ 0.0000,  0.0000,  0.0000,  1.0000,  0.0000,  0.0000,  0.0000,  1.0000,\n",
            "          0.0000,  0.0000,  0.0000,  0.0000,  1.0000,  0.0000,  0.0000,  0.0000,\n",
            "          0.0000,  0.0000,  0.0000,  0.0000,  0.0000,  0.0000,  0.0000,  0.0000,\n",
            "          0.0000,  0.0000,  0.0000,  0.0000,  0.0000,  0.0000,  0.0000,  0.0000,\n",
            "          0.0000,  0.0000,  0.0000,  0.0000,  0.0000,  0.0000,  0.0000,  0.0000,\n",
            "          0.0000,  0.0000,  1.0000,  0.0000,  0.0000,  0.0000,  0.0000,  0.0000,\n",
            "          0.0000,  0.0000,  0.0000,  0.0000,  1.0000, -1.1269, -0.9186,  0.5199],\n",
            "        [ 0.0000,  0.0000,  0.0000,  1.0000,  0.0000,  0.0000,  0.0000,  1.0000,\n",
            "          0.0000,  0.0000,  0.0000,  0.0000,  1.0000,  0.0000,  0.0000,  0.0000,\n",
            "          0.0000,  0.0000,  0.0000,  0.0000,  0.0000,  0.0000,  0.0000,  0.0000,\n",
            "          0.0000,  0.0000,  0.0000,  0.0000,  0.0000,  0.0000,  0.0000,  0.0000,\n",
            "          0.0000,  0.0000,  0.0000,  0.0000,  0.0000,  0.0000,  0.0000,  0.0000,\n",
            "          0.0000,  0.0000,  0.0000,  1.0000,  0.0000,  0.0000,  0.0000,  0.0000,\n",
            "          0.0000,  0.0000,  0.0000,  0.0000,  1.0000, -1.2307, -0.9705,  0.0319]]) tensor([-0.2837, -0.5759, -0.7634])\n"
          ]
        }
      ]
    },
    {
      "cell_type": "markdown",
      "source": [
        "### Definir la classe Net con la estructura de la red neuronal\n",
        "\n",
        "Basándose en el taller pasado, construya una red neuronal que tenga las siguientes características:\n",
        "- Una sola capa oculta. Usted decida el número de nodos. (Puede hacer entrenamientos pequeños, con una sola epoch por ejemplo, para hacer pruebas y decidir un buen número de nodos. Entre más nodos aprenderá más características de los datos, pero tardará más. Busque un buen equilibrio).\n",
        "- Una función de activación signoide para la capa oculta.\n",
        "\n",
        "\n",
        "\n",
        "\n",
        "\n"
      ],
      "metadata": {
        "id": "HbnK1f9asrEb"
      }
    },
    {
      "cell_type": "markdown",
      "source": [
        "4. Escribir el código para definir la arquitectura de su red neuronal."
      ],
      "metadata": {
        "id": "iTmPTsTKJi5y"
      }
    },
    {
      "cell_type": "code",
      "source": [
        "#Escribir el código para la arquitectura de la red neuonal.\n",
        "class Net(nn.Module):\n",
        "    def __init__(self):\n",
        "        super(Net, self).__init__()\n",
        "        self.fc1 = nn.Linear(56, 28)\n",
        "        self.fc2 = nn.Linear(28, 1)\n",
        "    def forward(self, x):\n",
        "        x = F.sigmoid(self.fc1(x))\n",
        "        x = self.fc2(x)\n",
        "        return x\n"
      ],
      "metadata": {
        "id": "u3Bru3KesqG_"
      },
      "execution_count": 35,
      "outputs": []
    },
    {
      "cell_type": "markdown",
      "source": [
        "Revisamos que estemos usando GPU y definimos el dispositivo\n",
        "\n"
      ],
      "metadata": {
        "id": "CzbRdjh-4r9I"
      }
    },
    {
      "cell_type": "code",
      "source": [
        "gpu_avail = torch.cuda.is_available()\n",
        "print(f\"Is the GPU available? {gpu_avail}\")"
      ],
      "metadata": {
        "id": "wndN09Ya4qtM",
        "colab": {
          "base_uri": "https://localhost:8080/"
        },
        "outputId": "8763da80-6ee4-4609-ce7d-ac3272978a32"
      },
      "execution_count": 36,
      "outputs": [
        {
          "output_type": "stream",
          "name": "stdout",
          "text": [
            "Is the GPU available? False\n"
          ]
        }
      ]
    },
    {
      "cell_type": "code",
      "source": [
        "device = torch.device(\"cuda\") if torch.cuda.is_available() else torch.device(\"cpu\")\n",
        "print(\"Device\", device)"
      ],
      "metadata": {
        "id": "rtN8nDig4oQX",
        "colab": {
          "base_uri": "https://localhost:8080/"
        },
        "outputId": "3f132a74-38b7-4dcc-c817-624e9a1848af"
      },
      "execution_count": 37,
      "outputs": [
        {
          "output_type": "stream",
          "name": "stdout",
          "text": [
            "Device cpu\n"
          ]
        }
      ]
    },
    {
      "cell_type": "markdown",
      "source": [
        "5. Definimos el modelo, con el optimizador Stochastic Gradient Descent y la función de pérdida MeanSquareError. Usar learning rate de 0.1."
      ],
      "metadata": {
        "id": "F5KvbK0L5BLY"
      }
    },
    {
      "cell_type": "code",
      "source": [
        "model=Net()\n",
        "\n",
        "#Definir el optimizador Stochastic gradient descent y la función MeanSquareError. Usar Learnig rate de 0.1\n",
        "optimizer = torch.optim.SGD(model.parameters(), lr=0.1)\n",
        "criterion = nn.MSELoss()"
      ],
      "metadata": {
        "id": "JUvzZYcs47NS"
      },
      "execution_count": 38,
      "outputs": []
    },
    {
      "cell_type": "markdown",
      "source": [
        "### Entrenando la red y guardando el mejor modelo\n",
        "\n",
        "A continuación definimos la función de entrenamiento."
      ],
      "metadata": {
        "id": "s68IiHxyADx-"
      }
    },
    {
      "cell_type": "markdown",
      "source": [
        "6. Completar el código a continuación"
      ],
      "metadata": {
        "id": "RhxPNkg3KDR-"
      }
    },
    {
      "cell_type": "code",
      "source": [
        "#pasamos el modelo al dispositivo GPU\n",
        "model.to(device)\n",
        "def train_model(model,optimizer,loss_module,train_loader,valid_loader,num_epochs):\n",
        "\n",
        "  valid_loss_min =np.inf  #Vamos a encontrar el menor valor de error de validación. Por eso la inicializmaos como 'infinito'\n",
        "\n",
        "  for i in range(num_epochs):\n",
        "    model.train()  #ponemos el modelo en modo entrenamiento. Es importante en otras arquitecturas como redes convolucionales.\n",
        "    train_loss = 0.0\n",
        "    valid_loss = 0.0\n",
        "\n",
        "    for data, target in train_loader:\n",
        "        # mover los tensores de atributos y etiquetas al dispositivo GPU\n",
        "        data, target = data.to(device), target.to(device)\n",
        "        # Reiniciar los gradientes\n",
        "        optimizer.zero_grad()\n",
        "        # forward pass: calcular la salida para los datos de entrada.\n",
        "        output = model(data)\n",
        "        # calculate the batch loss\n",
        "        loss = loss_module(output, target)\n",
        "        # backpropagation: cálculo de gradientes\n",
        "        loss.backward()\n",
        "        # actualizar los parámetros\n",
        "        optimizer.step()\n",
        "\n",
        "        # actualizar la cuenta de costos a lo largo de los lotes\n",
        "        train_loss += loss.item()*data.size(0)\n",
        "    # for data,labels in testloader:\n",
        "\n",
        "    train_loss = train_loss/len(train_loader.dataset)\n",
        "\n",
        "    model.eval() #Ponemos el modelo en modo evaluación.\n",
        "\n",
        "\n",
        "\n",
        "\n",
        "    #for param in model.parameters():\n",
        "    #  print(param.data)\n",
        "    # vamos a evaluar el modelo entrenado, calculando predicciones con el conjunto de validación\n",
        "    for data,target in valid_loader:\n",
        "      data=data.to(device)\n",
        "      target=target.to(device)\n",
        "      output=model(data)\n",
        "      loss= criterion(output, target)\n",
        "      valid_loss += loss.item()*data.size(0)\n",
        "    valid_loss = valid_loss/len(valid_loader.dataset)\n",
        "\n",
        "    #imprimir estadísticas de entrenamiento y validación\n",
        "    print('Epoch: {} \\tTraining Loss: {:.6f} \\tValidation Loss: {:.6f}'.format(\n",
        "        i, train_loss, valid_loss))\n",
        "\n",
        "\n",
        "    #Guardamos el modelo con el menor error de validación.\n",
        "    if valid_loss <= valid_loss_min:\n",
        "        print('Validation loss decreased ({:.6f} --> {:.6f}).  Saving model ...'.format(\n",
        "        valid_loss_min,\n",
        "        valid_loss))\n",
        "        torch.save(model.state_dict(), 'model_bikeshare.pt')\n",
        "        valid_loss_min = valid_loss\n",
        "\n",
        "\n"
      ],
      "metadata": {
        "id": "Y_Z3BWIs6DXv"
      },
      "execution_count": 39,
      "outputs": []
    },
    {
      "cell_type": "markdown",
      "source": [
        "Ahora entrene el modelo. Intente primero con una sola epoch para verificar que el codigo esté correcto. Luego de eso prube con más epochs. Con un buen rato de tiempo disponible podría intentar 100, 500, las que más quiera intentar de acuerdo a como vea su desempeño."
      ],
      "metadata": {
        "id": "nXpGJHcO8y4_"
      }
    },
    {
      "cell_type": "code",
      "source": [
        "train_model(model, optimizer,criterion, train_data,val_data,3)\n",
        "#completar"
      ],
      "metadata": {
        "id": "nG7EhC099Rsr",
        "colab": {
          "base_uri": "https://localhost:8080/"
        },
        "outputId": "b70829f4-acfb-4120-a7ed-8e4fa9986add"
      },
      "execution_count": 40,
      "outputs": [
        {
          "output_type": "stream",
          "name": "stderr",
          "text": [
            "/usr/local/lib/python3.10/dist-packages/torch/nn/modules/loss.py:536: UserWarning: Using a target size (torch.Size([2])) that is different to the input size (torch.Size([2, 1])). This will likely lead to incorrect results due to broadcasting. Please ensure they have the same size.\n",
            "  return F.mse_loss(input, target, reduction=self.reduction)\n",
            "/usr/local/lib/python3.10/dist-packages/torch/nn/modules/loss.py:536: UserWarning: Using a target size (torch.Size([3])) that is different to the input size (torch.Size([3, 1])). This will likely lead to incorrect results due to broadcasting. Please ensure they have the same size.\n",
            "  return F.mse_loss(input, target, reduction=self.reduction)\n"
          ]
        },
        {
          "output_type": "stream",
          "name": "stdout",
          "text": [
            "Epoch: 0 \tTraining Loss: 0.095325 \tValidation Loss: 0.309641\n",
            "Validation loss decreased (inf --> 0.309641).  Saving model ...\n",
            "Epoch: 1 \tTraining Loss: 0.069805 \tValidation Loss: 0.346295\n",
            "Epoch: 2 \tTraining Loss: 0.065091 \tValidation Loss: 0.364880\n"
          ]
        }
      ]
    },
    {
      "cell_type": "markdown",
      "source": [
        "Cargamos el mejor modelo obtenido del entrenamiento.\n",
        "*Observación:* En el entrenamiento se guarda un modelo en un archivo .pt usted puede descargar el archivo y guardarlo localmente. De esta forma, si quiere usar el modelo nuevamente sin volver a realizar entrenamiento, sólo carguelo como se indica en la siguiente celda."
      ],
      "metadata": {
        "id": "cZeVo9TJ9dTk"
      }
    },
    {
      "cell_type": "code",
      "source": [
        "model.load_state_dict(torch.load('model_bikeshare.pt'))"
      ],
      "metadata": {
        "id": "V35GtM169Wdd",
        "colab": {
          "base_uri": "https://localhost:8080/"
        },
        "outputId": "a7664430-1996-4724-c74d-ab5bb77d92ed"
      },
      "execution_count": 41,
      "outputs": [
        {
          "output_type": "execute_result",
          "data": {
            "text/plain": [
              "<All keys matched successfully>"
            ]
          },
          "metadata": {},
          "execution_count": 41
        }
      ]
    },
    {
      "cell_type": "markdown",
      "source": [
        "Visualizamos los parámetros del modelo obtenido anteriormente"
      ],
      "metadata": {
        "id": "6yNPImH-9l3k"
      }
    },
    {
      "cell_type": "code",
      "source": [
        "for name, param in model.named_parameters():\n",
        "    if param.requires_grad:\n",
        "        print (name, param.data)"
      ],
      "metadata": {
        "id": "G5f-4tqI9ldc",
        "colab": {
          "base_uri": "https://localhost:8080/"
        },
        "outputId": "efde7cf7-d1cb-443c-dad9-e86594bde4ea"
      },
      "execution_count": 42,
      "outputs": [
        {
          "output_type": "stream",
          "name": "stdout",
          "text": [
            "fc1.weight tensor([[-0.0465, -0.0786,  0.0122,  ...,  0.0043,  0.1232,  0.0990],\n",
            "        [-0.0863, -0.0331, -0.0406,  ...,  0.0056,  0.1173, -0.0857],\n",
            "        [-0.0521,  0.1183, -0.0648,  ...,  0.0579, -0.0144, -0.0805],\n",
            "        ...,\n",
            "        [-0.0973,  0.0584,  0.0667,  ..., -0.0180, -0.0230,  0.0592],\n",
            "        [ 0.1170,  0.0149,  0.0700,  ...,  0.0366,  0.0765,  0.0099],\n",
            "        [ 0.0549, -0.1019, -0.0884,  ...,  0.1836,  0.0333, -0.0067]])\n",
            "fc1.bias tensor([-0.0440, -0.1660,  0.0225, -0.1115, -0.1126, -0.1024, -0.0944,  0.0225,\n",
            "         0.0590, -0.0287, -0.0278,  0.0382,  0.0016, -0.0324,  0.0485, -0.1141,\n",
            "        -0.0500, -0.0969, -0.0984, -0.1587,  0.0481, -0.1503, -0.0525, -0.0194,\n",
            "        -0.1622, -0.1153, -0.0845, -0.0782])\n",
            "fc2.weight tensor([[-0.2282, -0.1560, -0.1844, -0.1673,  0.0854, -0.0203, -0.0190, -0.0376,\n",
            "         -0.1622, -0.0160, -0.0352,  0.0307, -0.0199, -0.0179, -0.0294, -0.0782,\n",
            "          0.0833, -0.0232, -0.0034, -0.1200, -0.0900, -0.0354, -0.2431, -0.1312,\n",
            "         -0.0563, -0.1208,  0.0283, -0.0997]])\n",
            "fc2.bias tensor([-0.1741])\n"
          ]
        }
      ]
    },
    {
      "cell_type": "markdown",
      "source": [
        "### Evaluación del modelo\n",
        "Ahora la prueba final con el test set."
      ],
      "metadata": {
        "id": "j4QIP9as9u7u"
      }
    },
    {
      "cell_type": "code",
      "source": [
        "test_loss=0.0\n",
        "\n",
        "criterion= nn.MSELoss()\n",
        "for data, target in test_data:\n",
        "  data=data.to(device)\n",
        "  target=target.to(device)\n",
        "  output=model(data)\n",
        "  loss= criterion(output,target)\n",
        "  test_loss += loss.item()*data.size(0)\n",
        "test_loss = test_loss/len(test_data.dataset)\n",
        "print('Test Loss: {:.6f}\\n'.format(test_loss))\n"
      ],
      "metadata": {
        "id": "kdELpZLp9uHp",
        "colab": {
          "base_uri": "https://localhost:8080/"
        },
        "outputId": "0ec2908a-4667-494e-83de-f774c3cabf85"
      },
      "execution_count": 43,
      "outputs": [
        {
          "output_type": "stream",
          "name": "stdout",
          "text": [
            "Test Loss: 2.350102\n",
            "\n"
          ]
        }
      ]
    },
    {
      "cell_type": "markdown",
      "source": [
        "### Usando el modelo y analizando su desempeño.\n"
      ],
      "metadata": {
        "id": "7fppYxUZAWq_"
      }
    },
    {
      "cell_type": "markdown",
      "source": [
        "7.  Finalmente, utilice el modelo encontrado para predecir el número de bicicletas rentadas en 100 momentos diferentes. Pueden tomarse, por ejemplo, 100 registros cualesquiera del dataset. Grafique tanto las predicciones como los valores reales. Calcule adicionalmente el Mean Square Error y el Mean Absolute Error.\n",
        "¿Qué tal se desempeña el modelo?¿Qué conclusiones puede extraer del ejercicio?"
      ],
      "metadata": {
        "id": "zmSC3s4J96RC"
      }
    },
    {
      "cell_type": "code",
      "source": [
        "model.eval()\n",
        "import math\n",
        "x1 = MyDataset(test.iloc[[12,120,72]],'cnt')\n",
        "\n",
        "\n",
        "\n",
        "for data, target in x1:\n",
        "  data=data.to(device)\n",
        "  target=target.to(device)\n",
        "  output=model(data)\n",
        "  output = output.to(torch.device(\"cpu\"))\n",
        "  output = output.detach()\n",
        "  print(output)\n",
        "\n",
        "print('Cantidad de bicicletas predecidas en la primera observación: ', round(-0.2242*df2['cnt'].std()+df2['cnt'].mean()), 'Valor real: ', df2['cnt'].iloc[16887])\n",
        "print('Cantidad de bicicletas predecidas en la segunda observación: ', round(-0.1775*df2['cnt'].std()+df2['cnt'].mean()), 'Valor real: ', df2['cnt'].iloc[16995])\n",
        "print('Cantidad de bicicletas predecidas en la tercera observación: ', round(-0.2336*df2['cnt'].std()+df2['cnt'].mean()), 'Valor real: ', df2['cnt'].iloc[16947])"
      ],
      "metadata": {
        "id": "vYyGLkXw944m",
        "colab": {
          "base_uri": "https://localhost:8080/"
        },
        "outputId": "c6402a18-4a53-4eeb-bbc1-7f136322be02"
      },
      "execution_count": 44,
      "outputs": [
        {
          "output_type": "stream",
          "name": "stdout",
          "text": [
            "tensor([-1.0193])\n",
            "tensor([-1.0373])\n",
            "tensor([-1.0142])\n",
            "Cantidad de bicicletas predecidas en la primera observación:  149 Valor real:  154\n",
            "Cantidad de bicicletas predecidas en la segunda observación:  157 Valor real:  156\n",
            "Cantidad de bicicletas predecidas en la tercera observación:  147 Valor real:  148\n"
          ]
        }
      ]
    },
    {
      "cell_type": "markdown",
      "source": [
        "Seleccionamos 3 observaciones del dataset ya existente, especialmente del test set, correspondientes a las filas 12,120,72 de este. Para obetener los resultados del modelo se deben pasar los elementos a predecir a modo de tensor para ser ingresados en la función del modelo. Una vez obtenidos sus predicciones, estos tensores se pasan a la CPU y se separan de sus gradientes. Como se puede evidenciar, al desestandarizar los resultados se obtiene un aproximado del número de bicicletas renatdas ese día. Para los casos escogidos se nota que el modelo funciona de una manera bastante correcta llegando a estar nuy cercanos a los reales y teniendo un máximo de error de 4 unidades por debajo de lo real."
      ],
      "metadata": {
        "id": "L_NWX-MyQBWl"
      }
    }
  ]
}