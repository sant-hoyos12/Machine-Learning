{
  "nbformat": 4,
  "nbformat_minor": 0,
  "metadata": {
    "colab": {
      "provenance": []
    },
    "kernelspec": {
      "name": "python3",
      "display_name": "Python 3"
    },
    "language_info": {
      "name": "python"
    }
  },
  "cells": [
    {
      "cell_type": "markdown",
      "source": [
        "# Taller Regresión lineal, Ridge y Lasso"
      ],
      "metadata": {
        "id": "o5VUaJXwjAX4"
      }
    },
    {
      "cell_type": "markdown",
      "source": [
        "cEn este taller analizaremos métodos de regresión lineal para el conjunto de datos [Hitters](https://www.kaggle.com/datasets/floser/hitters). Cada registro corresponde a un jugador de baseball. Las variables son registros como cantidad de *home runs* o número de años en las ligas mayores. La variable objetivo es el salario de dicho jugador.\n",
        "Usaremos regresión de Ridge y Lasso y las compararemos.\n",
        "\n",
        "- Subir el documento en dos formatos : 1. En formato .ipynb  2. En formato .html.\n",
        "- Enviar a más tardar el martes 10 de octubre.\n",
        "\n"
      ],
      "metadata": {
        "id": "ibE1PgK4IGiF"
      }
    },
    {
      "cell_type": "code",
      "execution_count": 1,
      "metadata": {
        "id": "mnPPGc-kv2gW"
      },
      "outputs": [],
      "source": [
        "#importar paquetes\n",
        "%matplotlib inline\n",
        "\n",
        "import pandas as pd\n",
        "import numpy as np\n",
        "import matplotlib.pyplot as plt\n",
        "from sklearn.preprocessing import scale\n",
        "from sklearn.model_selection import train_test_split\n",
        "from sklearn.linear_model import Ridge, RidgeCV, Lasso, LassoCV\n",
        "from sklearn.metrics import mean_squared_error\n",
        "from sklearn.linear_model import LinearRegression\n",
        "import random\n",
        "\n",
        "from sklearn.preprocessing import StandardScaler"
      ]
    },
    {
      "cell_type": "code",
      "source": [
        "#Evitar la impresión de warnings\n",
        "import warnings\n",
        "warnings.filterwarnings(\"ignore\")"
      ],
      "metadata": {
        "id": "XnKq_XsE24O0"
      },
      "execution_count": 2,
      "outputs": []
    },
    {
      "cell_type": "markdown",
      "source": [
        "En primer lugar, leemos el conjunto de datos e imprimimos la información sobre sus columnas."
      ],
      "metadata": {
        "id": "4MnY7M1vkav9"
      }
    },
    {
      "cell_type": "code",
      "source": [
        "df = pd.read_csv('Hitters.csv').dropna()\n",
        "df.info()\n"
      ],
      "metadata": {
        "id": "hn49Fea4sqPM",
        "colab": {
          "base_uri": "https://localhost:8080/"
        },
        "outputId": "5daa79f3-c272-4e4f-b972-51b0b019c4e2"
      },
      "execution_count": 3,
      "outputs": [
        {
          "output_type": "stream",
          "name": "stdout",
          "text": [
            "<class 'pandas.core.frame.DataFrame'>\n",
            "Int64Index: 263 entries, 1 to 321\n",
            "Data columns (total 20 columns):\n",
            " #   Column     Non-Null Count  Dtype  \n",
            "---  ------     --------------  -----  \n",
            " 0   AtBat      263 non-null    int64  \n",
            " 1   Hits       263 non-null    int64  \n",
            " 2   HmRun      263 non-null    int64  \n",
            " 3   Runs       263 non-null    int64  \n",
            " 4   RBI        263 non-null    int64  \n",
            " 5   Walks      263 non-null    int64  \n",
            " 6   Years      263 non-null    int64  \n",
            " 7   CAtBat     263 non-null    int64  \n",
            " 8   CHits      263 non-null    int64  \n",
            " 9   CHmRun     263 non-null    int64  \n",
            " 10  CRuns      263 non-null    int64  \n",
            " 11  CRBI       263 non-null    int64  \n",
            " 12  CWalks     263 non-null    int64  \n",
            " 13  League     263 non-null    object \n",
            " 14  Division   263 non-null    object \n",
            " 15  PutOuts    263 non-null    int64  \n",
            " 16  Assists    263 non-null    int64  \n",
            " 17  Errors     263 non-null    int64  \n",
            " 18  Salary     263 non-null    float64\n",
            " 19  NewLeague  263 non-null    object \n",
            "dtypes: float64(1), int64(16), object(3)\n",
            "memory usage: 43.1+ KB\n"
          ]
        }
      ]
    },
    {
      "cell_type": "code",
      "source": [
        "df.head()"
      ],
      "metadata": {
        "colab": {
          "base_uri": "https://localhost:8080/",
          "height": 226
        },
        "id": "9It77YoQb5NX",
        "outputId": "d08417cf-5b23-47a6-c6f6-8b94c0050594"
      },
      "execution_count": 4,
      "outputs": [
        {
          "output_type": "execute_result",
          "data": {
            "text/plain": [
              "   AtBat  Hits  HmRun  Runs  RBI  Walks  Years  CAtBat  CHits  CHmRun  CRuns  \\\n",
              "1    315    81      7    24   38     39     14    3449    835      69    321   \n",
              "2    479   130     18    66   72     76      3    1624    457      63    224   \n",
              "3    496   141     20    65   78     37     11    5628   1575     225    828   \n",
              "4    321    87     10    39   42     30      2     396    101      12     48   \n",
              "5    594   169      4    74   51     35     11    4408   1133      19    501   \n",
              "\n",
              "   CRBI  CWalks League Division  PutOuts  Assists  Errors  Salary NewLeague  \n",
              "1   414     375      N        W      632       43      10   475.0         N  \n",
              "2   266     263      A        W      880       82      14   480.0         A  \n",
              "3   838     354      N        E      200       11       3   500.0         N  \n",
              "4    46      33      N        E      805       40       4    91.5         N  \n",
              "5   336     194      A        W      282      421      25   750.0         A  "
            ],
            "text/html": [
              "\n",
              "  <div id=\"df-309c1b8d-22e3-4556-8155-56c0956d56d6\" class=\"colab-df-container\">\n",
              "    <div>\n",
              "<style scoped>\n",
              "    .dataframe tbody tr th:only-of-type {\n",
              "        vertical-align: middle;\n",
              "    }\n",
              "\n",
              "    .dataframe tbody tr th {\n",
              "        vertical-align: top;\n",
              "    }\n",
              "\n",
              "    .dataframe thead th {\n",
              "        text-align: right;\n",
              "    }\n",
              "</style>\n",
              "<table border=\"1\" class=\"dataframe\">\n",
              "  <thead>\n",
              "    <tr style=\"text-align: right;\">\n",
              "      <th></th>\n",
              "      <th>AtBat</th>\n",
              "      <th>Hits</th>\n",
              "      <th>HmRun</th>\n",
              "      <th>Runs</th>\n",
              "      <th>RBI</th>\n",
              "      <th>Walks</th>\n",
              "      <th>Years</th>\n",
              "      <th>CAtBat</th>\n",
              "      <th>CHits</th>\n",
              "      <th>CHmRun</th>\n",
              "      <th>CRuns</th>\n",
              "      <th>CRBI</th>\n",
              "      <th>CWalks</th>\n",
              "      <th>League</th>\n",
              "      <th>Division</th>\n",
              "      <th>PutOuts</th>\n",
              "      <th>Assists</th>\n",
              "      <th>Errors</th>\n",
              "      <th>Salary</th>\n",
              "      <th>NewLeague</th>\n",
              "    </tr>\n",
              "  </thead>\n",
              "  <tbody>\n",
              "    <tr>\n",
              "      <th>1</th>\n",
              "      <td>315</td>\n",
              "      <td>81</td>\n",
              "      <td>7</td>\n",
              "      <td>24</td>\n",
              "      <td>38</td>\n",
              "      <td>39</td>\n",
              "      <td>14</td>\n",
              "      <td>3449</td>\n",
              "      <td>835</td>\n",
              "      <td>69</td>\n",
              "      <td>321</td>\n",
              "      <td>414</td>\n",
              "      <td>375</td>\n",
              "      <td>N</td>\n",
              "      <td>W</td>\n",
              "      <td>632</td>\n",
              "      <td>43</td>\n",
              "      <td>10</td>\n",
              "      <td>475.0</td>\n",
              "      <td>N</td>\n",
              "    </tr>\n",
              "    <tr>\n",
              "      <th>2</th>\n",
              "      <td>479</td>\n",
              "      <td>130</td>\n",
              "      <td>18</td>\n",
              "      <td>66</td>\n",
              "      <td>72</td>\n",
              "      <td>76</td>\n",
              "      <td>3</td>\n",
              "      <td>1624</td>\n",
              "      <td>457</td>\n",
              "      <td>63</td>\n",
              "      <td>224</td>\n",
              "      <td>266</td>\n",
              "      <td>263</td>\n",
              "      <td>A</td>\n",
              "      <td>W</td>\n",
              "      <td>880</td>\n",
              "      <td>82</td>\n",
              "      <td>14</td>\n",
              "      <td>480.0</td>\n",
              "      <td>A</td>\n",
              "    </tr>\n",
              "    <tr>\n",
              "      <th>3</th>\n",
              "      <td>496</td>\n",
              "      <td>141</td>\n",
              "      <td>20</td>\n",
              "      <td>65</td>\n",
              "      <td>78</td>\n",
              "      <td>37</td>\n",
              "      <td>11</td>\n",
              "      <td>5628</td>\n",
              "      <td>1575</td>\n",
              "      <td>225</td>\n",
              "      <td>828</td>\n",
              "      <td>838</td>\n",
              "      <td>354</td>\n",
              "      <td>N</td>\n",
              "      <td>E</td>\n",
              "      <td>200</td>\n",
              "      <td>11</td>\n",
              "      <td>3</td>\n",
              "      <td>500.0</td>\n",
              "      <td>N</td>\n",
              "    </tr>\n",
              "    <tr>\n",
              "      <th>4</th>\n",
              "      <td>321</td>\n",
              "      <td>87</td>\n",
              "      <td>10</td>\n",
              "      <td>39</td>\n",
              "      <td>42</td>\n",
              "      <td>30</td>\n",
              "      <td>2</td>\n",
              "      <td>396</td>\n",
              "      <td>101</td>\n",
              "      <td>12</td>\n",
              "      <td>48</td>\n",
              "      <td>46</td>\n",
              "      <td>33</td>\n",
              "      <td>N</td>\n",
              "      <td>E</td>\n",
              "      <td>805</td>\n",
              "      <td>40</td>\n",
              "      <td>4</td>\n",
              "      <td>91.5</td>\n",
              "      <td>N</td>\n",
              "    </tr>\n",
              "    <tr>\n",
              "      <th>5</th>\n",
              "      <td>594</td>\n",
              "      <td>169</td>\n",
              "      <td>4</td>\n",
              "      <td>74</td>\n",
              "      <td>51</td>\n",
              "      <td>35</td>\n",
              "      <td>11</td>\n",
              "      <td>4408</td>\n",
              "      <td>1133</td>\n",
              "      <td>19</td>\n",
              "      <td>501</td>\n",
              "      <td>336</td>\n",
              "      <td>194</td>\n",
              "      <td>A</td>\n",
              "      <td>W</td>\n",
              "      <td>282</td>\n",
              "      <td>421</td>\n",
              "      <td>25</td>\n",
              "      <td>750.0</td>\n",
              "      <td>A</td>\n",
              "    </tr>\n",
              "  </tbody>\n",
              "</table>\n",
              "</div>\n",
              "    <div class=\"colab-df-buttons\">\n",
              "\n",
              "  <div class=\"colab-df-container\">\n",
              "    <button class=\"colab-df-convert\" onclick=\"convertToInteractive('df-309c1b8d-22e3-4556-8155-56c0956d56d6')\"\n",
              "            title=\"Convert this dataframe to an interactive table.\"\n",
              "            style=\"display:none;\">\n",
              "\n",
              "  <svg xmlns=\"http://www.w3.org/2000/svg\" height=\"24px\" viewBox=\"0 -960 960 960\">\n",
              "    <path d=\"M120-120v-720h720v720H120Zm60-500h600v-160H180v160Zm220 220h160v-160H400v160Zm0 220h160v-160H400v160ZM180-400h160v-160H180v160Zm440 0h160v-160H620v160ZM180-180h160v-160H180v160Zm440 0h160v-160H620v160Z\"/>\n",
              "  </svg>\n",
              "    </button>\n",
              "\n",
              "  <style>\n",
              "    .colab-df-container {\n",
              "      display:flex;\n",
              "      gap: 12px;\n",
              "    }\n",
              "\n",
              "    .colab-df-convert {\n",
              "      background-color: #E8F0FE;\n",
              "      border: none;\n",
              "      border-radius: 50%;\n",
              "      cursor: pointer;\n",
              "      display: none;\n",
              "      fill: #1967D2;\n",
              "      height: 32px;\n",
              "      padding: 0 0 0 0;\n",
              "      width: 32px;\n",
              "    }\n",
              "\n",
              "    .colab-df-convert:hover {\n",
              "      background-color: #E2EBFA;\n",
              "      box-shadow: 0px 1px 2px rgba(60, 64, 67, 0.3), 0px 1px 3px 1px rgba(60, 64, 67, 0.15);\n",
              "      fill: #174EA6;\n",
              "    }\n",
              "\n",
              "    .colab-df-buttons div {\n",
              "      margin-bottom: 4px;\n",
              "    }\n",
              "\n",
              "    [theme=dark] .colab-df-convert {\n",
              "      background-color: #3B4455;\n",
              "      fill: #D2E3FC;\n",
              "    }\n",
              "\n",
              "    [theme=dark] .colab-df-convert:hover {\n",
              "      background-color: #434B5C;\n",
              "      box-shadow: 0px 1px 3px 1px rgba(0, 0, 0, 0.15);\n",
              "      filter: drop-shadow(0px 1px 2px rgba(0, 0, 0, 0.3));\n",
              "      fill: #FFFFFF;\n",
              "    }\n",
              "  </style>\n",
              "\n",
              "    <script>\n",
              "      const buttonEl =\n",
              "        document.querySelector('#df-309c1b8d-22e3-4556-8155-56c0956d56d6 button.colab-df-convert');\n",
              "      buttonEl.style.display =\n",
              "        google.colab.kernel.accessAllowed ? 'block' : 'none';\n",
              "\n",
              "      async function convertToInteractive(key) {\n",
              "        const element = document.querySelector('#df-309c1b8d-22e3-4556-8155-56c0956d56d6');\n",
              "        const dataTable =\n",
              "          await google.colab.kernel.invokeFunction('convertToInteractive',\n",
              "                                                    [key], {});\n",
              "        if (!dataTable) return;\n",
              "\n",
              "        const docLinkHtml = 'Like what you see? Visit the ' +\n",
              "          '<a target=\"_blank\" href=https://colab.research.google.com/notebooks/data_table.ipynb>data table notebook</a>'\n",
              "          + ' to learn more about interactive tables.';\n",
              "        element.innerHTML = '';\n",
              "        dataTable['output_type'] = 'display_data';\n",
              "        await google.colab.output.renderOutput(dataTable, element);\n",
              "        const docLink = document.createElement('div');\n",
              "        docLink.innerHTML = docLinkHtml;\n",
              "        element.appendChild(docLink);\n",
              "      }\n",
              "    </script>\n",
              "  </div>\n",
              "\n",
              "\n",
              "<div id=\"df-8c05c961-8880-49d4-aea0-53925fca59fe\">\n",
              "  <button class=\"colab-df-quickchart\" onclick=\"quickchart('df-8c05c961-8880-49d4-aea0-53925fca59fe')\"\n",
              "            title=\"Suggest charts.\"\n",
              "            style=\"display:none;\">\n",
              "\n",
              "<svg xmlns=\"http://www.w3.org/2000/svg\" height=\"24px\"viewBox=\"0 0 24 24\"\n",
              "     width=\"24px\">\n",
              "    <g>\n",
              "        <path d=\"M19 3H5c-1.1 0-2 .9-2 2v14c0 1.1.9 2 2 2h14c1.1 0 2-.9 2-2V5c0-1.1-.9-2-2-2zM9 17H7v-7h2v7zm4 0h-2V7h2v10zm4 0h-2v-4h2v4z\"/>\n",
              "    </g>\n",
              "</svg>\n",
              "  </button>\n",
              "\n",
              "<style>\n",
              "  .colab-df-quickchart {\n",
              "      --bg-color: #E8F0FE;\n",
              "      --fill-color: #1967D2;\n",
              "      --hover-bg-color: #E2EBFA;\n",
              "      --hover-fill-color: #174EA6;\n",
              "      --disabled-fill-color: #AAA;\n",
              "      --disabled-bg-color: #DDD;\n",
              "  }\n",
              "\n",
              "  [theme=dark] .colab-df-quickchart {\n",
              "      --bg-color: #3B4455;\n",
              "      --fill-color: #D2E3FC;\n",
              "      --hover-bg-color: #434B5C;\n",
              "      --hover-fill-color: #FFFFFF;\n",
              "      --disabled-bg-color: #3B4455;\n",
              "      --disabled-fill-color: #666;\n",
              "  }\n",
              "\n",
              "  .colab-df-quickchart {\n",
              "    background-color: var(--bg-color);\n",
              "    border: none;\n",
              "    border-radius: 50%;\n",
              "    cursor: pointer;\n",
              "    display: none;\n",
              "    fill: var(--fill-color);\n",
              "    height: 32px;\n",
              "    padding: 0;\n",
              "    width: 32px;\n",
              "  }\n",
              "\n",
              "  .colab-df-quickchart:hover {\n",
              "    background-color: var(--hover-bg-color);\n",
              "    box-shadow: 0 1px 2px rgba(60, 64, 67, 0.3), 0 1px 3px 1px rgba(60, 64, 67, 0.15);\n",
              "    fill: var(--button-hover-fill-color);\n",
              "  }\n",
              "\n",
              "  .colab-df-quickchart-complete:disabled,\n",
              "  .colab-df-quickchart-complete:disabled:hover {\n",
              "    background-color: var(--disabled-bg-color);\n",
              "    fill: var(--disabled-fill-color);\n",
              "    box-shadow: none;\n",
              "  }\n",
              "\n",
              "  .colab-df-spinner {\n",
              "    border: 2px solid var(--fill-color);\n",
              "    border-color: transparent;\n",
              "    border-bottom-color: var(--fill-color);\n",
              "    animation:\n",
              "      spin 1s steps(1) infinite;\n",
              "  }\n",
              "\n",
              "  @keyframes spin {\n",
              "    0% {\n",
              "      border-color: transparent;\n",
              "      border-bottom-color: var(--fill-color);\n",
              "      border-left-color: var(--fill-color);\n",
              "    }\n",
              "    20% {\n",
              "      border-color: transparent;\n",
              "      border-left-color: var(--fill-color);\n",
              "      border-top-color: var(--fill-color);\n",
              "    }\n",
              "    30% {\n",
              "      border-color: transparent;\n",
              "      border-left-color: var(--fill-color);\n",
              "      border-top-color: var(--fill-color);\n",
              "      border-right-color: var(--fill-color);\n",
              "    }\n",
              "    40% {\n",
              "      border-color: transparent;\n",
              "      border-right-color: var(--fill-color);\n",
              "      border-top-color: var(--fill-color);\n",
              "    }\n",
              "    60% {\n",
              "      border-color: transparent;\n",
              "      border-right-color: var(--fill-color);\n",
              "    }\n",
              "    80% {\n",
              "      border-color: transparent;\n",
              "      border-right-color: var(--fill-color);\n",
              "      border-bottom-color: var(--fill-color);\n",
              "    }\n",
              "    90% {\n",
              "      border-color: transparent;\n",
              "      border-bottom-color: var(--fill-color);\n",
              "    }\n",
              "  }\n",
              "</style>\n",
              "\n",
              "  <script>\n",
              "    async function quickchart(key) {\n",
              "      const quickchartButtonEl =\n",
              "        document.querySelector('#' + key + ' button');\n",
              "      quickchartButtonEl.disabled = true;  // To prevent multiple clicks.\n",
              "      quickchartButtonEl.classList.add('colab-df-spinner');\n",
              "      try {\n",
              "        const charts = await google.colab.kernel.invokeFunction(\n",
              "            'suggestCharts', [key], {});\n",
              "      } catch (error) {\n",
              "        console.error('Error during call to suggestCharts:', error);\n",
              "      }\n",
              "      quickchartButtonEl.classList.remove('colab-df-spinner');\n",
              "      quickchartButtonEl.classList.add('colab-df-quickchart-complete');\n",
              "    }\n",
              "    (() => {\n",
              "      let quickchartButtonEl =\n",
              "        document.querySelector('#df-8c05c961-8880-49d4-aea0-53925fca59fe button');\n",
              "      quickchartButtonEl.style.display =\n",
              "        google.colab.kernel.accessAllowed ? 'block' : 'none';\n",
              "    })();\n",
              "  </script>\n",
              "</div>\n",
              "    </div>\n",
              "  </div>\n"
            ]
          },
          "metadata": {},
          "execution_count": 4
        }
      ]
    },
    {
      "cell_type": "markdown",
      "source": [
        "1. Codificar las variables categóricas como variables Dummy. Separar la variable objetivo con el nombre 'y'. El resto del dataset llamarlo 'X'."
      ],
      "metadata": {
        "id": "A43EfHZvmTx1"
      }
    },
    {
      "cell_type": "code",
      "source": [
        "# Cambiamos las variables categoricas (Leangue, Division y NewLeague) como variables Dummy\n",
        "\n",
        "df = pd.get_dummies(df,columns=['League'])\n",
        "df = pd.get_dummies(df,columns=['Division'])\n",
        "df = pd.get_dummies(df,columns=['NewLeague'])\n",
        "df.head()\n"
      ],
      "metadata": {
        "colab": {
          "base_uri": "https://localhost:8080/",
          "height": 256
        },
        "id": "dCLmEKhIZ5Qo",
        "outputId": "de702403-1b08-4d47-aa75-94ab548a529c"
      },
      "execution_count": 5,
      "outputs": [
        {
          "output_type": "execute_result",
          "data": {
            "text/plain": [
              "   AtBat  Hits  HmRun  Runs  RBI  Walks  Years  CAtBat  CHits  CHmRun  ...  \\\n",
              "1    315    81      7    24   38     39     14    3449    835      69  ...   \n",
              "2    479   130     18    66   72     76      3    1624    457      63  ...   \n",
              "3    496   141     20    65   78     37     11    5628   1575     225  ...   \n",
              "4    321    87     10    39   42     30      2     396    101      12  ...   \n",
              "5    594   169      4    74   51     35     11    4408   1133      19  ...   \n",
              "\n",
              "   PutOuts  Assists  Errors  Salary  League_A  League_N  Division_E  \\\n",
              "1      632       43      10   475.0         0         1           0   \n",
              "2      880       82      14   480.0         1         0           0   \n",
              "3      200       11       3   500.0         0         1           1   \n",
              "4      805       40       4    91.5         0         1           1   \n",
              "5      282      421      25   750.0         1         0           0   \n",
              "\n",
              "   Division_W  NewLeague_A  NewLeague_N  \n",
              "1           1            0            1  \n",
              "2           1            1            0  \n",
              "3           0            0            1  \n",
              "4           0            0            1  \n",
              "5           1            1            0  \n",
              "\n",
              "[5 rows x 23 columns]"
            ],
            "text/html": [
              "\n",
              "  <div id=\"df-702cdc56-dd65-4d9b-9cc3-08879b768aac\" class=\"colab-df-container\">\n",
              "    <div>\n",
              "<style scoped>\n",
              "    .dataframe tbody tr th:only-of-type {\n",
              "        vertical-align: middle;\n",
              "    }\n",
              "\n",
              "    .dataframe tbody tr th {\n",
              "        vertical-align: top;\n",
              "    }\n",
              "\n",
              "    .dataframe thead th {\n",
              "        text-align: right;\n",
              "    }\n",
              "</style>\n",
              "<table border=\"1\" class=\"dataframe\">\n",
              "  <thead>\n",
              "    <tr style=\"text-align: right;\">\n",
              "      <th></th>\n",
              "      <th>AtBat</th>\n",
              "      <th>Hits</th>\n",
              "      <th>HmRun</th>\n",
              "      <th>Runs</th>\n",
              "      <th>RBI</th>\n",
              "      <th>Walks</th>\n",
              "      <th>Years</th>\n",
              "      <th>CAtBat</th>\n",
              "      <th>CHits</th>\n",
              "      <th>CHmRun</th>\n",
              "      <th>...</th>\n",
              "      <th>PutOuts</th>\n",
              "      <th>Assists</th>\n",
              "      <th>Errors</th>\n",
              "      <th>Salary</th>\n",
              "      <th>League_A</th>\n",
              "      <th>League_N</th>\n",
              "      <th>Division_E</th>\n",
              "      <th>Division_W</th>\n",
              "      <th>NewLeague_A</th>\n",
              "      <th>NewLeague_N</th>\n",
              "    </tr>\n",
              "  </thead>\n",
              "  <tbody>\n",
              "    <tr>\n",
              "      <th>1</th>\n",
              "      <td>315</td>\n",
              "      <td>81</td>\n",
              "      <td>7</td>\n",
              "      <td>24</td>\n",
              "      <td>38</td>\n",
              "      <td>39</td>\n",
              "      <td>14</td>\n",
              "      <td>3449</td>\n",
              "      <td>835</td>\n",
              "      <td>69</td>\n",
              "      <td>...</td>\n",
              "      <td>632</td>\n",
              "      <td>43</td>\n",
              "      <td>10</td>\n",
              "      <td>475.0</td>\n",
              "      <td>0</td>\n",
              "      <td>1</td>\n",
              "      <td>0</td>\n",
              "      <td>1</td>\n",
              "      <td>0</td>\n",
              "      <td>1</td>\n",
              "    </tr>\n",
              "    <tr>\n",
              "      <th>2</th>\n",
              "      <td>479</td>\n",
              "      <td>130</td>\n",
              "      <td>18</td>\n",
              "      <td>66</td>\n",
              "      <td>72</td>\n",
              "      <td>76</td>\n",
              "      <td>3</td>\n",
              "      <td>1624</td>\n",
              "      <td>457</td>\n",
              "      <td>63</td>\n",
              "      <td>...</td>\n",
              "      <td>880</td>\n",
              "      <td>82</td>\n",
              "      <td>14</td>\n",
              "      <td>480.0</td>\n",
              "      <td>1</td>\n",
              "      <td>0</td>\n",
              "      <td>0</td>\n",
              "      <td>1</td>\n",
              "      <td>1</td>\n",
              "      <td>0</td>\n",
              "    </tr>\n",
              "    <tr>\n",
              "      <th>3</th>\n",
              "      <td>496</td>\n",
              "      <td>141</td>\n",
              "      <td>20</td>\n",
              "      <td>65</td>\n",
              "      <td>78</td>\n",
              "      <td>37</td>\n",
              "      <td>11</td>\n",
              "      <td>5628</td>\n",
              "      <td>1575</td>\n",
              "      <td>225</td>\n",
              "      <td>...</td>\n",
              "      <td>200</td>\n",
              "      <td>11</td>\n",
              "      <td>3</td>\n",
              "      <td>500.0</td>\n",
              "      <td>0</td>\n",
              "      <td>1</td>\n",
              "      <td>1</td>\n",
              "      <td>0</td>\n",
              "      <td>0</td>\n",
              "      <td>1</td>\n",
              "    </tr>\n",
              "    <tr>\n",
              "      <th>4</th>\n",
              "      <td>321</td>\n",
              "      <td>87</td>\n",
              "      <td>10</td>\n",
              "      <td>39</td>\n",
              "      <td>42</td>\n",
              "      <td>30</td>\n",
              "      <td>2</td>\n",
              "      <td>396</td>\n",
              "      <td>101</td>\n",
              "      <td>12</td>\n",
              "      <td>...</td>\n",
              "      <td>805</td>\n",
              "      <td>40</td>\n",
              "      <td>4</td>\n",
              "      <td>91.5</td>\n",
              "      <td>0</td>\n",
              "      <td>1</td>\n",
              "      <td>1</td>\n",
              "      <td>0</td>\n",
              "      <td>0</td>\n",
              "      <td>1</td>\n",
              "    </tr>\n",
              "    <tr>\n",
              "      <th>5</th>\n",
              "      <td>594</td>\n",
              "      <td>169</td>\n",
              "      <td>4</td>\n",
              "      <td>74</td>\n",
              "      <td>51</td>\n",
              "      <td>35</td>\n",
              "      <td>11</td>\n",
              "      <td>4408</td>\n",
              "      <td>1133</td>\n",
              "      <td>19</td>\n",
              "      <td>...</td>\n",
              "      <td>282</td>\n",
              "      <td>421</td>\n",
              "      <td>25</td>\n",
              "      <td>750.0</td>\n",
              "      <td>1</td>\n",
              "      <td>0</td>\n",
              "      <td>0</td>\n",
              "      <td>1</td>\n",
              "      <td>1</td>\n",
              "      <td>0</td>\n",
              "    </tr>\n",
              "  </tbody>\n",
              "</table>\n",
              "<p>5 rows × 23 columns</p>\n",
              "</div>\n",
              "    <div class=\"colab-df-buttons\">\n",
              "\n",
              "  <div class=\"colab-df-container\">\n",
              "    <button class=\"colab-df-convert\" onclick=\"convertToInteractive('df-702cdc56-dd65-4d9b-9cc3-08879b768aac')\"\n",
              "            title=\"Convert this dataframe to an interactive table.\"\n",
              "            style=\"display:none;\">\n",
              "\n",
              "  <svg xmlns=\"http://www.w3.org/2000/svg\" height=\"24px\" viewBox=\"0 -960 960 960\">\n",
              "    <path d=\"M120-120v-720h720v720H120Zm60-500h600v-160H180v160Zm220 220h160v-160H400v160Zm0 220h160v-160H400v160ZM180-400h160v-160H180v160Zm440 0h160v-160H620v160ZM180-180h160v-160H180v160Zm440 0h160v-160H620v160Z\"/>\n",
              "  </svg>\n",
              "    </button>\n",
              "\n",
              "  <style>\n",
              "    .colab-df-container {\n",
              "      display:flex;\n",
              "      gap: 12px;\n",
              "    }\n",
              "\n",
              "    .colab-df-convert {\n",
              "      background-color: #E8F0FE;\n",
              "      border: none;\n",
              "      border-radius: 50%;\n",
              "      cursor: pointer;\n",
              "      display: none;\n",
              "      fill: #1967D2;\n",
              "      height: 32px;\n",
              "      padding: 0 0 0 0;\n",
              "      width: 32px;\n",
              "    }\n",
              "\n",
              "    .colab-df-convert:hover {\n",
              "      background-color: #E2EBFA;\n",
              "      box-shadow: 0px 1px 2px rgba(60, 64, 67, 0.3), 0px 1px 3px 1px rgba(60, 64, 67, 0.15);\n",
              "      fill: #174EA6;\n",
              "    }\n",
              "\n",
              "    .colab-df-buttons div {\n",
              "      margin-bottom: 4px;\n",
              "    }\n",
              "\n",
              "    [theme=dark] .colab-df-convert {\n",
              "      background-color: #3B4455;\n",
              "      fill: #D2E3FC;\n",
              "    }\n",
              "\n",
              "    [theme=dark] .colab-df-convert:hover {\n",
              "      background-color: #434B5C;\n",
              "      box-shadow: 0px 1px 3px 1px rgba(0, 0, 0, 0.15);\n",
              "      filter: drop-shadow(0px 1px 2px rgba(0, 0, 0, 0.3));\n",
              "      fill: #FFFFFF;\n",
              "    }\n",
              "  </style>\n",
              "\n",
              "    <script>\n",
              "      const buttonEl =\n",
              "        document.querySelector('#df-702cdc56-dd65-4d9b-9cc3-08879b768aac button.colab-df-convert');\n",
              "      buttonEl.style.display =\n",
              "        google.colab.kernel.accessAllowed ? 'block' : 'none';\n",
              "\n",
              "      async function convertToInteractive(key) {\n",
              "        const element = document.querySelector('#df-702cdc56-dd65-4d9b-9cc3-08879b768aac');\n",
              "        const dataTable =\n",
              "          await google.colab.kernel.invokeFunction('convertToInteractive',\n",
              "                                                    [key], {});\n",
              "        if (!dataTable) return;\n",
              "\n",
              "        const docLinkHtml = 'Like what you see? Visit the ' +\n",
              "          '<a target=\"_blank\" href=https://colab.research.google.com/notebooks/data_table.ipynb>data table notebook</a>'\n",
              "          + ' to learn more about interactive tables.';\n",
              "        element.innerHTML = '';\n",
              "        dataTable['output_type'] = 'display_data';\n",
              "        await google.colab.output.renderOutput(dataTable, element);\n",
              "        const docLink = document.createElement('div');\n",
              "        docLink.innerHTML = docLinkHtml;\n",
              "        element.appendChild(docLink);\n",
              "      }\n",
              "    </script>\n",
              "  </div>\n",
              "\n",
              "\n",
              "<div id=\"df-2a42c7e2-eb03-4dc4-a6e3-31349ca5f6f6\">\n",
              "  <button class=\"colab-df-quickchart\" onclick=\"quickchart('df-2a42c7e2-eb03-4dc4-a6e3-31349ca5f6f6')\"\n",
              "            title=\"Suggest charts.\"\n",
              "            style=\"display:none;\">\n",
              "\n",
              "<svg xmlns=\"http://www.w3.org/2000/svg\" height=\"24px\"viewBox=\"0 0 24 24\"\n",
              "     width=\"24px\">\n",
              "    <g>\n",
              "        <path d=\"M19 3H5c-1.1 0-2 .9-2 2v14c0 1.1.9 2 2 2h14c1.1 0 2-.9 2-2V5c0-1.1-.9-2-2-2zM9 17H7v-7h2v7zm4 0h-2V7h2v10zm4 0h-2v-4h2v4z\"/>\n",
              "    </g>\n",
              "</svg>\n",
              "  </button>\n",
              "\n",
              "<style>\n",
              "  .colab-df-quickchart {\n",
              "      --bg-color: #E8F0FE;\n",
              "      --fill-color: #1967D2;\n",
              "      --hover-bg-color: #E2EBFA;\n",
              "      --hover-fill-color: #174EA6;\n",
              "      --disabled-fill-color: #AAA;\n",
              "      --disabled-bg-color: #DDD;\n",
              "  }\n",
              "\n",
              "  [theme=dark] .colab-df-quickchart {\n",
              "      --bg-color: #3B4455;\n",
              "      --fill-color: #D2E3FC;\n",
              "      --hover-bg-color: #434B5C;\n",
              "      --hover-fill-color: #FFFFFF;\n",
              "      --disabled-bg-color: #3B4455;\n",
              "      --disabled-fill-color: #666;\n",
              "  }\n",
              "\n",
              "  .colab-df-quickchart {\n",
              "    background-color: var(--bg-color);\n",
              "    border: none;\n",
              "    border-radius: 50%;\n",
              "    cursor: pointer;\n",
              "    display: none;\n",
              "    fill: var(--fill-color);\n",
              "    height: 32px;\n",
              "    padding: 0;\n",
              "    width: 32px;\n",
              "  }\n",
              "\n",
              "  .colab-df-quickchart:hover {\n",
              "    background-color: var(--hover-bg-color);\n",
              "    box-shadow: 0 1px 2px rgba(60, 64, 67, 0.3), 0 1px 3px 1px rgba(60, 64, 67, 0.15);\n",
              "    fill: var(--button-hover-fill-color);\n",
              "  }\n",
              "\n",
              "  .colab-df-quickchart-complete:disabled,\n",
              "  .colab-df-quickchart-complete:disabled:hover {\n",
              "    background-color: var(--disabled-bg-color);\n",
              "    fill: var(--disabled-fill-color);\n",
              "    box-shadow: none;\n",
              "  }\n",
              "\n",
              "  .colab-df-spinner {\n",
              "    border: 2px solid var(--fill-color);\n",
              "    border-color: transparent;\n",
              "    border-bottom-color: var(--fill-color);\n",
              "    animation:\n",
              "      spin 1s steps(1) infinite;\n",
              "  }\n",
              "\n",
              "  @keyframes spin {\n",
              "    0% {\n",
              "      border-color: transparent;\n",
              "      border-bottom-color: var(--fill-color);\n",
              "      border-left-color: var(--fill-color);\n",
              "    }\n",
              "    20% {\n",
              "      border-color: transparent;\n",
              "      border-left-color: var(--fill-color);\n",
              "      border-top-color: var(--fill-color);\n",
              "    }\n",
              "    30% {\n",
              "      border-color: transparent;\n",
              "      border-left-color: var(--fill-color);\n",
              "      border-top-color: var(--fill-color);\n",
              "      border-right-color: var(--fill-color);\n",
              "    }\n",
              "    40% {\n",
              "      border-color: transparent;\n",
              "      border-right-color: var(--fill-color);\n",
              "      border-top-color: var(--fill-color);\n",
              "    }\n",
              "    60% {\n",
              "      border-color: transparent;\n",
              "      border-right-color: var(--fill-color);\n",
              "    }\n",
              "    80% {\n",
              "      border-color: transparent;\n",
              "      border-right-color: var(--fill-color);\n",
              "      border-bottom-color: var(--fill-color);\n",
              "    }\n",
              "    90% {\n",
              "      border-color: transparent;\n",
              "      border-bottom-color: var(--fill-color);\n",
              "    }\n",
              "  }\n",
              "</style>\n",
              "\n",
              "  <script>\n",
              "    async function quickchart(key) {\n",
              "      const quickchartButtonEl =\n",
              "        document.querySelector('#' + key + ' button');\n",
              "      quickchartButtonEl.disabled = true;  // To prevent multiple clicks.\n",
              "      quickchartButtonEl.classList.add('colab-df-spinner');\n",
              "      try {\n",
              "        const charts = await google.colab.kernel.invokeFunction(\n",
              "            'suggestCharts', [key], {});\n",
              "      } catch (error) {\n",
              "        console.error('Error during call to suggestCharts:', error);\n",
              "      }\n",
              "      quickchartButtonEl.classList.remove('colab-df-spinner');\n",
              "      quickchartButtonEl.classList.add('colab-df-quickchart-complete');\n",
              "    }\n",
              "    (() => {\n",
              "      let quickchartButtonEl =\n",
              "        document.querySelector('#df-2a42c7e2-eb03-4dc4-a6e3-31349ca5f6f6 button');\n",
              "      quickchartButtonEl.style.display =\n",
              "        google.colab.kernel.accessAllowed ? 'block' : 'none';\n",
              "    })();\n",
              "  </script>\n",
              "</div>\n",
              "    </div>\n",
              "  </div>\n"
            ]
          },
          "metadata": {},
          "execution_count": 5
        }
      ]
    },
    {
      "cell_type": "code",
      "source": [
        "# Separamos la variable objetivo con el nombre 'y'. El resto del dataset llamarlo 'X'.\n",
        "y = df['Salary']\n",
        "X = df.drop(columns=['Salary'])"
      ],
      "metadata": {
        "id": "U4SLs6FSepVK"
      },
      "execution_count": 6,
      "outputs": []
    },
    {
      "cell_type": "markdown",
      "source": [
        "Vamos a generar valores de Lambda equidistantes para experimentar sobre un intervalo. Estos valores se encuentran entre 10^(-2) y 10^10. Experimentaremos con 100 valores distintos de lambda. Para esto usamos *linspace* de Numpy:"
      ],
      "metadata": {
        "id": "9cdjFZR9lWGS"
      }
    },
    {
      "cell_type": "code",
      "source": [
        "# Creamos una lista con posibles valores para el parámetro Lambda para los algoritmos Ridge y Lasso\n",
        "lambdas = 10**np.linspace(10,-2,100)\n",
        "lambdas"
      ],
      "metadata": {
        "id": "k7REJ95dtiuL",
        "colab": {
          "base_uri": "https://localhost:8080/"
        },
        "outputId": "3665fd84-eb6a-4dde-854e-eff162b4d65d"
      },
      "execution_count": 7,
      "outputs": [
        {
          "output_type": "execute_result",
          "data": {
            "text/plain": [
              "array([1.00000000e+10, 7.56463328e+09, 5.72236766e+09, 4.32876128e+09,\n",
              "       3.27454916e+09, 2.47707636e+09, 1.87381742e+09, 1.41747416e+09,\n",
              "       1.07226722e+09, 8.11130831e+08, 6.13590727e+08, 4.64158883e+08,\n",
              "       3.51119173e+08, 2.65608778e+08, 2.00923300e+08, 1.51991108e+08,\n",
              "       1.14975700e+08, 8.69749003e+07, 6.57933225e+07, 4.97702356e+07,\n",
              "       3.76493581e+07, 2.84803587e+07, 2.15443469e+07, 1.62975083e+07,\n",
              "       1.23284674e+07, 9.32603347e+06, 7.05480231e+06, 5.33669923e+06,\n",
              "       4.03701726e+06, 3.05385551e+06, 2.31012970e+06, 1.74752840e+06,\n",
              "       1.32194115e+06, 1.00000000e+06, 7.56463328e+05, 5.72236766e+05,\n",
              "       4.32876128e+05, 3.27454916e+05, 2.47707636e+05, 1.87381742e+05,\n",
              "       1.41747416e+05, 1.07226722e+05, 8.11130831e+04, 6.13590727e+04,\n",
              "       4.64158883e+04, 3.51119173e+04, 2.65608778e+04, 2.00923300e+04,\n",
              "       1.51991108e+04, 1.14975700e+04, 8.69749003e+03, 6.57933225e+03,\n",
              "       4.97702356e+03, 3.76493581e+03, 2.84803587e+03, 2.15443469e+03,\n",
              "       1.62975083e+03, 1.23284674e+03, 9.32603347e+02, 7.05480231e+02,\n",
              "       5.33669923e+02, 4.03701726e+02, 3.05385551e+02, 2.31012970e+02,\n",
              "       1.74752840e+02, 1.32194115e+02, 1.00000000e+02, 7.56463328e+01,\n",
              "       5.72236766e+01, 4.32876128e+01, 3.27454916e+01, 2.47707636e+01,\n",
              "       1.87381742e+01, 1.41747416e+01, 1.07226722e+01, 8.11130831e+00,\n",
              "       6.13590727e+00, 4.64158883e+00, 3.51119173e+00, 2.65608778e+00,\n",
              "       2.00923300e+00, 1.51991108e+00, 1.14975700e+00, 8.69749003e-01,\n",
              "       6.57933225e-01, 4.97702356e-01, 3.76493581e-01, 2.84803587e-01,\n",
              "       2.15443469e-01, 1.62975083e-01, 1.23284674e-01, 9.32603347e-02,\n",
              "       7.05480231e-02, 5.33669923e-02, 4.03701726e-02, 3.05385551e-02,\n",
              "       2.31012970e-02, 1.74752840e-02, 1.32194115e-02, 1.00000000e-02])"
            ]
          },
          "metadata": {},
          "execution_count": 7
        }
      ]
    },
    {
      "cell_type": "markdown",
      "source": [
        "Vamos a usar el algoritmo de Ridge de SKlearn para hacer regresión con los diferentes valores del parámetro Lambda, de manera que podamos realizar algunas observaciones y comparaciones."
      ],
      "metadata": {
        "id": "MMkdjJinqgam"
      }
    },
    {
      "cell_type": "code",
      "source": [
        "# Aplicamos el algoritmo Ridge de SKlearn para los diferentes valores de Lambda definidos\n",
        "# en la celda anterior. Se guardan los vectores obtenidos de parámetros en la lista coefs.\n",
        "\n",
        "#scaler = StandardScaler()\n",
        "#X = scaler.fit_transform(X)  # Escala tus datos de entrada X\n",
        "\n",
        "mean = np.mean(X, axis=0)\n",
        "std = np.std(X, axis=0)\n",
        "\n",
        "X = (X - mean) / std\n",
        "\n",
        "ridge = Ridge(X)\n",
        "coefs = []\n",
        "\n",
        "for a in lambdas:\n",
        "    ridge.set_params(alpha = a)\n",
        "    ridge.fit(X, y)\n",
        "    coefs.append(ridge.coef_)\n",
        "#Imprimir las dimensiones de la matriz coef.\n",
        "np.shape(coefs)"
      ],
      "metadata": {
        "id": "p9N3z07Wtvmf",
        "colab": {
          "base_uri": "https://localhost:8080/"
        },
        "outputId": "24431e3e-66c3-4c86-ab39-b7fa24fa6a7b"
      },
      "execution_count": 8,
      "outputs": [
        {
          "output_type": "execute_result",
          "data": {
            "text/plain": [
              "(100, 22)"
            ]
          },
          "metadata": {},
          "execution_count": 8
        }
      ]
    },
    {
      "cell_type": "markdown",
      "source": [
        "Usamos los arreglos *lambdas* y *coefs* para comparar los resultados de la regresión Ridge para diferentes valores del parámetro Lambda."
      ],
      "metadata": {
        "id": "A1t0wbe1q12G"
      }
    },
    {
      "cell_type": "code",
      "source": [
        "ax = plt.gca()\n",
        "ax.plot(lambdas, coefs)\n",
        "ax.set_xscale('log')\n",
        "plt.axis('tight')\n",
        "plt.xlabel('alpha')\n",
        "plt.ylabel('weights')"
      ],
      "metadata": {
        "id": "HsHxVKALuQgA",
        "colab": {
          "base_uri": "https://localhost:8080/",
          "height": 471
        },
        "outputId": "323b9fcf-7125-4bab-e955-ed23e8b556ea"
      },
      "execution_count": 9,
      "outputs": [
        {
          "output_type": "execute_result",
          "data": {
            "text/plain": [
              "Text(0, 0.5, 'weights')"
            ]
          },
          "metadata": {},
          "execution_count": 9
        },
        {
          "output_type": "display_data",
          "data": {
            "text/plain": [
              "<Figure size 640x480 with 1 Axes>"
            ],
            "image/png": "[encoded data removed]"
          },
          "metadata": {}
        }
      ]
    },
    {
      "cell_type": "markdown",
      "source": [
        "2. Interprete la gráfica, escriba las conclusiones que pueda obtener de la misma.\n",
        "\n",
        "Podemos ver como los coeficientes del modelo de regresión de Ridge cambian a medida que variamos alpha. Además, podemos ver que a medida que alpha aumenta empieza a tender a cero, esto se debe a Ridge penaliza los valores extremos de los coeficientes, por lo que cuanto mayor sea alpha, más fuerte será la penalización.  "
      ],
      "metadata": {
        "id": "DSr3CU2Fn7Cp"
      }
    },
    {
      "cell_type": "markdown",
      "source": [
        "3. Hallar el coeficiente de las variables Hits Runs y Walks, arrojado por el algoritmo Ridge, para 3 lambdas distintos.\n",
        "Ejemplo: \"Para lambda=3.06795364e+00, el coeficiente de Hits es (valor), el coeficiente de Runs es (valor) y el coeficiente de Walks es (valor).\""
      ],
      "metadata": {
        "id": "b9KSUio4Ca7d"
      }
    },
    {
      "cell_type": "code",
      "source": [
        "print(f'El coeficiente de Hits para lambda = {lambdas[2]}, es:{coefs[2][1]}')\n",
        "\n",
        "print(f'El coeficiente de Runs para lambda = {lambdas[4]}, es:{coefs[4][1]}')\n",
        "\n",
        "print(f'El coeficiente de Walks para lambda = {lambdas[6]}, es:{coefs[6][1]}')"
      ],
      "metadata": {
        "colab": {
          "base_uri": "https://localhost:8080/"
        },
        "id": "Mxpl8U4RCjq3",
        "outputId": "c414a7a9-a4bf-48f3-f7f2-d7490d5cbc8b"
      },
      "execution_count": 10,
      "outputs": [
        {
          "output_type": "stream",
          "name": "stdout",
          "text": [
            "El coeficiente de Hits para lambda = 5722367659.35022, es:9.077914161448398e-06\n",
            "El coeficiente de Runs para lambda = 3274549162.877732, es:1.5863909336268726e-05\n",
            "El coeficiente de Walks para lambda = 1873817422.8603868, es:2.7722621492123207e-05\n"
          ]
        }
      ]
    },
    {
      "cell_type": "markdown",
      "source": [
        "4. Separar el conjunto de datos en conjunto de Entrenamiento y Testeo (Usar randomstate= 0). Aplicar el algoritmo de regresión lineal a este conjunto de datos. Imprimir el coeficiente de determinación R^2.\n"
      ],
      "metadata": {
        "id": "BNB_1iWSs0x_"
      }
    },
    {
      "cell_type": "code",
      "source": [
        "#separamos el conjunto de datos\n",
        "X_train, X_test, y_train, y_test = train_test_split(X,y,random_state=0,test_size=0.2)"
      ],
      "metadata": {
        "id": "yt_Uu-IeEH8u"
      },
      "execution_count": 14,
      "outputs": []
    },
    {
      "cell_type": "code",
      "source": [
        "# Aplicamos el algoritmo\n",
        "regr = LinearRegression()\n",
        "regr.fit(X_train, y_train)\n",
        "\n",
        "#imprimimmos R^2\n",
        "print(\"score = \", regr.score(X_test, y_test))"
      ],
      "metadata": {
        "colab": {
          "base_uri": "https://localhost:8080/"
        },
        "id": "nJYF0zf7ESbl",
        "outputId": "b2291da2-0a40-4cc7-fee5-07937062ba16"
      },
      "execution_count": 15,
      "outputs": [
        {
          "output_type": "stream",
          "name": "stdout",
          "text": [
            "score =  0.5611397314906121\n"
          ]
        }
      ]
    },
    {
      "cell_type": "markdown",
      "source": [
        "5. Cuáles son los valores de los parámetros en el modelo lineal obtenido? ¿Cuál valor corresponde con cuál variable en el Dataset?"
      ],
      "metadata": {
        "id": "XXyq7NoUEGRu"
      }
    },
    {
      "cell_type": "code",
      "source": [
        "print('slope:', regr.coef_)\n",
        "print('intercept:', regr.intercept_)"
      ],
      "metadata": {
        "colab": {
          "base_uri": "https://localhost:8080/"
        },
        "id": "HjMajLGlExw9",
        "outputId": "b68ad880-33f6-4f3e-855f-c578fe9dbbd9"
      },
      "execution_count": 16,
      "outputs": [
        {
          "output_type": "stream",
          "name": "stdout",
          "text": [
            "slope: [-269.66873016  316.23299124   98.59022678  -45.54845094  -75.1973347\n",
            "  159.55817833   28.0289812  -340.37980202  198.37860122  -53.56211203\n",
            "  335.94299118  224.34107838 -227.51847185   53.96732383   66.60677746\n",
            "  -38.31327391   -8.03655783    8.03655783   28.63329435  -28.63329435\n",
            "   -1.05649609    1.05649609]\n",
            "intercept: 530.684214194494\n"
          ]
        }
      ]
    },
    {
      "cell_type": "markdown",
      "source": [
        "## Regresión Ridge\n",
        "Ahora apliquemos Regresión de Ridge para algunos valores de lambda. En primer lugar usemos Lambda=4."
      ],
      "metadata": {
        "id": "UOipPDgdwHIj"
      }
    },
    {
      "cell_type": "code",
      "source": [
        "#Modelo de regresión de Ridge para Lambda=4\n",
        "# Note el uso del parámetro normalize=True\n",
        "\n",
        "#Normaizamos\n",
        "scaler = StandardScaler()\n",
        "X_train = scaler.fit_transform(X_train)\n",
        "X_test_normalized = scaler.transform(X_test)\n",
        "\n",
        "ridge = Ridge(alpha = 4)\n",
        "ridge.fit(X_train, y_train)             # Entrenar una regresión de Ridge para el conjunto de entrenamiento.\n",
        "pred = ridge.predict(X_test)           # Uso del modelo para predecir el conjunto de Testeo\n",
        "print(pd.Series(ridge.coef_, index = X.columns)) # Imprimir los coeficientes del modelo\n",
        "print(mean_squared_error(y_test, pred))          # Imprimit el error de mínimos cuadrados MSE\n",
        "print(ridge.score(X_test, y_test))         #Imprimir el coeficiente de determinación R^2"
      ],
      "metadata": {
        "id": "FkxCVV82u0MH",
        "colab": {
          "base_uri": "https://localhost:8080/"
        },
        "outputId": "2f541198-3527-4ae8-940e-d0c9e41a7278"
      },
      "execution_count": 21,
      "outputs": [
        {
          "output_type": "stream",
          "name": "stdout",
          "text": [
            "AtBat         -172.811551\n",
            "Hits           192.221437\n",
            "HmRun           50.334365\n",
            "Runs            14.410034\n",
            "RBI            -21.771610\n",
            "Walks          113.485521\n",
            "Years           -6.643784\n",
            "CAtBat         -35.940855\n",
            "CHits          127.972578\n",
            "CHmRun          -3.948386\n",
            "CRuns          133.427502\n",
            "CRBI            94.917992\n",
            "CWalks        -145.060386\n",
            "PutOuts         54.368041\n",
            "Assists         50.088006\n",
            "Errors         -41.046695\n",
            "League_A        -8.721136\n",
            "League_N         8.721136\n",
            "Division_E      30.080155\n",
            "Division_W     -30.080155\n",
            "NewLeague_A     -0.185986\n",
            "NewLeague_N      0.185986\n",
            "dtype: float64\n",
            "135343.1393157194\n",
            "0.5397694561671942\n"
          ]
        }
      ]
    },
    {
      "cell_type": "markdown",
      "source": [
        "6. ¿Cuál debería ser el coeficiente de determinación R^2 al asignar Lambda=0? Justifique y compruebe en la siguiente celda.\n",
        "\n",
        "Como Lambda = 0, el coeficiente de determminación R^2 sería el mismo que en la regresión normal ya que estamos volviendo a la formula de la regresión lineal y descartamos la suma extra que se le agrega a la regresión de Ridge."
      ],
      "metadata": {
        "id": "hG9rLSeBypmX"
      }
    },
    {
      "cell_type": "code",
      "source": [
        "# Verifique su respuesta anterior.\n",
        "# Usar el parámetro normalize=True\n",
        "\n",
        "scaler = StandardScaler()\n",
        "X_train = scaler.fit_transform(X_train)\n",
        "X_test_normalized = scaler.transform(X_test)\n",
        "\n",
        "ridge = Ridge(alpha = 0)\n",
        "ridge.fit(X_train, y_train)             # Entrenar una regresión de Ridge para el conjunto de entrenamiento.\n",
        "pred = ridge.predict(X_test)           # Uso del modelo para predecir el conjunto de Testeo\n",
        "print(pd.Series(ridge.coef_, index = X.columns)) # Imprimir los coeficientes del modelo\n",
        "print(mean_squared_error(y_test, pred))          # Imprimit el error de mínimos cuadrados MSE\n",
        "print(ridge.score(X_test, y_test))         #Imprimir el coeficiente de determinación R^2"
      ],
      "metadata": {
        "id": "cPKuNNqivH8v",
        "colab": {
          "base_uri": "https://localhost:8080/"
        },
        "outputId": "80f917ce-e4b7-4598-ac3f-2d67e24033f4"
      },
      "execution_count": 26,
      "outputs": [
        {
          "output_type": "stream",
          "name": "stdout",
          "text": [
            "AtBat         -2.756033e+02\n",
            "Hits           3.250360e+02\n",
            "HmRun          9.881811e+01\n",
            "Runs          -5.243339e+01\n",
            "RBI           -7.195313e+01\n",
            "Walks          1.559523e+02\n",
            "Years          1.926290e+01\n",
            "CAtBat        -3.222844e+02\n",
            "CHits          2.002117e+02\n",
            "CHmRun        -4.224594e+01\n",
            "CRuns          3.113061e+02\n",
            "CRBI           2.141242e+02\n",
            "CWalks        -2.291797e+02\n",
            "PutOuts        6.153734e+01\n",
            "Assists        7.233049e+01\n",
            "Errors        -3.821743e+01\n",
            "League_A      -3.164168e+15\n",
            "League_N      -3.164168e+15\n",
            "Division_E    -2.485686e+16\n",
            "Division_W    -2.485686e+16\n",
            "NewLeague_A   -2.601558e+16\n",
            "NewLeague_N   -2.601558e+16\n",
            "dtype: float64\n",
            "128136.83832167895\n",
            "0.5642742802925862\n"
          ]
        }
      ]
    },
    {
      "cell_type": "markdown",
      "source": [
        "A continuación aplicamos validación cruzada para el algoritmo de Ridge.\n",
        "\n",
        "7. Investigue los parámetros de RidgeCV y explíquelos. Aplique el algoritmo con diferentes posibilidades para el parámetro 'cv'. Guarde los diferentes valores de alpha obtenidos."
      ],
      "metadata": {
        "id": "FXogeiEzqbBg"
      }
    },
    {
      "cell_type": "markdown",
      "source": [
        "1. alphas: Es una lista o arreglo de valores de alpha que se probarán durante la búsqueda. Por defecto, alphas=None, lo que significa que se probarán varios valores de alpha en una escala predeterminada. Puedes proporcionar una lista personalizada de valores de alpha si lo deseas.\n",
        "\n",
        "2. store_cv_values: Un valor booleano (True o False) que controla si se deben almacenar los valores de error cuadrático medio (MSE) de la validación cruzada para cada valor de alpha. Esto puede ser útil para analizar el rendimiento del modelo en diferentes valores de alpha.\n",
        "\n",
        "3. cv: El número de divisiones (folds) en la validación cruzada. Por defecto, cv=None, lo que significa que se utiliza validación cruzada k-fold con k = 5. Puedes especificar un valor entero para controlar el número de divisiones.\n",
        "\n",
        "4. normalize: Un valor booleano (True o False) que controla si las características deben normalizarse antes de ajustar el modelo. Si se establece en True, las características se normalizarán antes del ajuste.\n",
        "\n",
        "5. scoring: La métrica utilizada para evaluar el rendimiento del modelo durante la validación cruzada. Por defecto, se utiliza la métrica R^2 (coeficiente de determinación), pero puedes especificar cualquier métrica de regresión admitida por scikit-learn."
      ],
      "metadata": {
        "id": "WqetnCktMXZY"
      }
    },
    {
      "cell_type": "code",
      "source": [
        "# con RidgeCV de SKLearn hacer cross validation con la lista de Lambdas y normalize True\n",
        "# Imprimir el alpha optimo. Note que usamos el parametro normalize=True\n",
        "# Valores de alpha que se probarán\n",
        "\n",
        "scaler = StandardScaler()\n",
        "X_train = scaler.fit_transform(X_train)\n",
        "X_test_normalized = scaler.transform(X_test)\n",
        "\n",
        "ridgecv = RidgeCV(alphas = lambdas)\n",
        "ridgecv.fit(X_train, y_train)\n",
        "ridgecv.alpha_\n"
      ],
      "metadata": {
        "id": "ISu__2uNvbcp",
        "colab": {
          "base_uri": "https://localhost:8080/"
        },
        "outputId": "4243ddc4-e3b3-47d2-9aa2-87d896331048"
      },
      "execution_count": 28,
      "outputs": [
        {
          "output_type": "execute_result",
          "data": {
            "text/plain": [
              "3.5111917342151275"
            ]
          },
          "metadata": {},
          "execution_count": 28
        }
      ]
    },
    {
      "cell_type": "markdown",
      "source": [
        "8. Con los diferentes valores de alpha obtenidos, aplique el algoritmo de Ridge. Calcule el error cuadrático MSE, el error absoluto medio MAE y el coeficiente de determinación. Usar el parámetro normalize = True."
      ],
      "metadata": {
        "id": "PX-oZP-VuKT1"
      }
    },
    {
      "cell_type": "code",
      "source": [
        "#TO_DO 10 Con el alpha optimo hallado arriba, calcular los coeficientes(parámetros),\n",
        "# el error cuadrático MSE y el coeficiente de determinación R^2 en el conjunto de Testeo.\n",
        "# Usar el parámetro normalize=True\n",
        "# Valores de alpha obtenidos anteriormente\n",
        "\n",
        "scaler = StandardScaler()\n",
        "X_train = scaler.fit_transform(X_train)\n",
        "X_test_normalized = scaler.transform(X_test)\n",
        "\n",
        "ridge = Ridge(alpha = ridgecv.alpha_)\n",
        "ridge.fit(X_train, y_train)             # Entrenar una regresión de Ridge para el conjunto de entrenamiento.\n",
        "pred = ridge.predict(X_test)           # Uso del modelo para predecir el conjunto de Testeo\n",
        "print(pd.Series(ridge.coef_, index = X.columns)) # Imprimir los coeficientes del modelo\n",
        "print(mean_squared_error(y_test, pred))          # Imprimit el error de mínimos cuadrados MSE\n",
        "print(ridge.score(X_test, y_test))"
      ],
      "metadata": {
        "id": "-r72ay2gvjpo",
        "colab": {
          "base_uri": "https://localhost:8080/"
        },
        "outputId": "5d5087a8-94be-4454-88bc-6e8a64b929d3"
      },
      "execution_count": 29,
      "outputs": [
        {
          "output_type": "stream",
          "name": "stdout",
          "text": [
            "AtBat         -182.154423\n",
            "Hits           201.659659\n",
            "HmRun           53.074937\n",
            "Runs            11.550817\n",
            "RBI            -24.495546\n",
            "Walks          116.771012\n",
            "Years           -6.068435\n",
            "CAtBat         -44.686969\n",
            "CHits          131.424927\n",
            "CHmRun          -4.818644\n",
            "CRuns          141.136272\n",
            "CRBI            98.411076\n",
            "CWalks        -151.329171\n",
            "PutOuts         54.646675\n",
            "Assists         51.346100\n",
            "Errors         -41.048848\n",
            "League_A        -8.674010\n",
            "League_N         8.674010\n",
            "Division_E      30.053513\n",
            "Division_W     -30.053513\n",
            "NewLeague_A     -0.200706\n",
            "NewLeague_N      0.200706\n",
            "dtype: float64\n",
            "134980.3405091314\n",
            "0.5410031433189928\n"
          ]
        }
      ]
    },
    {
      "cell_type": "markdown",
      "source": [
        "## Regresión Lasso\n",
        "Ahora aplicaremos regresión Lasso a éste conjunto de datos.\n",
        "9. Encontrar el valor óptimo de alpha con el algoritmo LassoCV de SKlearn.\n"
      ],
      "metadata": {
        "id": "X1tTtE2w1OcF"
      }
    },
    {
      "cell_type": "code",
      "source": [
        "scaler = StandardScaler()\n",
        "X_train = scaler.fit_transform(X_train)\n",
        "X_test_normalized = scaler.transform(X_test)\n",
        "\n",
        "lassocv = LassoCV(alphas = lambdas)\n",
        "lassocv.fit(X_train, y_train)\n",
        "lassocv.alpha_"
      ],
      "metadata": {
        "colab": {
          "base_uri": "https://localhost:8080/"
        },
        "id": "k-ReuLnWI10p",
        "outputId": "8d18f010-7fa3-4c72-9f1e-56ebed21f797"
      },
      "execution_count": 31,
      "outputs": [
        {
          "output_type": "execute_result",
          "data": {
            "text/plain": [
              "18.738174228603867"
            ]
          },
          "metadata": {},
          "execution_count": 31
        }
      ]
    },
    {
      "cell_type": "markdown",
      "source": [
        "10. Aplicar el algoritmo de LASSO con el valor óptimo de alpha encontrado anteriormente. Utilizar normalización. Imprimir los coeficientes y el coeficiente de determinación."
      ],
      "metadata": {
        "id": "T-IV53Q0IyeY"
      }
    },
    {
      "cell_type": "code",
      "source": [
        "scaler = StandardScaler()\n",
        "X_train = scaler.fit_transform(X_train)\n",
        "X_test_normalized = scaler.transform(X_test)\n",
        "\n",
        "lasso = Lasso(alpha = lassocv.alpha_)\n",
        "lasso.fit(X_train, y_train)\n",
        "pred = lasso.predict(X_test)\n",
        "print(mean_squared_error(y_test, pred))"
      ],
      "metadata": {
        "colab": {
          "base_uri": "https://localhost:8080/"
        },
        "id": "ERP9ipdIOdYg",
        "outputId": "aae2acd1-0720-4431-9f2f-0b6b78d51367"
      },
      "execution_count": 33,
      "outputs": [
        {
          "output_type": "stream",
          "name": "stdout",
          "text": [
            "148989.67440460372\n"
          ]
        }
      ]
    },
    {
      "cell_type": "code",
      "source": [
        "pd.Series(lasso.coef_, index=X.columns)"
      ],
      "metadata": {
        "colab": {
          "base_uri": "https://localhost:8080/"
        },
        "id": "zKgb9-PkOrKp",
        "outputId": "932da234-0c85-45d8-dc15-3fe87ccaf9ce"
      },
      "execution_count": 34,
      "outputs": [
        {
          "output_type": "execute_result",
          "data": {
            "text/plain": [
              "AtBat          0.000000e+00\n",
              "Hits           9.182168e+01\n",
              "HmRun          7.107910e+00\n",
              "Runs           0.000000e+00\n",
              "RBI            0.000000e+00\n",
              "Walks          5.590092e+01\n",
              "Years          0.000000e+00\n",
              "CAtBat         0.000000e+00\n",
              "CHits          8.633647e+01\n",
              "CHmRun         0.000000e+00\n",
              "CRuns          3.151014e+01\n",
              "CRBI           5.344469e+01\n",
              "CWalks         0.000000e+00\n",
              "PutOuts        3.273924e+01\n",
              "Assists       -0.000000e+00\n",
              "Errors        -3.855281e+00\n",
              "League_A      -0.000000e+00\n",
              "League_N       0.000000e+00\n",
              "Division_E     4.378011e+01\n",
              "Division_W    -1.082732e-14\n",
              "NewLeague_A   -0.000000e+00\n",
              "NewLeague_N    0.000000e+00\n",
              "dtype: float64"
            ]
          },
          "metadata": {},
          "execution_count": 34
        }
      ]
    },
    {
      "cell_type": "code",
      "source": [
        "#Imprimimos el score (R^2)\n",
        "print(lassocv.score(X_test, y_test))"
      ],
      "metadata": {
        "colab": {
          "base_uri": "https://localhost:8080/"
        },
        "id": "Jr3oliEdO_7Y",
        "outputId": "b40f9f19-211b-44ca-ef47-91484b1d6afc"
      },
      "execution_count": 35,
      "outputs": [
        {
          "output_type": "stream",
          "name": "stdout",
          "text": [
            "0.49336479689045143\n"
          ]
        }
      ]
    },
    {
      "cell_type": "markdown",
      "source": [
        "11. Escriba sus conclusiones acerca de los diferentes modelos obtenidos y sus métricas.\n",
        "\n",
        "En resumen, al analizar ambas regresiones, notamos que nuestro rendimiento en el conjunto de entrenamiento apenas mejora en comparación con la regresión lineal original. Esto podría deberse a la calidad de los datos que estamos utilizando y la posible presencia de variables que introducen ruido en el modelo. Además, al ajustar el valor óptimo de alpha, observamos que los modelos tienden a empeorar, lo que también podría ser atribuible a la base de datos en sí.\n",
        "\n",
        "Específicamente, notamos que la regresión de Lasso elimina muchos coeficientes de las variables, lo que sugiere una correlación deficiente entre las variables o la presencia de una relación lineal débil entre ellas, lo que afecta negativamente al modelo. Sin embargo, también consideramos que quizás los modelos utilizados no son los más adecuados para este conjunto de datos en particular, y esperamos explorar diferentes enfoques para obtener resultados más satisfactorios."
      ],
      "metadata": {
        "id": "xF5UUEhx5r1_"
      }
    },
    {
      "cell_type": "code",
      "source": [],
      "metadata": {
        "id": "0_m8WGxAPha5"
      },
      "execution_count": null,
      "outputs": []
    }
  ]
}