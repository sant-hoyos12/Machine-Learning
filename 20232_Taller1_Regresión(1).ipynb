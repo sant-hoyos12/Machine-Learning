{
  "nbformat": 4,
  "nbformat_minor": 0,
  "metadata": {
    "colab": {
      "provenance": []
    },
    "kernelspec": {
      "name": "python3",
      "display_name": "Python 3"
    },
    "language_info": {
      "name": "python"
    }
  },
  "cells": [
    {
      "cell_type": "markdown",
      "source": [
        "# Taller Regresión Lineal"
      ],
      "metadata": {
        "id": "dA4IsJkX7OEH"
      }
    },
    {
      "cell_type": "markdown",
      "source": [
        "## Funciones básicas"
      ],
      "metadata": {
        "id": "JYVJraXbBZwl"
      }
    },
    {
      "cell_type": "markdown",
      "source": [
        "En primer lugar, importamos las librerías que necesitaremos"
      ],
      "metadata": {
        "id": "wDK_bVfx7XOF"
      }
    },
    {
      "cell_type": "code",
      "source": [
        "import pandas as pd\n",
        "import numpy as np\n",
        "from sklearn.linear_model import LinearRegression #Algoritmo de regresión lineal\n",
        "from sklearn.model_selection import train_test_split #para partir el conjunto de datos en Entrenamiento y Testeo\n",
        "import matplotlib.pyplot as plt #para gráficas\n"
      ],
      "metadata": {
        "id": "ltH2S66X7keC"
      },
      "execution_count": null,
      "outputs": []
    },
    {
      "cell_type": "markdown",
      "source": [
        "Cargamos un conjunto de datos. Entrenaremos modelos de regresión lineal para un conjunto de datos sobre peces. Se desearía predecir el peso de un pez, a partir de algunas de sus medidas. Longitud vertical, diagonal, etc. Nuestra variable a predecir será el peso *Weight*.\n",
        "Detalles sobre el conjunto de datos [Aquí](https://www.kaggle.com/datasets/aungpyaeap/fish-market).\n",
        "\n",
        "Si está trabajando en colab, oprima el ícono de folder en la izquierda y luego el ícono de *subir.* Cargue un archivo de valrores separados por comas (.csv). A continuación usamos la función de pandas *read_csv*. Ingresamos como parámetro la ruta de ubicación del archivo. Si ya se ha subido el archivo, se puede desplegar el menú sobre dicho archivo y usar *copiar ruta*."
      ],
      "metadata": {
        "id": "eWVahlvO7zpa"
      }
    },
    {
      "cell_type": "code",
      "source": [
        "# Leer archivo. Ingresar la ruta del archivo\n",
        "df=pd.read_csv(\"/content/Fish.csv\")\n",
        "\n",
        "# Mostrar las primeras 10 líneas del dataset\n",
        "df.head(10)\n"
      ],
      "metadata": {
        "colab": {
          "base_uri": "https://localhost:8080/",
          "height": 363
        },
        "id": "y8DsCI278fQ-",
        "outputId": "13b07670-2985-445b-9a3e-f289db5f917a"
      },
      "execution_count": null,
      "outputs": [
        {
          "output_type": "execute_result",
          "data": {
            "text/plain": [
              "  Species  Weight  Length1  Length2  Length3   Height   Width\n",
              "0   Bream   242.0     23.2     25.4     30.0  11.5200  4.0200\n",
              "1   Bream   290.0     24.0     26.3     31.2  12.4800  4.3056\n",
              "2   Bream   340.0     23.9     26.5     31.1  12.3778  4.6961\n",
              "3   Bream   363.0     26.3     29.0     33.5  12.7300  4.4555\n",
              "4   Bream   430.0     26.5     29.0     34.0  12.4440  5.1340\n",
              "5   Bream   450.0     26.8     29.7     34.7  13.6024  4.9274\n",
              "6   Bream   500.0     26.8     29.7     34.5  14.1795  5.2785\n",
              "7   Bream   390.0     27.6     30.0     35.0  12.6700  4.6900\n",
              "8   Bream   450.0     27.6     30.0     35.1  14.0049  4.8438\n",
              "9   Bream   500.0     28.5     30.7     36.2  14.2266  4.9594"
            ],
            "text/html": [
              "\n",
              "\n",
              "  <div id=\"df-43e9399b-f509-4a38-b481-e694a20dc528\">\n",
              "    <div class=\"colab-df-container\">\n",
              "      <div>\n",
              "<style scoped>\n",
              "    .dataframe tbody tr th:only-of-type {\n",
              "        vertical-align: middle;\n",
              "    }\n",
              "\n",
              "    .dataframe tbody tr th {\n",
              "        vertical-align: top;\n",
              "    }\n",
              "\n",
              "    .dataframe thead th {\n",
              "        text-align: right;\n",
              "    }\n",
              "</style>\n",
              "<table border=\"1\" class=\"dataframe\">\n",
              "  <thead>\n",
              "    <tr style=\"text-align: right;\">\n",
              "      <th></th>\n",
              "      <th>Species</th>\n",
              "      <th>Weight</th>\n",
              "      <th>Length1</th>\n",
              "      <th>Length2</th>\n",
              "      <th>Length3</th>\n",
              "      <th>Height</th>\n",
              "      <th>Width</th>\n",
              "    </tr>\n",
              "  </thead>\n",
              "  <tbody>\n",
              "    <tr>\n",
              "      <th>0</th>\n",
              "      <td>Bream</td>\n",
              "      <td>242.0</td>\n",
              "      <td>23.2</td>\n",
              "      <td>25.4</td>\n",
              "      <td>30.0</td>\n",
              "      <td>11.5200</td>\n",
              "      <td>4.0200</td>\n",
              "    </tr>\n",
              "    <tr>\n",
              "      <th>1</th>\n",
              "      <td>Bream</td>\n",
              "      <td>290.0</td>\n",
              "      <td>24.0</td>\n",
              "      <td>26.3</td>\n",
              "      <td>31.2</td>\n",
              "      <td>12.4800</td>\n",
              "      <td>4.3056</td>\n",
              "    </tr>\n",
              "    <tr>\n",
              "      <th>2</th>\n",
              "      <td>Bream</td>\n",
              "      <td>340.0</td>\n",
              "      <td>23.9</td>\n",
              "      <td>26.5</td>\n",
              "      <td>31.1</td>\n",
              "      <td>12.3778</td>\n",
              "      <td>4.6961</td>\n",
              "    </tr>\n",
              "    <tr>\n",
              "      <th>3</th>\n",
              "      <td>Bream</td>\n",
              "      <td>363.0</td>\n",
              "      <td>26.3</td>\n",
              "      <td>29.0</td>\n",
              "      <td>33.5</td>\n",
              "      <td>12.7300</td>\n",
              "      <td>4.4555</td>\n",
              "    </tr>\n",
              "    <tr>\n",
              "      <th>4</th>\n",
              "      <td>Bream</td>\n",
              "      <td>430.0</td>\n",
              "      <td>26.5</td>\n",
              "      <td>29.0</td>\n",
              "      <td>34.0</td>\n",
              "      <td>12.4440</td>\n",
              "      <td>5.1340</td>\n",
              "    </tr>\n",
              "    <tr>\n",
              "      <th>5</th>\n",
              "      <td>Bream</td>\n",
              "      <td>450.0</td>\n",
              "      <td>26.8</td>\n",
              "      <td>29.7</td>\n",
              "      <td>34.7</td>\n",
              "      <td>13.6024</td>\n",
              "      <td>4.9274</td>\n",
              "    </tr>\n",
              "    <tr>\n",
              "      <th>6</th>\n",
              "      <td>Bream</td>\n",
              "      <td>500.0</td>\n",
              "      <td>26.8</td>\n",
              "      <td>29.7</td>\n",
              "      <td>34.5</td>\n",
              "      <td>14.1795</td>\n",
              "      <td>5.2785</td>\n",
              "    </tr>\n",
              "    <tr>\n",
              "      <th>7</th>\n",
              "      <td>Bream</td>\n",
              "      <td>390.0</td>\n",
              "      <td>27.6</td>\n",
              "      <td>30.0</td>\n",
              "      <td>35.0</td>\n",
              "      <td>12.6700</td>\n",
              "      <td>4.6900</td>\n",
              "    </tr>\n",
              "    <tr>\n",
              "      <th>8</th>\n",
              "      <td>Bream</td>\n",
              "      <td>450.0</td>\n",
              "      <td>27.6</td>\n",
              "      <td>30.0</td>\n",
              "      <td>35.1</td>\n",
              "      <td>14.0049</td>\n",
              "      <td>4.8438</td>\n",
              "    </tr>\n",
              "    <tr>\n",
              "      <th>9</th>\n",
              "      <td>Bream</td>\n",
              "      <td>500.0</td>\n",
              "      <td>28.5</td>\n",
              "      <td>30.7</td>\n",
              "      <td>36.2</td>\n",
              "      <td>14.2266</td>\n",
              "      <td>4.9594</td>\n",
              "    </tr>\n",
              "  </tbody>\n",
              "</table>\n",
              "</div>\n",
              "      <button class=\"colab-df-convert\" onclick=\"convertToInteractive('df-43e9399b-f509-4a38-b481-e694a20dc528')\"\n",
              "              title=\"Convert this dataframe to an interactive table.\"\n",
              "              style=\"display:none;\">\n",
              "\n",
              "  <svg xmlns=\"http://www.w3.org/2000/svg\" height=\"24px\"viewBox=\"0 0 24 24\"\n",
              "       width=\"24px\">\n",
              "    <path d=\"M0 0h24v24H0V0z\" fill=\"none\"/>\n",
              "    <path d=\"M18.56 5.44l.94 2.06.94-2.06 2.06-.94-2.06-.94-.94-2.06-.94 2.06-2.06.94zm-11 1L8.5 8.5l.94-2.06 2.06-.94-2.06-.94L8.5 2.5l-.94 2.06-2.06.94zm10 10l.94 2.06.94-2.06 2.06-.94-2.06-.94-.94-2.06-.94 2.06-2.06.94z\"/><path d=\"M17.41 7.96l-1.37-1.37c-.4-.4-.92-.59-1.43-.59-.52 0-1.04.2-1.43.59L10.3 9.45l-7.72 7.72c-.78.78-.78 2.05 0 2.83L4 21.41c.39.39.9.59 1.41.59.51 0 1.02-.2 1.41-.59l7.78-7.78 2.81-2.81c.8-.78.8-2.07 0-2.86zM5.41 20L4 18.59l7.72-7.72 1.47 1.35L5.41 20z\"/>\n",
              "  </svg>\n",
              "      </button>\n",
              "\n",
              "\n",
              "\n",
              "    <div id=\"df-ff6607c3-7cbd-474e-a5c3-d66edb52a5b3\">\n",
              "      <button class=\"colab-df-quickchart\" onclick=\"quickchart('df-ff6607c3-7cbd-474e-a5c3-d66edb52a5b3')\"\n",
              "              title=\"Suggest charts.\"\n",
              "              style=\"display:none;\">\n",
              "\n",
              "<svg xmlns=\"http://www.w3.org/2000/svg\" height=\"24px\"viewBox=\"0 0 24 24\"\n",
              "     width=\"24px\">\n",
              "    <g>\n",
              "        <path d=\"M19 3H5c-1.1 0-2 .9-2 2v14c0 1.1.9 2 2 2h14c1.1 0 2-.9 2-2V5c0-1.1-.9-2-2-2zM9 17H7v-7h2v7zm4 0h-2V7h2v10zm4 0h-2v-4h2v4z\"/>\n",
              "    </g>\n",
              "</svg>\n",
              "      </button>\n",
              "    </div>\n",
              "\n",
              "<style>\n",
              "  .colab-df-quickchart {\n",
              "    background-color: #E8F0FE;\n",
              "    border: none;\n",
              "    border-radius: 50%;\n",
              "    cursor: pointer;\n",
              "    display: none;\n",
              "    fill: #1967D2;\n",
              "    height: 32px;\n",
              "    padding: 0 0 0 0;\n",
              "    width: 32px;\n",
              "  }\n",
              "\n",
              "  .colab-df-quickchart:hover {\n",
              "    background-color: #E2EBFA;\n",
              "    box-shadow: 0px 1px 2px rgba(60, 64, 67, 0.3), 0px 1px 3px 1px rgba(60, 64, 67, 0.15);\n",
              "    fill: #174EA6;\n",
              "  }\n",
              "\n",
              "  [theme=dark] .colab-df-quickchart {\n",
              "    background-color: #3B4455;\n",
              "    fill: #D2E3FC;\n",
              "  }\n",
              "\n",
              "  [theme=dark] .colab-df-quickchart:hover {\n",
              "    background-color: #434B5C;\n",
              "    box-shadow: 0px 1px 3px 1px rgba(0, 0, 0, 0.15);\n",
              "    filter: drop-shadow(0px 1px 2px rgba(0, 0, 0, 0.3));\n",
              "    fill: #FFFFFF;\n",
              "  }\n",
              "</style>\n",
              "\n",
              "    <script>\n",
              "      async function quickchart(key) {\n",
              "        const containerElement = document.querySelector('#' + key);\n",
              "        const charts = await google.colab.kernel.invokeFunction(\n",
              "            'suggestCharts', [key], {});\n",
              "      }\n",
              "    </script>\n",
              "\n",
              "      <script>\n",
              "\n",
              "function displayQuickchartButton(domScope) {\n",
              "  let quickchartButtonEl =\n",
              "    domScope.querySelector('#df-ff6607c3-7cbd-474e-a5c3-d66edb52a5b3 button.colab-df-quickchart');\n",
              "  quickchartButtonEl.style.display =\n",
              "    google.colab.kernel.accessAllowed ? 'block' : 'none';\n",
              "}\n",
              "\n",
              "        displayQuickchartButton(document);\n",
              "      </script>\n",
              "      <style>\n",
              "    .colab-df-container {\n",
              "      display:flex;\n",
              "      flex-wrap:wrap;\n",
              "      gap: 12px;\n",
              "    }\n",
              "\n",
              "    .colab-df-convert {\n",
              "      background-color: #E8F0FE;\n",
              "      border: none;\n",
              "      border-radius: 50%;\n",
              "      cursor: pointer;\n",
              "      display: none;\n",
              "      fill: #1967D2;\n",
              "      height: 32px;\n",
              "      padding: 0 0 0 0;\n",
              "      width: 32px;\n",
              "    }\n",
              "\n",
              "    .colab-df-convert:hover {\n",
              "      background-color: #E2EBFA;\n",
              "      box-shadow: 0px 1px 2px rgba(60, 64, 67, 0.3), 0px 1px 3px 1px rgba(60, 64, 67, 0.15);\n",
              "      fill: #174EA6;\n",
              "    }\n",
              "\n",
              "    [theme=dark] .colab-df-convert {\n",
              "      background-color: #3B4455;\n",
              "      fill: #D2E3FC;\n",
              "    }\n",
              "\n",
              "    [theme=dark] .colab-df-convert:hover {\n",
              "      background-color: #434B5C;\n",
              "      box-shadow: 0px 1px 3px 1px rgba(0, 0, 0, 0.15);\n",
              "      filter: drop-shadow(0px 1px 2px rgba(0, 0, 0, 0.3));\n",
              "      fill: #FFFFFF;\n",
              "    }\n",
              "  </style>\n",
              "\n",
              "      <script>\n",
              "        const buttonEl =\n",
              "          document.querySelector('#df-43e9399b-f509-4a38-b481-e694a20dc528 button.colab-df-convert');\n",
              "        buttonEl.style.display =\n",
              "          google.colab.kernel.accessAllowed ? 'block' : 'none';\n",
              "\n",
              "        async function convertToInteractive(key) {\n",
              "          const element = document.querySelector('#df-43e9399b-f509-4a38-b481-e694a20dc528');\n",
              "          const dataTable =\n",
              "            await google.colab.kernel.invokeFunction('convertToInteractive',\n",
              "                                                     [key], {});\n",
              "          if (!dataTable) return;\n",
              "\n",
              "          const docLinkHtml = 'Like what you see? Visit the ' +\n",
              "            '<a target=\"_blank\" href=https://colab.research.google.com/notebooks/data_table.ipynb>data table notebook</a>'\n",
              "            + ' to learn more about interactive tables.';\n",
              "          element.innerHTML = '';\n",
              "          dataTable['output_type'] = 'display_data';\n",
              "          await google.colab.output.renderOutput(dataTable, element);\n",
              "          const docLink = document.createElement('div');\n",
              "          docLink.innerHTML = docLinkHtml;\n",
              "          element.appendChild(docLink);\n",
              "        }\n",
              "      </script>\n",
              "    </div>\n",
              "  </div>\n"
            ]
          },
          "metadata": {},
          "execution_count": 8
        }
      ]
    },
    {
      "cell_type": "markdown",
      "source": [
        "Procedemos a graficar puntos con coordenadas x=Length1, y=Weight para observar si aparentan tener un comportamiento cercano al lineal.\n",
        "\n",
        "Para más detalles sobre diagramas de dispersión ver [AQUÍ](https://www.w3schools.com/python/matplotlib_scatter.asp)."
      ],
      "metadata": {
        "id": "NPsd2fEd3Rei"
      }
    },
    {
      "cell_type": "code",
      "source": [
        "#Graficar diagrama de dispersión para Length1 vs Weight\n",
        "plt.figure(figsize = [8, 6]) #Establecemos el tamaño de la figura\n",
        "plt.scatter(data=df, x='Length1', y='Weight', color= \"green\") #Asignamos la variable x, y y el color para el diagrama de dispersión.\n"
      ],
      "metadata": {
        "id": "a8l7_pmRL-cx",
        "colab": {
          "base_uri": "https://localhost:8080/",
          "height": 539
        },
        "outputId": "3432e4ba-5f95-4f5e-cb7f-2e49cf3516d5"
      },
      "execution_count": null,
      "outputs": [
        {
          "output_type": "execute_result",
          "data": {
            "text/plain": [
              "<matplotlib.collections.PathCollection at 0x7f6772b6f400>"
            ]
          },
          "metadata": {},
          "execution_count": 9
        },
        {
          "output_type": "display_data",
          "data": {
            "text/plain": [
              "<Figure size 800x600 with 1 Axes>"
            ],
            "image/png": "[encoded data removed]"
          },
          "metadata": {}
        }
      ]
    },
    {
      "cell_type": "markdown",
      "source": [
        "Usaremos el algoritmo para regresión lineal de SciKit Learn. Éste recibe como datos de entrada (X) un arreglo de dos dimensones. Pero aquí tenemos un vector para cada atributo. Queremos entonces una matriz de tamaño (lo que corresponda) x 1. Ése es el significado que tiene el valor -1 en arreglos de Numpy. Siguiendo esta idea, redimensionaremos los datos de entrada X."
      ],
      "metadata": {
        "id": "Ur9xkj9r6Jdi"
      }
    },
    {
      "cell_type": "code",
      "source": [
        "X = np.array(df['Length1']).reshape(-1, 1)\n",
        "y = df['Weight']\n",
        "\n",
        "X"
      ],
      "metadata": {
        "id": "5Lt0FIELP3os",
        "colab": {
          "base_uri": "https://localhost:8080/"
        },
        "outputId": "695dc1ad-c2e6-483e-ee35-faf6a0120699"
      },
      "execution_count": null,
      "outputs": [
        {
          "output_type": "execute_result",
          "data": {
            "text/plain": [
              "array([[23.2],\n",
              "       [24. ],\n",
              "       [23.9],\n",
              "       [26.3],\n",
              "       [26.5],\n",
              "       [26.8],\n",
              "       [26.8],\n",
              "       [27.6],\n",
              "       [27.6],\n",
              "       [28.5],\n",
              "       [28.4],\n",
              "       [28.7],\n",
              "       [29.1],\n",
              "       [29.5],\n",
              "       [29.4],\n",
              "       [29.4],\n",
              "       [30.4],\n",
              "       [30.4],\n",
              "       [30.9],\n",
              "       [31. ],\n",
              "       [31.3],\n",
              "       [31.4],\n",
              "       [31.5],\n",
              "       [31.8],\n",
              "       [31.9],\n",
              "       [31.8],\n",
              "       [32. ],\n",
              "       [32.7],\n",
              "       [32.8],\n",
              "       [33.5],\n",
              "       [35. ],\n",
              "       [35. ],\n",
              "       [36.2],\n",
              "       [37.4],\n",
              "       [38. ],\n",
              "       [12.9],\n",
              "       [16.5],\n",
              "       [17.5],\n",
              "       [18.2],\n",
              "       [18.6],\n",
              "       [19. ],\n",
              "       [19.1],\n",
              "       [19.4],\n",
              "       [20.4],\n",
              "       [20.5],\n",
              "       [20.5],\n",
              "       [21. ],\n",
              "       [21.1],\n",
              "       [22. ],\n",
              "       [22. ],\n",
              "       [22.1],\n",
              "       [23.6],\n",
              "       [24. ],\n",
              "       [25. ],\n",
              "       [29.5],\n",
              "       [23.6],\n",
              "       [24.1],\n",
              "       [25.6],\n",
              "       [28.5],\n",
              "       [33.7],\n",
              "       [37.3],\n",
              "       [13.5],\n",
              "       [14.3],\n",
              "       [16.3],\n",
              "       [17.5],\n",
              "       [18.4],\n",
              "       [19. ],\n",
              "       [19. ],\n",
              "       [19.8],\n",
              "       [21.2],\n",
              "       [23. ],\n",
              "       [24. ],\n",
              "       [ 7.5],\n",
              "       [12.5],\n",
              "       [13.8],\n",
              "       [15. ],\n",
              "       [15.7],\n",
              "       [16.2],\n",
              "       [16.8],\n",
              "       [17.2],\n",
              "       [17.8],\n",
              "       [18.2],\n",
              "       [19. ],\n",
              "       [19. ],\n",
              "       [19. ],\n",
              "       [19.3],\n",
              "       [20. ],\n",
              "       [20. ],\n",
              "       [20. ],\n",
              "       [20. ],\n",
              "       [20. ],\n",
              "       [20.5],\n",
              "       [20.5],\n",
              "       [20.7],\n",
              "       [21. ],\n",
              "       [21.5],\n",
              "       [22. ],\n",
              "       [22. ],\n",
              "       [22.6],\n",
              "       [23. ],\n",
              "       [23.5],\n",
              "       [25. ],\n",
              "       [25.2],\n",
              "       [25.4],\n",
              "       [25.4],\n",
              "       [25.4],\n",
              "       [25.9],\n",
              "       [26.9],\n",
              "       [27.8],\n",
              "       [30.5],\n",
              "       [32. ],\n",
              "       [32.5],\n",
              "       [34. ],\n",
              "       [34. ],\n",
              "       [34.5],\n",
              "       [34.6],\n",
              "       [36.5],\n",
              "       [36.5],\n",
              "       [36.6],\n",
              "       [36.9],\n",
              "       [37. ],\n",
              "       [37. ],\n",
              "       [37.1],\n",
              "       [39. ],\n",
              "       [39.8],\n",
              "       [40.1],\n",
              "       [40.2],\n",
              "       [41.1],\n",
              "       [30. ],\n",
              "       [31.7],\n",
              "       [32.7],\n",
              "       [34.8],\n",
              "       [35.5],\n",
              "       [36. ],\n",
              "       [40. ],\n",
              "       [40. ],\n",
              "       [40.1],\n",
              "       [42. ],\n",
              "       [43.2],\n",
              "       [44.8],\n",
              "       [48.3],\n",
              "       [52. ],\n",
              "       [56. ],\n",
              "       [56. ],\n",
              "       [59. ],\n",
              "       [ 9.3],\n",
              "       [10. ],\n",
              "       [10.1],\n",
              "       [10.4],\n",
              "       [10.7],\n",
              "       [10.8],\n",
              "       [11.3],\n",
              "       [11.3],\n",
              "       [11.4],\n",
              "       [11.5],\n",
              "       [11.7],\n",
              "       [12.1],\n",
              "       [13.2],\n",
              "       [13.8]])"
            ]
          },
          "metadata": {},
          "execution_count": 10
        }
      ]
    },
    {
      "cell_type": "markdown",
      "source": [
        "Ahora usamos la función train_test_split para partir el conjunto de datos en dos subconjuntos: entrenamiento y testeo. Para ver ejemplos del uso de esta función ver [AQUÍ](https://www.geeksforgeeks.org/how-to-split-the-dataset-with-scikit-learns-train_test_split-function/).\n",
        "\n",
        "Usar sólo los parámetros X,y, test_size (Porcentaje de los datos correspondiente al conjunto de testeo). Se suelen usar proporciones al rededor de Entrenamiento 80% y Testeo 20%."
      ],
      "metadata": {
        "id": "qSyBda_Q7wl6"
      }
    },
    {
      "cell_type": "code",
      "source": [
        "# Partir el conjunto de datos en Entrenamiento y Testeo\n",
        "X_train, X_test, y_train, y_test = train_test_split(X, y, test_size = 0.2)"
      ],
      "metadata": {
        "id": "NqjP-6yycAdR"
      },
      "execution_count": null,
      "outputs": []
    },
    {
      "cell_type": "markdown",
      "source": [
        "Ahora definamos el modelo de regresión lineal. Nuestro modelo se llamará *regr*. Lo entrenaremos y mediremos su coeficiente de detrminación."
      ],
      "metadata": {
        "id": "lAVD7H658zQV"
      }
    },
    {
      "cell_type": "code",
      "source": [
        "# Modelo de regresión lineal de SciKit Learn\n",
        "\n",
        "#Importar métricas\n",
        "from sklearn.metrics import mean_squared_error, r2_score\n",
        "\n",
        "#Se define el algoritmo a usar para entrenar el modelo\n",
        "regr = LinearRegression()\n",
        "#se entrena el modelo con el dataset y etiqueta de entrenamiento\n",
        "regr.fit(X_train, y_train)\n",
        "#se calculan predicciones para el conjunto de test.\n",
        "y_pred = regr.predict(X_test)\n",
        "\n",
        "print(\"score = \", r2_score(y_test, y_pred))  #Coeficiente de determinación\n",
        "print(\"MSE = \",mean_squared_error(y_test, y_pred))\n"
      ],
      "metadata": {
        "id": "qRaftP9ncB6A",
        "colab": {
          "base_uri": "https://localhost:8080/"
        },
        "outputId": "a85817f8-1c6b-41d9-8f08-52ce43c03360"
      },
      "execution_count": null,
      "outputs": [
        {
          "output_type": "stream",
          "name": "stdout",
          "text": [
            "score =  0.8704358223159558\n",
            "MSE =  24522.898307824915\n"
          ]
        }
      ]
    },
    {
      "cell_type": "markdown",
      "source": [
        "La salida anterior es el coeficiente de determinación del modelo arrojado por el algoritmo, así como el error cuadrático medio."
      ],
      "metadata": {
        "id": "M1YCZ-nI-Yqg"
      }
    },
    {
      "cell_type": "markdown",
      "source": [
        "\n",
        "A continuación imprimimos la pendiente y el intercepto de la recta arrojada por el modelo."
      ],
      "metadata": {
        "id": "_TvXkTfTFv7E"
      }
    },
    {
      "cell_type": "code",
      "source": [
        "print('slope:', regr.coef_[0])\n",
        "print('intercept:', regr.intercept_)"
      ],
      "metadata": {
        "id": "jfXPca1X-mSw",
        "colab": {
          "base_uri": "https://localhost:8080/"
        },
        "outputId": "e2c82a57-8db3-4f98-8ee9-978959f86232"
      },
      "execution_count": null,
      "outputs": [
        {
          "output_type": "stream",
          "name": "stdout",
          "text": [
            "slope: 31.458753582418638\n",
            "intercept: -433.36064770790983\n"
          ]
        }
      ]
    },
    {
      "cell_type": "markdown",
      "source": [
        "Ahora graficaremos el conjunto de testeo y la recta correspondiente al modelo en una misma gráfica."
      ],
      "metadata": {
        "id": "SIKIBMg7_RmS"
      }
    },
    {
      "cell_type": "code",
      "source": [
        "y_pred = regr.predict(X_test)\n",
        "\n",
        "plt.figure(figsize=(10,6))\n",
        "plt.scatter(X_test, y_test, color ='g')\n",
        "plt.plot(X_test, y_pred, color ='k')\n",
        "plt.show()"
      ],
      "metadata": {
        "id": "juhbsrCdcUKI",
        "colab": {
          "base_uri": "https://localhost:8080/",
          "height": 522
        },
        "outputId": "51576f16-985a-4c30-c52f-db753a70ac2c"
      },
      "execution_count": null,
      "outputs": [
        {
          "output_type": "display_data",
          "data": {
            "text/plain": [
              "<Figure size 1000x600 with 1 Axes>"
            ],
            "image/png": "[encoded data removed]"
          },
          "metadata": {}
        }
      ]
    },
    {
      "cell_type": "markdown",
      "source": [
        "## Su turno"
      ],
      "metadata": {
        "id": "4BvJnaSlCU04"
      }
    },
    {
      "cell_type": "markdown",
      "source": [
        "\n",
        "1. Bosquejar en la misma gráfica el diagrama de dispersión de (Lenght1,Weight) en color verde y el diagrama de dispersión para (Width, Weight) en color azul. Para esto sólo se requiere añadir al código dos líneas seguidas del tipo: plt.scatter(data=df, x=___, y=___, color= ___)\n",
        "\n",
        "2. ¿Cuál modelo tendrá una pendiente mayor?\n",
        "3. Entrenar un modelo de regresión lineal para predecir el peso (Weight), usando la variable Width.\n",
        "4. ¿Cuál tiene mayor Coeficiente de determinación? ¿por qué cree que esto ocurre?"
      ],
      "metadata": {
        "id": "fWQKeU51-W_P"
      }
    },
    {
      "cell_type": "markdown",
      "source": [
        "# Respuestas"
      ],
      "metadata": {
        "id": "ivnEJpYQ-r_3"
      }
    },
    {
      "cell_type": "code",
      "source": [
        "#Punto 1\n",
        "#Graficar diagrama de dispersión para Length1 vs Weight\n",
        "plt.figure(figsize = [8, 6]) #Establecemos el tamaño de la figura\n",
        "plt.scatter(data=df, x='Length1', y='Weight', color= \"green\") #Asignamos la variable x, y y el color para el diagrama de dispersión.\n",
        "plt.scatter(data=df, x='Width', y='Weight', color= \"blue\")\n"
      ],
      "metadata": {
        "colab": {
          "base_uri": "https://localhost:8080/",
          "height": 539
        },
        "id": "N8Q97LLl9zNt",
        "outputId": "73f577b5-c05b-45ea-d827-ef61e0bd38ec"
      },
      "execution_count": null,
      "outputs": [
        {
          "output_type": "execute_result",
          "data": {
            "text/plain": [
              "<matplotlib.collections.PathCollection at 0x7f6772a84f10>"
            ]
          },
          "metadata": {},
          "execution_count": 15
        },
        {
          "output_type": "display_data",
          "data": {
            "text/plain": [
              "<Figure size 800x600 with 1 Axes>"
            ],
            "image/png": "[encoded data removed]"
          },
          "metadata": {}
        }
      ]
    },
    {
      "cell_type": "markdown",
      "source": [
        "## Las dos formas de hacer regresión lineal"
      ],
      "metadata": {
        "id": "SvhH6IUmClJg"
      }
    },
    {
      "cell_type": "code",
      "source": [
        "#Punto 2 y 3\n",
        "#Entrenar un modelo de regresión lineal para predecir el peso (Weight), usando la variable Width.\n",
        "X = np.array(df['Width']).reshape(-1, 1)\n",
        "y = df['Weight']\n",
        "\n",
        "# Partir el conjunto de datos en Entrenamiento y Testeo\n",
        "X_train, X_test, y_train, y_test = train_test_split(X, y, test_size = 0.2)\n",
        "\n",
        "# Modelo de regresión lineal de SciKit Learn\n",
        "\n",
        "#Importar métricas\n",
        "from sklearn.metrics import mean_squared_error, r2_score\n",
        "\n",
        "#Se define el algoritmo a usar para entrenar el modelo\n",
        "regr = LinearRegression()\n",
        "#se entrena el modelo con el dataset y etiqueta de entrenamiento\n",
        "regr.fit(X_train, y_train)\n",
        "#se calculan predicciones para el conjunto de test.\n",
        "y_pred = regr.predict(X_test)\n",
        "\n",
        "print(\"score = \", r2_score(y_test, y_pred))\n",
        "print(\"MSE = \",mean_squared_error(y_test, y_pred))\n",
        "\n",
        "print('slope:', regr.coef_[0])\n",
        "print('intercept:', regr.intercept_)"
      ],
      "metadata": {
        "colab": {
          "base_uri": "https://localhost:8080/"
        },
        "id": "aNTuA6gA-1Ar",
        "outputId": "fe15c7eb-36f4-47d5-d4f1-4dc8f57047a6"
      },
      "execution_count": null,
      "outputs": [
        {
          "output_type": "stream",
          "name": "stdout",
          "text": [
            "score =  0.6504753604644007\n",
            "MSE =  59755.30103179728\n",
            "slope: 184.38038284465938\n",
            "intercept: -425.21864422248166\n"
          ]
        }
      ]
    },
    {
      "cell_type": "markdown",
      "source": [
        "2. Como podemos evidenciar, el valor de la variable slope en el diagrama de dispersión para (Width, Weight) en color azul es mayor respecto al primer diagrama ((Length1, Weight))."
      ],
      "metadata": {
        "id": "-iyahjnJIcXo"
      }
    },
    {
      "cell_type": "code",
      "source": [
        "y_pred = regr.predict(X_test)\n",
        "\n",
        "plt.figure(figsize=(10,6))\n",
        "plt.scatter(X_test, y_test, color ='b')\n",
        "plt.plot(X_test, y_pred, color ='k')\n",
        "plt.show()"
      ],
      "metadata": {
        "colab": {
          "base_uri": "https://localhost:8080/",
          "height": 522
        },
        "id": "lkfbxp5H_xpI",
        "outputId": "57c8ed98-aa16-4c62-c67d-1a0b4fc5e1d4"
      },
      "execution_count": null,
      "outputs": [
        {
          "output_type": "display_data",
          "data": {
            "text/plain": [
              "<Figure size 1000x600 with 1 Axes>"
            ],
            "image/png": "[encoded data removed]"
          },
          "metadata": {}
        }
      ]
    },
    {
      "cell_type": "markdown",
      "source": [
        "4. ¿Cuál tiene mayor Coeficiente de determinación? ¿por qué cree que esto ocurre?\n",
        "\n",
        "score1 =  0.896685552532399\n",
        "\n",
        "score2 =  0.79005738157196\n",
        "\n",
        "De acuerdo con esto, la variable length1 explica de mejor manera la variable weight. En este caso, width sería menos acertiva.\n",
        "\n",
        "Por otro lado, visualmente o intuitivamente, al observar las gráficas, la correspondiente a (Width, Weight) en color azul, se evidencia una tendencia más poligonal o exponencial. El modelo verde, tiene mayor score porque tiende a ser más lineal."
      ],
      "metadata": {
        "id": "4Aje6r-OJbVO"
      }
    },
    {
      "cell_type": "markdown",
      "source": [
        "**--------------------------------------------------------------------------------------------------------------------------------------------------**"
      ],
      "metadata": {
        "id": "vt-02bdPOsNF"
      }
    },
    {
      "cell_type": "markdown",
      "source": [
        "En clase vimos que hay dos formas de lograr un modelo de regresión lineal. La primera es calculando el vector de parámetros que minimice la función de error, mediante derivadas. Vimos una fórmula para dicho mínimo. Éste es el método de usa el algoritmo *LinearRegression* de SKLearn.\n",
        "\n",
        "Sin embargo, vimos también que hay otra forma de encontrar dicho mínimo y es mediante el algoritmo del decenso de gradiente. (¿Recuerda la ventaja o desventaja de cada uno?, si o las recuerda, será mejor investigarlas)."
      ],
      "metadata": {
        "id": "Z-wtRIFdCr84"
      }
    },
    {
      "cell_type": "markdown",
      "source": [
        "Vamos a considerar un conjunto de datos muy simple: las cuatro esquinas de un cuadrado."
      ],
      "metadata": {
        "id": "l0tAK3miD1oZ"
      }
    },
    {
      "cell_type": "code",
      "source": [
        "X = np.array([0, 0, 1, 1])\n",
        "y = np.array([0, 1, 0, 1])\n",
        "\n",
        "X = np.array(X).reshape(-1, 1)\n",
        "´"
      ],
      "metadata": {
        "id": "jY90CxK8CrD2"
      },
      "execution_count": null,
      "outputs": []
    },
    {
      "cell_type": "markdown",
      "source": [
        "Podemos aplicar el algoritmo *LinearRegression* para intentar modelar linealmente este conunto de datos.\n",
        "\n",
        "**Ojo:** Tenga presentes dos cosas.\n",
        "-  Recuerde que LinearRegression recibe como datos de entrada un arreglo 2-dimensional, por lo cual debe redimensionar sus datos.\n",
        "- Al ser tan pocos datos, no separaremos en *train* y *test*. Símplemente entrenaremos el modelo usando *X*, *y* en lugar de *X_train*, *y_train*.\n"
      ],
      "metadata": {
        "id": "wiHYQnQxERYn"
      }
    },
    {
      "cell_type": "markdown",
      "source": [
        "### Ejercicio"
      ],
      "metadata": {
        "id": "757bX35nEqCG"
      }
    },
    {
      "cell_type": "markdown",
      "source": [
        "4. De acuerdo a lo visto en clase, cuál intuye que sería la recta que arrojaría este algoritmo como modelo de regresión lineal? ¿Por qué?\n",
        "5. Use *LinearRegression* de SKLearn para calcular dicho modelo. Calcule su coeficiente de determinación.\n",
        "6. ¿Observa algo particular en el coeficiente de determinación? Explique ka razón de dicho valor."
      ],
      "metadata": {
        "id": "Wp5xdthhUjxZ"
      }
    },
    {
      "cell_type": "markdown",
      "source": [
        "# Respuestas\n",
        "\n",
        "4. Consideramos que la recta sería constante porque eso representa el error mínimo, el cual es el objetivo del modelo de Regresión Lineal."
      ],
      "metadata": {
        "id": "ehzZ4M8hPAmk"
      }
    },
    {
      "cell_type": "code",
      "source": [
        "#Punto 5\n",
        "# Modelo de regresión lineal de SciKit Learn\n",
        "\n",
        "#Importar métricas\n",
        "from sklearn.metrics import mean_squared_error, r2_score\n",
        "\n",
        "#Se define el algoritmo a usar para entrenar el modelo\n",
        "regr = LinearRegression()\n",
        "#se entrena el modelo con el dataset y etiqueta de entrenamiento\n",
        "regr.fit(X, y)\n",
        "#se calculan predicciones para el conjunto de test.\n",
        "y_pred = regr.predict(X)\n",
        "\n",
        "print(\"score = \", r2_score(y, y_pred))"
      ],
      "metadata": {
        "colab": {
          "base_uri": "https://localhost:8080/"
        },
        "id": "hRUKz7YBBAji",
        "outputId": "d0a5cf7f-6c2e-4426-e4e7-37076871496d"
      },
      "execution_count": null,
      "outputs": [
        {
          "output_type": "stream",
          "name": "stdout",
          "text": [
            "score =  0.0\n"
          ]
        }
      ]
    },
    {
      "cell_type": "code",
      "source": [
        "y_pred = regr.predict(X)\n",
        "\n",
        "plt.figure(figsize=(10,6))\n",
        "plt.scatter(X, y, color ='y')\n",
        "plt.plot(X, y_pred, color ='k')\n",
        "plt.show()´"
      ],
      "metadata": {
        "colab": {
          "base_uri": "https://localhost:8080/",
          "height": 522
        },
        "id": "BMcWOs82B7FS",
        "outputId": "b10db2c0-f57d-4504-b8aa-d8a82047995a"
      },
      "execution_count": null,
      "outputs": [
        {
          "output_type": "display_data",
          "data": {
            "text/plain": [
              "<Figure size 1000x600 with 1 Axes>"
            ],
            "image/png": "[encoded data removed]"
          },
          "metadata": {}
        }
      ]
    },
    {
      "cell_type": "markdown",
      "source": [
        "6. Observamos que el coeficiente de determinación es cero. Lo que significa que el modelo de Regresión de Lineal no tiene error."
      ],
      "metadata": {
        "id": "cEj0PZWMPfNJ"
      }
    },
    {
      "cell_type": "markdown",
      "source": [
        "### Ejercicio: Ahora con decenso de gradiente"
      ],
      "metadata": {
        "id": "iFJygN8ARIZT"
      }
    },
    {
      "cell_type": "markdown",
      "source": [
        "Podemos entrenar un modelo de regresión lineal utilizando el decenso de gradiente. Existe un algoritmo en SKLearn que hace eso: *SGDRegressor*. Investigue un poco sobre este algoritmo y sus parámetros.\n",
        "\n",
        "7. Entrene un algoritmo de regresión lineal usando SGDRegressor. En dicho entrenamiento, utilice en primer lugar los parámetros:\n",
        "- learning_rate='constant'\n",
        "- eta0=0.01, max_iter=10000\n",
        "- tol=1e-3\n",
        "- random_state=0\n",
        "\n",
        "8. Compare el resultado con el de *LinearRegressor*. ¿Cuál dio mejor resultado? ¿Por qué?¿Convendría siempre utilizar el algoritmo que dió mejor resultado?\n",
        "\n",
        "9. Experimente con diferentes valores de los parámetros de SGDRegressor. Qué concluye acerca del efecto de variar dichos parámetros?\n",
        "\n",
        "10. Escriba algunas conclusiones generales del ejercicio."
      ],
      "metadata": {
        "id": "UMaffF5cRTxU"
      }
    },
    {
      "cell_type": "code",
      "source": [
        "from sklearn.linear_model import SGDRegressor\n",
        "\n",
        "#Se define el algoritmo a usar para entrenar el modelo\n",
        "regr = SGDRegressor(learning_rate='constan´t', eta0=0.01, max_iter=10000, tol=1e-3, random_state=0)\n",
        "#se entrena el modelo con el dataset y etiqueta de entrenamiento\n",
        "regr.fit(X, y)\n",
        "#se calculan predicciones para el conjunto de test.\n",
        "y_pred = regr.predict(X)\n",
        "\n",
        "print(\"score = \", r2_score(y, y_pred))\n",
        "print(\"MSE = \",mean_squared_error(y, y_pred))\n",
        "\n",
        "print('slope:', regr.coef_[0])\n",
        "print('intercept:', regr.intercept_)"
      ],
      "metadata": {
        "id": "ncI4wyK5PqKh",
        "colab": {
          "base_uri": "https://localhost:8080/"
        },
        "outputId": "f588350f-0d9f-4f6c-880a-d97b549cae06"
      },
      "execution_count": null,
      "outputs": [
        {
          "output_type": "stream",
          "name": "stdout",
          "text": [
            "score =  -0.07099187031037335\n",
            "MSE =  0.26774796757759334\n",
            "slope: 0.13238507347862496\n",
            "intercept: [0.31819382]\n"
          ]
        }
      ]
    },
    {
      "cell_type": "code",
      "source": [
        "y_pred = regr.predict(X)\n",
        "\n",
        "plt.figure(figsize=(10,6))\n",
        "plt.scatter(X, y, color ='y')\n",
        "plt.plot(X, y_pred, color ='k')\n",
        "plt.show()"
      ],
      "metadata": {
        "id": "CoLPUsCaFV7p",
        "colab": {
          "base_uri": "https://localhost:8080/",
          "height": 522
        },
        "outputId": "368f47a3-8ca5-484a-a60f-44d99080d303"
      },
      "execution_count": null,
      "outputs": [
        {
          "output_type": "display_data",
          "data": {
            "text/plain": [
              "<Figure size 1000x600 with 1 Axes>"
            ],
            "image/png": "[encoded data removed]"
          },
          "metadata": {}
        }
      ]
    },
    {
      "cell_type": "markdown",
      "source": [
        "# Punto 8\n",
        "\n",
        "\n",
        "Da mejor resultado el de*LinearRegression*, pero tiene un costo computacional demasiado alto, por lo que, es poco efectivo al momento de trabajar con bases de datos muy grandes. De esta forma, no siempre es conveniente implementar *LinearRegression*, particularmente cuando se trabaja en el área de Aprendizaje Automático de Máquina.\n"
      ],
      "metadata": {
        "id": "Na_pTpM0__SS"
      }
    },
    {
      "cell_type": "markdown",
      "source": [
        "# Punto 9\n",
        "\n",
        "Experimente con diferentes valores de los parámetros de SGDRegressor. Qué concluye acerca del efecto de variar dichos parámetros?\n"
      ],
      "metadata": {
        "id": "sscrqLmAAKaW"
      }
    },
    {
      "cell_type": "code",
      "source": [
        "from sklearn.linear_model import SGDRegressor\n",
        "\n",
        "#Se define el algoritmo a usar para entrenar el modelo\n",
        "regr = SGDRegressor(learning_rate='constant', eta0=0.2, max_iter=2500000000, tol=1e-3, random_state=0)\n",
        "#se entrena el modelo con el dataset y etiqueta de entrenamiento\n",
        "regr.fit(X, y)\n",
        "#se calculan predicciones para el conjunto de test.\n",
        "y_pred = regr.predict(X)\n",
        "Code\n",
        "Text\n",
        "￼￼Choose FilesNo file chosenψ\n",
        "# Punto 10*   SGDRegressor es mejor para problemas de Machine Learning.*   SGDRegressor suele arrojar resultado óptimos pero no necesariamente el mejor. Para que sea perfecto, toca dar paso menores con más iteraciones pero requiere mucho más costo computacional.*   LinearRegression es bueno cuando tenemos una base de datos de tamaño razonable, pero no lo vale cuando es muy grande.\n",
        "￼\n",
        "Punto 10\n",
        "\n",
        "print(\"score = \", r2_score(y, y_pred))\n",
        "print(\"MSE = \",mean_squared_error(y, y_pred))\n",
        "\n",
        "print('slope:', regr.coef_[0])\n",
        "print('intercept:', regr.intercept_)\n",
        "\n",
        "\n",
        "y_pred = regr.predict(X)´\n",
        "\n",
        "plt.figure(figsize=(10,6))\n",
        "plt.scatter(X, y, color ='y')\n",
        "plt.plot(X, y_pred, color ='k')\n",
        "plt.show()"
      ],
      "metadata": {
        "colab": {
          "base_uri": "https://localhost:8080/",
          "height": 591
        },
        "id": "kl1I-ZcgCgpO",
        "outputId": "56c3c308-0556-40c1-d27f-32d92611a1a4"
      },
      "execution_count": 63,
      "outputs": [
        {
          "output_type": "stream",
          "name": "stdout",
          "text": [
            "score =  -0.02348092435007887\n",
            "MSE =  0.2558702310875197\n",
            "slope: 0.09565454498687752\n",
            "intercept: [0.51202908]\n"
          ]
        },
        {
          "output_type": "display_data",
          "data": {
            "text/plain": [
              "<Figure size 1000x600 with 1 Axes>"
            ],
            "image/png": "[encoded data removed]"
          },
          "metadata": {}
        }
      ]
    },
    {
      "cell_type": "markdown",
      "source": [
        "\n",
        "Al experimentar variando los parámetros de SGDRegressor, pudimos observar que eta0 (magnitud del pasito) y max_iter (número de iteraciones), son los argumentos que más influeyen en el modelo. a medida que el pasito se vuelve más pequeño y, a su vez, hay más iteraciones, el modelo va a ser mucho más preciso y con menos error. Sin embargo, tampoco es conveniente tener un pasito muy muy pequeño porque puede tener un gran costo computacional.\n",
        "\n",
        "---\n",
        "\n"
      ],
      "metadata": {
        "id": "RArD68FVC0Rs"
      }
    },
    {
      "cell_type": "markdown",
      "source": [
        "# Punto 10\n",
        "\n",
        "*   SGDRegressor es mejor para problemas de Machine Learning.\n",
        "\n",
        "*   SGDRegressor suele arrojar resultado óptimos pero no necesariamente el mejor. Para que sea perfecto, toca dar paso menores con más iteraciones pero requiere mucho más costo computacional.\n",
        "\n",
        "*   LinearRegression es bueno cuando tenemos una base de datos de tamaño razonable, pero no lo vale cuando es muy grande.\n",
        "\n",
        "* Nuestro modelo va a ser mejor mientras su score se acerque más a 1.\n",
        "\n",
        "\n",
        "\n",
        "\n"
      ],
      "metadata": {
        "id": "AhSpZEGWAK5-"
      }
    }
  ]
}