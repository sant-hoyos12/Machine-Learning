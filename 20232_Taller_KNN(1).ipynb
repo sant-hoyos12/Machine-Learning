{
  "nbformat": 4,
  "nbformat_minor": 0,
  "metadata": {
    "colab": {
      "provenance": []
    },
    "kernelspec": {
      "name": "python3",
      "display_name": "Python 3"
    },
    "language_info": {
      "name": "python"
    }
  },
  "cells": [
    {
      "cell_type": "markdown",
      "source": [
        "# Taller Vecinos más cercanos (KNN)"
      ],
      "metadata": {
        "id": "vb7JcpGytwI-"
      }
    },
    {
      "cell_type": "markdown",
      "source": [
        "Usamos el método de vecinos más cercanos para clasificación. Por un lado, analizamos el Iris Dataset sobre especies de flores. Por el otro lado analizamos la supervivencia en la tragedia del Titanic utilizando diferentes valores de K.\n",
        "\n",
        "Importamos primero las librerías y paquetes que utilizaremos. Puede importar otros si lo considera útil."
      ],
      "metadata": {
        "id": "TfBew5r1uKq3"
      }
    },
    {
      "cell_type": "code",
      "source": [
        "#importar paquetes\n",
        "import numpy as np\n",
        "import pandas as pd\n",
        "import matplotlib.pyplot as plt\n",
        "from sklearn.model_selection import train_test_split\n",
        "from sklearn.neighbors import KNeighborsClassifier"
      ],
      "metadata": {
        "id": "y1nYtnFwncsf"
      },
      "execution_count": 1,
      "outputs": []
    },
    {
      "cell_type": "markdown",
      "source": [
        "## Iris Dataset\n"
      ],
      "metadata": {
        "id": "y2PGF2SZV1Ep"
      }
    },
    {
      "cell_type": "markdown",
      "source": [
        "SKLearn nos provee de algunos conjuntos de datos. Este es el caso del Iris dataset. A continuación vemos cómo se importa este conjunto de datos desde sklearn."
      ],
      "metadata": {
        "id": "mlnrNPcvZgrn"
      }
    },
    {
      "cell_type": "code",
      "execution_count": 2,
      "metadata": {
        "id": "-je5Z5yIiAht"
      },
      "outputs": [],
      "source": [
        "#importar dataset\n",
        "from sklearn.datasets import load_iris"
      ]
    },
    {
      "cell_type": "code",
      "source": [
        "#Importar iris dataset y separar en data y target\n",
        "iris = load_iris()\n",
        "X=pd.DataFrame(iris.data)\n",
        "y=pd.DataFrame(iris.target)"
      ],
      "metadata": {
        "id": "aGVzYnkVAzcG"
      },
      "execution_count": 3,
      "outputs": []
    },
    {
      "cell_type": "markdown",
      "source": [
        "Primero separamos el conjunto de datos en Train y Test, en una proporción de 70%, 30%."
      ],
      "metadata": {
        "id": "4b1lK_jfRN0G"
      }
    },
    {
      "cell_type": "code",
      "source": [
        "#Separar en train y test\n",
        "X_train, X_test, y_train, y_test = train_test_split(X, y, test_size=0.3, random_state=42)"
      ],
      "metadata": {
        "id": "iD4eBBStBuIu"
      },
      "execution_count": 4,
      "outputs": []
    },
    {
      "cell_type": "markdown",
      "source": [
        "1. Importar el classificador KNeighborsClassifier de SKLearn con el nombre *knn*. Usar k=3. Entrenar el clasificador con los datos de entrenamiento.\n",
        "\n",
        "2. Calcular el exactitud obtenida en los datos de Test, utilizando el método *score* del clasificador.\n",
        "\n",
        "\n",
        "\n"
      ],
      "metadata": {
        "id": "CCarZX--RanF"
      }
    },
    {
      "cell_type": "code",
      "source": [
        "#Importar KNeighborsClassifier con k=3 con el nombre knn\n",
        "knn = KNeighborsClassifier(n_neighbors=3)"
      ],
      "metadata": {
        "id": "vsn3h3j2BmAk"
      },
      "execution_count": 5,
      "outputs": []
    },
    {
      "cell_type": "code",
      "source": [
        "knn.fit(X_train, y_train)\n"
      ],
      "metadata": {
        "id": "bxM2E55YB6n0",
        "colab": {
          "base_uri": "https://localhost:8080/",
          "height": 129
        },
        "outputId": "84ce8187-0ba8-4d80-c820-0853cba763a7"
      },
      "execution_count": 6,
      "outputs": [
        {
          "output_type": "stream",
          "name": "stderr",
          "text": [
            "/usr/local/lib/python3.10/dist-packages/sklearn/neighbors/_classification.py:215: DataConversionWarning: A column-vector y was passed when a 1d array was expected. Please change the shape of y to (n_samples,), for example using ravel().\n",
            "  return self._fit(X, y)\n"
          ]
        },
        {
          "output_type": "execute_result",
          "data": {
            "text/plain": [
              "KNeighborsClassifier(n_neighbors=3)"
            ],
            "text/html": [
              "<style>#sk-container-id-1 {color: black;background-color: white;}#sk-container-id-1 pre{padding: 0;}#sk-container-id-1 div.sk-toggleable {background-color: white;}#sk-container-id-1 label.sk-toggleable__label {cursor: pointer;display: block;width: 100%;margin-bottom: 0;padding: 0.3em;box-sizing: border-box;text-align: center;}#sk-container-id-1 label.sk-toggleable__label-arrow:before {content: \"▸\";float: left;margin-right: 0.25em;color: #696969;}#sk-container-id-1 label.sk-toggleable__label-arrow:hover:before {color: black;}#sk-container-id-1 div.sk-estimator:hover label.sk-toggleable__label-arrow:before {color: black;}#sk-container-id-1 div.sk-toggleable__content {max-height: 0;max-width: 0;overflow: hidden;text-align: left;background-color: #f0f8ff;}#sk-container-id-1 div.sk-toggleable__content pre {margin: 0.2em;color: black;border-radius: 0.25em;background-color: #f0f8ff;}#sk-container-id-1 input.sk-toggleable__control:checked~div.sk-toggleable__content {max-height: 200px;max-width: 100%;overflow: auto;}#sk-container-id-1 input.sk-toggleable__control:checked~label.sk-toggleable__label-arrow:before {content: \"▾\";}#sk-container-id-1 div.sk-estimator input.sk-toggleable__control:checked~label.sk-toggleable__label {background-color: #d4ebff;}#sk-container-id-1 div.sk-label input.sk-toggleable__control:checked~label.sk-toggleable__label {background-color: #d4ebff;}#sk-container-id-1 input.sk-hidden--visually {border: 0;clip: rect(1px 1px 1px 1px);clip: rect(1px, 1px, 1px, 1px);height: 1px;margin: -1px;overflow: hidden;padding: 0;position: absolute;width: 1px;}#sk-container-id-1 div.sk-estimator {font-family: monospace;background-color: #f0f8ff;border: 1px dotted black;border-radius: 0.25em;box-sizing: border-box;margin-bottom: 0.5em;}#sk-container-id-1 div.sk-estimator:hover {background-color: #d4ebff;}#sk-container-id-1 div.sk-parallel-item::after {content: \"\";width: 100%;border-bottom: 1px solid gray;flex-grow: 1;}#sk-container-id-1 div.sk-label:hover label.sk-toggleable__label {background-color: #d4ebff;}#sk-container-id-1 div.sk-serial::before {content: \"\";position: absolute;border-left: 1px solid gray;box-sizing: border-box;top: 0;bottom: 0;left: 50%;z-index: 0;}#sk-container-id-1 div.sk-serial {display: flex;flex-direction: column;align-items: center;background-color: white;padding-right: 0.2em;padding-left: 0.2em;position: relative;}#sk-container-id-1 div.sk-item {position: relative;z-index: 1;}#sk-container-id-1 div.sk-parallel {display: flex;align-items: stretch;justify-content: center;background-color: white;position: relative;}#sk-container-id-1 div.sk-item::before, #sk-container-id-1 div.sk-parallel-item::before {content: \"\";position: absolute;border-left: 1px solid gray;box-sizing: border-box;top: 0;bottom: 0;left: 50%;z-index: -1;}#sk-container-id-1 div.sk-parallel-item {display: flex;flex-direction: column;z-index: 1;position: relative;background-color: white;}#sk-container-id-1 div.sk-parallel-item:first-child::after {align-self: flex-end;width: 50%;}#sk-container-id-1 div.sk-parallel-item:last-child::after {align-self: flex-start;width: 50%;}#sk-container-id-1 div.sk-parallel-item:only-child::after {width: 0;}#sk-container-id-1 div.sk-dashed-wrapped {border: 1px dashed gray;margin: 0 0.4em 0.5em 0.4em;box-sizing: border-box;padding-bottom: 0.4em;background-color: white;}#sk-container-id-1 div.sk-label label {font-family: monospace;font-weight: bold;display: inline-block;line-height: 1.2em;}#sk-container-id-1 div.sk-label-container {text-align: center;}#sk-container-id-1 div.sk-container {/* jupyter's `normalize.less` sets `[hidden] { display: none; }` but bootstrap.min.css set `[hidden] { display: none !important; }` so we also need the `!important` here to be able to override the default hidden behavior on the sphinx rendered scikit-learn.org. See: https://github.com/scikit-learn/scikit-learn/issues/21755 */display: inline-block !important;position: relative;}#sk-container-id-1 div.sk-text-repr-fallback {display: none;}</style><div id=\"sk-container-id-1\" class=\"sk-top-container\"><div class=\"sk-text-repr-fallback\"><pre>KNeighborsClassifier(n_neighbors=3)</pre><b>In a Jupyter environment, please rerun this cell to show the HTML representation or trust the notebook. <br />On GitHub, the HTML representation is unable to render, please try loading this page with nbviewer.org.</b></div><div class=\"sk-container\" hidden><div class=\"sk-item\"><div class=\"sk-estimator sk-toggleable\"><input class=\"sk-toggleable__control sk-hidden--visually\" id=\"sk-estimator-id-1\" type=\"checkbox\" checked><label for=\"sk-estimator-id-1\" class=\"sk-toggleable__label sk-toggleable__label-arrow\">KNeighborsClassifier</label><div class=\"sk-toggleable__content\"><pre>KNeighborsClassifier(n_neighbors=3)</pre></div></div></div></div></div>"
            ]
          },
          "metadata": {},
          "execution_count": 6
        }
      ]
    },
    {
      "cell_type": "code",
      "source": [
        "#Calcular la exactitud (score) del modelo en los datos test.\n",
        "print('Accuracy of K-NN classifier on training set: {:.2f}'.format(knn.score(X_train, y_train)))"
      ],
      "metadata": {
        "id": "zlrL9JhAB87q",
        "colab": {
          "base_uri": "https://localhost:8080/"
        },
        "outputId": "62ad6c51-83f5-43aa-ea34-87c1e7a46c4d"
      },
      "execution_count": 7,
      "outputs": [
        {
          "output_type": "stream",
          "name": "stdout",
          "text": [
            "Accuracy of K-NN classifier on training set: 0.94\n"
          ]
        }
      ]
    },
    {
      "cell_type": "markdown",
      "source": [
        "3. Observe los diagramas de dispersión del Iris datset [aquí](https://es.wikipedia.org/wiki/Conjunto_de_datos_flor_iris).¿Cree que la exactitud mejorará con un k más pequeño?¿Cree que mejorará con un K más grande? ¿Por qué? Verifique su hipótesis realizando el ejercicio con otros valores de K.\n"
      ],
      "metadata": {
        "id": "bWhb1B3sZn1g"
      }
    },
    {
      "cell_type": "markdown",
      "source": [
        "No se evidencia mucha variación en el score cuando se baja el k dado que los datos está muy bien divididos y agrupados. Por esta misma razón, cuando el k crece relativamente poco, sigue dando un buen resultado por la cercanía de datos familiares. Sin embargo, cuando tenemos un k muy grande, el score empeora puesto que ahora sí está tomando en cuenta todo tipo de dato."
      ],
      "metadata": {
        "id": "vCmUh9zLfxHe"
      }
    },
    {
      "cell_type": "markdown",
      "source": [
        "## Titanic Dataset\n",
        "Ahora analizamos la supervivencia en el naufragio del Titanic. El conjunto de datos, así como el diccionario de atributos, puede verlos [aquí](https://www.kaggle.com/competitions/titanic/data)."
      ],
      "metadata": {
        "id": "SeWq0Z6I0Jkk"
      }
    },
    {
      "cell_type": "markdown",
      "source": [
        "4. Importar los datos del Titanic de Kaggle. Eliminar las filas con valores ausentes (NaN)."
      ],
      "metadata": {
        "id": "p7y-Mm4WaQFX"
      }
    },
    {
      "cell_type": "code",
      "source": [
        "#importar los datos del Titanic Dataset.\n",
        "titanic_train = pd.read_csv(\"train.csv\")"
      ],
      "metadata": {
        "id": "mmzuPixPE4NO"
      },
      "execution_count": 8,
      "outputs": []
    },
    {
      "cell_type": "code",
      "source": [
        "#Remover filas con valores ausentes.\n",
        "X = titanic_train.dropna()"
      ],
      "metadata": {
        "id": "PBJCxZPgVRb8"
      },
      "execution_count": 9,
      "outputs": []
    },
    {
      "cell_type": "markdown",
      "source": [
        "5. Explorar el dataset mediante su visualización, el uso de los métodos *head*, *info* y *value_counts* para los Dataframes en pandas y sus columnas. ¿Qué tipo de variables tiene? ¿qué caracteriza a los valores de dichas variables? ¿Qué tipos de datos se usan?"
      ],
      "metadata": {
        "id": "fjq8-ogxXt_5"
      }
    },
    {
      "cell_type": "code",
      "source": [
        "#Explorar el dataset\n",
        "X.head()\n",
        "#titanic_train.info()\n",
        "#titanic_train.value_counts()"
      ],
      "metadata": {
        "id": "03OZ6O4kFHaA",
        "colab": {
          "base_uri": "https://localhost:8080/",
          "height": 206
        },
        "outputId": "5954bcdb-f5f5-4cda-eb61-9d2c6e7c1d8f"
      },
      "execution_count": 10,
      "outputs": [
        {
          "output_type": "execute_result",
          "data": {
            "text/plain": [
              "    PassengerId  Survived  Pclass  \\\n",
              "1             2         1       1   \n",
              "3             4         1       1   \n",
              "6             7         0       1   \n",
              "10           11         1       3   \n",
              "11           12         1       1   \n",
              "\n",
              "                                                 Name     Sex   Age  SibSp  \\\n",
              "1   Cumings, Mrs. John Bradley (Florence Briggs Th...  female  38.0      1   \n",
              "3        Futrelle, Mrs. Jacques Heath (Lily May Peel)  female  35.0      1   \n",
              "6                             McCarthy, Mr. Timothy J    male  54.0      0   \n",
              "10                    Sandstrom, Miss. Marguerite Rut  female   4.0      1   \n",
              "11                           Bonnell, Miss. Elizabeth  female  58.0      0   \n",
              "\n",
              "    Parch    Ticket     Fare Cabin Embarked  \n",
              "1       0  PC 17599  71.2833   C85        C  \n",
              "3       0    113803  53.1000  C123        S  \n",
              "6       0     17463  51.8625   E46        S  \n",
              "10      1   PP 9549  16.7000    G6        S  \n",
              "11      0    113783  26.5500  C103        S  "
            ],
            "text/html": [
              "\n",
              "  <div id=\"df-5d22e347-4bb8-49e8-b49d-2bfa9e418b03\" class=\"colab-df-container\">\n",
              "    <div>\n",
              "<style scoped>\n",
              "    .dataframe tbody tr th:only-of-type {\n",
              "        vertical-align: middle;\n",
              "    }\n",
              "\n",
              "    .dataframe tbody tr th {\n",
              "        vertical-align: top;\n",
              "    }\n",
              "\n",
              "    .dataframe thead th {\n",
              "        text-align: right;\n",
              "    }\n",
              "</style>\n",
              "<table border=\"1\" class=\"dataframe\">\n",
              "  <thead>\n",
              "    <tr style=\"text-align: right;\">\n",
              "      <th></th>\n",
              "      <th>PassengerId</th>\n",
              "      <th>Survived</th>\n",
              "      <th>Pclass</th>\n",
              "      <th>Name</th>\n",
              "      <th>Sex</th>\n",
              "      <th>Age</th>\n",
              "      <th>SibSp</th>\n",
              "      <th>Parch</th>\n",
              "      <th>Ticket</th>\n",
              "      <th>Fare</th>\n",
              "      <th>Cabin</th>\n",
              "      <th>Embarked</th>\n",
              "    </tr>\n",
              "  </thead>\n",
              "  <tbody>\n",
              "    <tr>\n",
              "      <th>1</th>\n",
              "      <td>2</td>\n",
              "      <td>1</td>\n",
              "      <td>1</td>\n",
              "      <td>Cumings, Mrs. John Bradley (Florence Briggs Th...</td>\n",
              "      <td>female</td>\n",
              "      <td>38.0</td>\n",
              "      <td>1</td>\n",
              "      <td>0</td>\n",
              "      <td>PC 17599</td>\n",
              "      <td>71.2833</td>\n",
              "      <td>C85</td>\n",
              "      <td>C</td>\n",
              "    </tr>\n",
              "    <tr>\n",
              "      <th>3</th>\n",
              "      <td>4</td>\n",
              "      <td>1</td>\n",
              "      <td>1</td>\n",
              "      <td>Futrelle, Mrs. Jacques Heath (Lily May Peel)</td>\n",
              "      <td>female</td>\n",
              "      <td>35.0</td>\n",
              "      <td>1</td>\n",
              "      <td>0</td>\n",
              "      <td>113803</td>\n",
              "      <td>53.1000</td>\n",
              "      <td>C123</td>\n",
              "      <td>S</td>\n",
              "    </tr>\n",
              "    <tr>\n",
              "      <th>6</th>\n",
              "      <td>7</td>\n",
              "      <td>0</td>\n",
              "      <td>1</td>\n",
              "      <td>McCarthy, Mr. Timothy J</td>\n",
              "      <td>male</td>\n",
              "      <td>54.0</td>\n",
              "      <td>0</td>\n",
              "      <td>0</td>\n",
              "      <td>17463</td>\n",
              "      <td>51.8625</td>\n",
              "      <td>E46</td>\n",
              "      <td>S</td>\n",
              "    </tr>\n",
              "    <tr>\n",
              "      <th>10</th>\n",
              "      <td>11</td>\n",
              "      <td>1</td>\n",
              "      <td>3</td>\n",
              "      <td>Sandstrom, Miss. Marguerite Rut</td>\n",
              "      <td>female</td>\n",
              "      <td>4.0</td>\n",
              "      <td>1</td>\n",
              "      <td>1</td>\n",
              "      <td>PP 9549</td>\n",
              "      <td>16.7000</td>\n",
              "      <td>G6</td>\n",
              "      <td>S</td>\n",
              "    </tr>\n",
              "    <tr>\n",
              "      <th>11</th>\n",
              "      <td>12</td>\n",
              "      <td>1</td>\n",
              "      <td>1</td>\n",
              "      <td>Bonnell, Miss. Elizabeth</td>\n",
              "      <td>female</td>\n",
              "      <td>58.0</td>\n",
              "      <td>0</td>\n",
              "      <td>0</td>\n",
              "      <td>113783</td>\n",
              "      <td>26.5500</td>\n",
              "      <td>C103</td>\n",
              "      <td>S</td>\n",
              "    </tr>\n",
              "  </tbody>\n",
              "</table>\n",
              "</div>\n",
              "    <div class=\"colab-df-buttons\">\n",
              "\n",
              "  <div class=\"colab-df-container\">\n",
              "    <button class=\"colab-df-convert\" onclick=\"convertToInteractive('df-5d22e347-4bb8-49e8-b49d-2bfa9e418b03')\"\n",
              "            title=\"Convert this dataframe to an interactive table.\"\n",
              "            style=\"display:none;\">\n",
              "\n",
              "  <svg xmlns=\"http://www.w3.org/2000/svg\" height=\"24px\" viewBox=\"0 -960 960 960\">\n",
              "    <path d=\"M120-120v-720h720v720H120Zm60-500h600v-160H180v160Zm220 220h160v-160H400v160Zm0 220h160v-160H400v160ZM180-400h160v-160H180v160Zm440 0h160v-160H620v160ZM180-180h160v-160H180v160Zm440 0h160v-160H620v160Z\"/>\n",
              "  </svg>\n",
              "    </button>\n",
              "\n",
              "  <style>\n",
              "    .colab-df-container {\n",
              "      display:flex;\n",
              "      gap: 12px;\n",
              "    }\n",
              "\n",
              "    .colab-df-convert {\n",
              "      background-color: #E8F0FE;\n",
              "      border: none;\n",
              "      border-radius: 50%;\n",
              "      cursor: pointer;\n",
              "      display: none;\n",
              "      fill: #1967D2;\n",
              "      height: 32px;\n",
              "      padding: 0 0 0 0;\n",
              "      width: 32px;\n",
              "    }\n",
              "\n",
              "    .colab-df-convert:hover {\n",
              "      background-color: #E2EBFA;\n",
              "      box-shadow: 0px 1px 2px rgba(60, 64, 67, 0.3), 0px 1px 3px 1px rgba(60, 64, 67, 0.15);\n",
              "      fill: #174EA6;\n",
              "    }\n",
              "\n",
              "    .colab-df-buttons div {\n",
              "      margin-bottom: 4px;\n",
              "    }\n",
              "\n",
              "    [theme=dark] .colab-df-convert {\n",
              "      background-color: #3B4455;\n",
              "      fill: #D2E3FC;\n",
              "    }\n",
              "\n",
              "    [theme=dark] .colab-df-convert:hover {\n",
              "      background-color: #434B5C;\n",
              "      box-shadow: 0px 1px 3px 1px rgba(0, 0, 0, 0.15);\n",
              "      filter: drop-shadow(0px 1px 2px rgba(0, 0, 0, 0.3));\n",
              "      fill: #FFFFFF;\n",
              "    }\n",
              "  </style>\n",
              "\n",
              "    <script>\n",
              "      const buttonEl =\n",
              "        document.querySelector('#df-5d22e347-4bb8-49e8-b49d-2bfa9e418b03 button.colab-df-convert');\n",
              "      buttonEl.style.display =\n",
              "        google.colab.kernel.accessAllowed ? 'block' : 'none';\n",
              "\n",
              "      async function convertToInteractive(key) {\n",
              "        const element = document.querySelector('#df-5d22e347-4bb8-49e8-b49d-2bfa9e418b03');\n",
              "        const dataTable =\n",
              "          await google.colab.kernel.invokeFunction('convertToInteractive',\n",
              "                                                    [key], {});\n",
              "        if (!dataTable) return;\n",
              "\n",
              "        const docLinkHtml = 'Like what you see? Visit the ' +\n",
              "          '<a target=\"_blank\" href=https://colab.research.google.com/notebooks/data_table.ipynb>data table notebook</a>'\n",
              "          + ' to learn more about interactive tables.';\n",
              "        element.innerHTML = '';\n",
              "        dataTable['output_type'] = 'display_data';\n",
              "        await google.colab.output.renderOutput(dataTable, element);\n",
              "        const docLink = document.createElement('div');\n",
              "        docLink.innerHTML = docLinkHtml;\n",
              "        element.appendChild(docLink);\n",
              "      }\n",
              "    </script>\n",
              "  </div>\n",
              "\n",
              "\n",
              "<div id=\"df-8dcc56af-e238-47a5-8ce9-50e42007a84d\">\n",
              "  <button class=\"colab-df-quickchart\" onclick=\"quickchart('df-8dcc56af-e238-47a5-8ce9-50e42007a84d')\"\n",
              "            title=\"Suggest charts.\"\n",
              "            style=\"display:none;\">\n",
              "\n",
              "<svg xmlns=\"http://www.w3.org/2000/svg\" height=\"24px\"viewBox=\"0 0 24 24\"\n",
              "     width=\"24px\">\n",
              "    <g>\n",
              "        <path d=\"M19 3H5c-1.1 0-2 .9-2 2v14c0 1.1.9 2 2 2h14c1.1 0 2-.9 2-2V5c0-1.1-.9-2-2-2zM9 17H7v-7h2v7zm4 0h-2V7h2v10zm4 0h-2v-4h2v4z\"/>\n",
              "    </g>\n",
              "</svg>\n",
              "  </button>\n",
              "\n",
              "<style>\n",
              "  .colab-df-quickchart {\n",
              "    background-color: #E8F0FE;\n",
              "    border: none;\n",
              "    border-radius: 50%;\n",
              "    cursor: pointer;\n",
              "    display: none;\n",
              "    fill: #1967D2;\n",
              "    height: 32px;\n",
              "    padding: 0 0 0 0;\n",
              "    width: 32px;\n",
              "  }\n",
              "\n",
              "  .colab-df-quickchart:hover {\n",
              "    background-color: #E2EBFA;\n",
              "    box-shadow: 0px 1px 2px rgba(60, 64, 67, 0.3), 0px 1px 3px 1px rgba(60, 64, 67, 0.15);\n",
              "    fill: #174EA6;\n",
              "  }\n",
              "\n",
              "  [theme=dark] .colab-df-quickchart {\n",
              "    background-color: #3B4455;\n",
              "    fill: #D2E3FC;\n",
              "  }\n",
              "\n",
              "  [theme=dark] .colab-df-quickchart:hover {\n",
              "    background-color: #434B5C;\n",
              "    box-shadow: 0px 1px 3px 1px rgba(0, 0, 0, 0.15);\n",
              "    filter: drop-shadow(0px 1px 2px rgba(0, 0, 0, 0.3));\n",
              "    fill: #FFFFFF;\n",
              "  }\n",
              "</style>\n",
              "\n",
              "  <script>\n",
              "    async function quickchart(key) {\n",
              "      const charts = await google.colab.kernel.invokeFunction(\n",
              "          'suggestCharts', [key], {});\n",
              "    }\n",
              "    (() => {\n",
              "      let quickchartButtonEl =\n",
              "        document.querySelector('#df-8dcc56af-e238-47a5-8ce9-50e42007a84d button');\n",
              "      quickchartButtonEl.style.display =\n",
              "        google.colab.kernel.accessAllowed ? 'block' : 'none';\n",
              "    })();\n",
              "  </script>\n",
              "</div>\n",
              "    </div>\n",
              "  </div>\n"
            ]
          },
          "metadata": {},
          "execution_count": 10
        }
      ]
    },
    {
      "cell_type": "markdown",
      "source": [
        "6. ¿Cuáles considera, de acuero a su intuición, que son las variables más relevantes para predecir la columna 'Survived'? ¿Cuáles considera irrelevantes?¿Por qué? ¿Remueva las columnas que usted considere que no aportarán a las predicciones. **OJO:** ¡Debe remover dichas columnas tando del conjunto de entrenamiento como el de test!\n",
        "*Observación:* Luego veremos formas de hacer selección de columnas para entrenar modelos de ML. Por ahora es sólo queremos experimentar partiendo de su intuición."
      ],
      "metadata": {
        "id": "J0_OIMbr0ueD"
      }
    },
    {
      "cell_type": "markdown",
      "source": [
        "Variables potencialmente relevantes:\n",
        "\n",
        "  * Pclass: La clase en la que viajaba el pasajero podría estar relacionada con la prioridad de evacuación y, por lo tanto, con la supervivencia.\n",
        "  * Sex: El género podría ser un factor importante, ya que se observó que en el hundimiento del Titanic, las mujeres tenían más probabilidades de sobrevivir que los hombres.\n",
        "  * Age: La edad podría estar relacionada con la supervivencia, ya que es probable que se haya dado prioridad a ciertos grupos de edad durante la evacuación.\n",
        "  * SibSp y Parch: El número de hermanos/cónyuge e hijos/padres a bordo podría estar relacionado con la supervivencia, ya que las familias podrían haber tenido prioridad.\n",
        "  * Fare: El costo del boleto podría estar relacionado con la clase y, por lo tanto, con la ubicación y la probabilidad de supervivencia.\n",
        "\n",
        "  Variables potencialmente irrelevantes:\n",
        "\n",
        "  * PassengerId: Un identificador único para cada pasajero que probablemente no influye en la supervivencia.\n",
        "  * Name: Los nombres de los pasajeros generalmente no tienen correlación con la supervivencia.\n",
        "  * Ticket: El número de boleto no parece estar relacionado directamente con la supervivencia.\n",
        "  * Cabin: La ubicación de la cabina podría estar relacionada con la supervivencia, pero esta columna contiene muchas entradas faltantes y es posible que sea difícil de utilizar.\n",
        "  * Embarked: No la entendemos."
      ],
      "metadata": {
        "id": "ILG8oAQb9tDN"
      }
    },
    {
      "cell_type": "code",
      "source": [
        "# Remover columnas irrelevantes del DataFrame X\n",
        "columns_to_drop = ['PassengerId', 'Name', 'Ticket', 'Cabin', 'Embarked']\n",
        "X = X.drop(columns=columns_to_drop, axis=1)"
      ],
      "metadata": {
        "id": "bMLlloHhcFbn"
      },
      "execution_count": 11,
      "outputs": []
    },
    {
      "cell_type": "markdown",
      "source": [
        "7. Separe la columna objetivo tanto del trainset como del test set. Puede nombrarla y_train, y_test y al resto del dataframe puede llamarlo X_train,X_train tal como es costumbre."
      ],
      "metadata": {
        "id": "OAo2GjKq9oKL"
      }
    },
    {
      "cell_type": "code",
      "source": [
        "# Separar la columna objetivo.\n",
        "y = X['Survived']\n",
        "X = X.drop(columns=['Survived'])"
      ],
      "metadata": {
        "id": "-C6vUS5rByly"
      },
      "execution_count": 12,
      "outputs": []
    },
    {
      "cell_type": "markdown",
      "source": [
        "8. Convertimr a dummies las columnas categóricas. Se sugiere usar el parámetro drop_first = True si está trabajando con Getdummies, para que no haya una columna que redunda."
      ],
      "metadata": {
        "id": "hjvGHlBPY0K-"
      }
    },
    {
      "cell_type": "code",
      "source": [
        "# Convertir a dummies. Usar el parámetro drop_first=True.\n",
        "X = pd.get_dummies(X, drop_first=True)"
      ],
      "metadata": {
        "id": "iYLagSw_RRbm"
      },
      "execution_count": 13,
      "outputs": []
    },
    {
      "cell_type": "code",
      "source": [
        "#Imprimir info de X\n",
        "X.info()"
      ],
      "metadata": {
        "id": "4kPUIxpLYCCC",
        "colab": {
          "base_uri": "https://localhost:8080/"
        },
        "outputId": "dcabf875-5afd-4207-e41b-2abdbed1c254"
      },
      "execution_count": 14,
      "outputs": [
        {
          "output_type": "stream",
          "name": "stdout",
          "text": [
            "<class 'pandas.core.frame.DataFrame'>\n",
            "Int64Index: 183 entries, 1 to 889\n",
            "Data columns (total 6 columns):\n",
            " #   Column    Non-Null Count  Dtype  \n",
            "---  ------    --------------  -----  \n",
            " 0   Pclass    183 non-null    int64  \n",
            " 1   Age       183 non-null    float64\n",
            " 2   SibSp     183 non-null    int64  \n",
            " 3   Parch     183 non-null    int64  \n",
            " 4   Fare      183 non-null    float64\n",
            " 5   Sex_male  183 non-null    uint8  \n",
            "dtypes: float64(2), int64(3), uint8(1)\n",
            "memory usage: 8.8 KB\n"
          ]
        }
      ]
    },
    {
      "cell_type": "code",
      "source": [
        "X_train, X_test, y_train, y_test = train_test_split(X, y, random_state = 0, test_size=0.2, shuffle=True)"
      ],
      "metadata": {
        "id": "PtAfpNePYEXH"
      },
      "execution_count": 15,
      "outputs": []
    },
    {
      "cell_type": "markdown",
      "source": [
        "A continuación, entrenamos clasificadores de KNN con diferentes valores de K y visualizamos el cambio entre ellos.\n",
        "\n",
        "9. Cree un loop mediante el cual entrene un clasificador de KNN para valores de K entre 1 y 100. Calcule sus respectivos scores. Guarde dichos scores en una lista llamada \"scores\"."
      ],
      "metadata": {
        "id": "KMI-RrTtZ_ew"
      }
    },
    {
      "cell_type": "code",
      "source": [
        "from sklearn.metrics import accuracy_score\n",
        "# Para k entre 1 y 100, entrenar knn en los datos de entrenamiento. Calcular sus respectivos scores\n",
        "# Guardar los scores en una lista llamada \"scores\".\n",
        "\n",
        "# Inicializar una lista para almacenar los scores\n",
        "scores = []\n",
        "\n",
        "# Loop para entrenar clasificadores KNN con valores de K entre 1 y 100\n",
        "for n in range(1,100):\n",
        "  knn = KNeighborsClassifier(n_neighbors=n)\n",
        "  knn.fit(X_train,y_train)\n",
        "  s=knn.score(X_test,y_test)\n",
        "  scores.append(s)"
      ],
      "metadata": {
        "id": "LkLTPdgR3wjt"
      },
      "execution_count": 16,
      "outputs": []
    },
    {
      "cell_type": "code",
      "source": [
        "#Graficar scores\n",
        "plt.plot(scores)"
      ],
      "metadata": {
        "id": "tgH9ocJUcFRa",
        "colab": {
          "base_uri": "https://localhost:8080/",
          "height": 449
        },
        "outputId": "7156a8ea-87e1-46ec-dd3a-4e675eb1aed1"
      },
      "execution_count": 17,
      "outputs": [
        {
          "output_type": "execute_result",
          "data": {
            "text/plain": [
              "[<matplotlib.lines.Line2D at 0x77fffbf1a380>]"
            ]
          },
          "metadata": {},
          "execution_count": 17
        },
        {
          "output_type": "display_data",
          "data": {
            "text/plain": [
              "<Figure size 640x480 with 1 Axes>"
            ],
            "image/png": "[encoded data removed]"
          },
          "metadata": {}
        }
      ]
    },
    {
      "cell_type": "markdown",
      "source": [
        "10. ¿Qué se puede concluir a partir de la gráfica anterior?\n",
        "\n",
        "Pudimos observar cuando el parametro n_neighbors tiene valores pequeños no se logran ajustar correctamente los datos. Ademas, al aumentar este paremetro, se logra observar una mejora significativa en el score.\n",
        "\n",
        "11. Determinar si las siguientes afirmaciones son verdaderas o falsas. Justificar su respuesta.\n",
        "\n",
        "- Para cualquier conjunto de datos para clasificación, el score al clasificar con 1-NN siempre será menor o igual que el de 5-NN.  \n",
        "\n",
        "Falso, puesto que se debe encontrar para cada training set particular. Sin embargo, 1-NN tiende a ser sujeto al sobre ajuste y a verse afectado por ruido en el dataset.\n",
        "\n",
        "- El tiempo para clasificar un registro del testset con k-NN crece con el tamaño del train set.\n",
        "\n",
        "Verdadero, ya que siempre que se debe clasificar un nuevo dato, se debe buscar la distancia con cada datapoint en el train set."
      ],
      "metadata": {
        "id": "7PqA_ttX5OKX"
      }
    },
    {
      "cell_type": "markdown",
      "source": [
        "## Titanic dataset usando pesos en la distancia."
      ],
      "metadata": {
        "id": "LVAyfDXOa7q7"
      }
    },
    {
      "cell_type": "markdown",
      "source": [
        "A continuación usamos clasificadores de KNN dándole pesos a las distancias."
      ],
      "metadata": {
        "id": "r75ERgX0bGdx"
      }
    },
    {
      "cell_type": "code",
      "source": [
        "# Weighted k-nn\n",
        "scores=[]\n",
        "for n in range(1,100):\n",
        "  knn = KNeighborsClassifier(n_neighbors=n, weights='distance')\n",
        "  knn.fit(X_train,y_train)\n",
        "  s=knn.score(X_test,y_test)\n",
        "  scores.append(s)\n",
        "  print(s)"
      ],
      "metadata": {
        "id": "XlgtFggZbc48",
        "colab": {
          "base_uri": "https://localhost:8080/"
        },
        "outputId": "f12079a3-934d-4731-9618-aa13c02c0430"
      },
      "execution_count": 18,
      "outputs": [
        {
          "output_type": "stream",
          "name": "stdout",
          "text": [
            "0.6216216216216216\n",
            "0.5945945945945946\n",
            "0.6486486486486487\n",
            "0.6486486486486487\n",
            "0.7027027027027027\n",
            "0.6756756756756757\n",
            "0.7027027027027027\n",
            "0.7027027027027027\n",
            "0.7297297297297297\n",
            "0.7297297297297297\n",
            "0.7567567567567568\n",
            "0.7837837837837838\n",
            "0.7567567567567568\n",
            "0.7837837837837838\n",
            "0.7837837837837838\n",
            "0.7837837837837838\n",
            "0.7837837837837838\n",
            "0.7837837837837838\n",
            "0.7837837837837838\n",
            "0.7837837837837838\n",
            "0.7837837837837838\n",
            "0.7837837837837838\n",
            "0.7837837837837838\n",
            "0.7837837837837838\n",
            "0.7837837837837838\n",
            "0.7837837837837838\n",
            "0.7837837837837838\n",
            "0.7837837837837838\n",
            "0.7837837837837838\n",
            "0.7837837837837838\n",
            "0.7837837837837838\n",
            "0.7837837837837838\n",
            "0.7837837837837838\n",
            "0.7837837837837838\n",
            "0.7837837837837838\n",
            "0.7837837837837838\n",
            "0.7837837837837838\n",
            "0.7837837837837838\n",
            "0.7837837837837838\n",
            "0.7837837837837838\n",
            "0.7837837837837838\n",
            "0.7837837837837838\n",
            "0.7837837837837838\n",
            "0.7837837837837838\n",
            "0.7837837837837838\n",
            "0.7837837837837838\n",
            "0.7837837837837838\n",
            "0.7837837837837838\n",
            "0.7837837837837838\n",
            "0.7837837837837838\n",
            "0.7837837837837838\n",
            "0.7837837837837838\n",
            "0.7837837837837838\n",
            "0.7837837837837838\n",
            "0.7837837837837838\n",
            "0.7837837837837838\n",
            "0.7837837837837838\n",
            "0.7837837837837838\n",
            "0.7837837837837838\n",
            "0.7837837837837838\n",
            "0.7837837837837838\n",
            "0.7837837837837838\n",
            "0.7837837837837838\n",
            "0.7837837837837838\n",
            "0.7837837837837838\n",
            "0.7837837837837838\n",
            "0.7837837837837838\n",
            "0.7837837837837838\n",
            "0.7837837837837838\n",
            "0.7837837837837838\n",
            "0.7837837837837838\n",
            "0.7837837837837838\n",
            "0.7837837837837838\n",
            "0.7837837837837838\n",
            "0.7837837837837838\n",
            "0.7837837837837838\n",
            "0.7837837837837838\n",
            "0.7837837837837838\n",
            "0.7837837837837838\n",
            "0.7837837837837838\n",
            "0.7837837837837838\n",
            "0.7837837837837838\n",
            "0.8108108108108109\n",
            "0.7837837837837838\n",
            "0.7837837837837838\n",
            "0.7837837837837838\n",
            "0.8108108108108109\n",
            "0.8108108108108109\n",
            "0.8108108108108109\n",
            "0.8108108108108109\n",
            "0.8108108108108109\n",
            "0.8108108108108109\n",
            "0.8108108108108109\n",
            "0.8108108108108109\n",
            "0.8108108108108109\n",
            "0.8108108108108109\n",
            "0.8108108108108109\n",
            "0.8108108108108109\n",
            "0.8108108108108109\n"
          ]
        }
      ]
    },
    {
      "cell_type": "code",
      "source": [
        "#Graficar\n",
        "plt.plot(scores)"
      ],
      "metadata": {
        "id": "EMK3f_vNb5wV",
        "colab": {
          "base_uri": "https://localhost:8080/",
          "height": 447
        },
        "outputId": "f6587156-52e1-493a-b5d6-63dd62041de8"
      },
      "execution_count": 19,
      "outputs": [
        {
          "output_type": "execute_result",
          "data": {
            "text/plain": [
              "[<matplotlib.lines.Line2D at 0x77fff7450250>]"
            ]
          },
          "metadata": {},
          "execution_count": 19
        },
        {
          "output_type": "display_data",
          "data": {
            "text/plain": [
              "<Figure size 640x480 with 1 Axes>"
            ],
            "image/png": "[encoded data removed]"
          },
          "metadata": {}
        }
      ]
    },
    {
      "cell_type": "markdown",
      "source": [
        "12. ¿Nota alguna diferencia con la clasificación sin pesos en las distancias? ¿Alguna hipótesis sobre el porqué?\n",
        "\n",
        "Mientras el clasificador KNN con pesos tenga más neighbors da un mejor score, respecto al clasificador sin pesos. Esto se debe a que este modelo es más propenso al ruido, o por lo menos con los datos del training set.\n",
        "\n",
        "13. Escriba sus conclusiones del ejercicio.\n",
        "\n",
        "* En resumen, los resultados obtenidos revelan que la variación en el puntaje es mínima o sobreajustada al disminuir el valor de \"k\", debido a la alta cohesión y separación de los datos en grupos definidos. Este fenómeno también se observa cuando \"k\" aumenta ligeramente, ya que aún mantiene una relación con datos familiares cercanos. Sin embargo, cuando \"k\" adquiere valores muy elevados, se produce un deterioro en el puntaje, ya que se incorporan datos más distantes y heterogéneos en el cálculo. Estos hallazgos resaltan la importancia de elegir un valor apropiado para \"k\" en el algoritmo de agrupamiento, considerando tanto la estructura de los datos como la interpretación de los resultados finales.\n",
        "\n",
        "*  La aplicación del algoritmo de clasificación KNN con pesos en las distancias aporta una notable mejora en la estabilidad del modelo. Al asignar pesos a las distancias entre puntos de datos, se logra mitigar el impacto de valores atípicos o ruidosos que podrían perturbar la toma de decisiones del algoritmo. Esto conduce a una mayor robustez en la clasificación, ya que se otorga una importancia diferenciada a las conexiones entre vecinos más cercanos.\n",
        "\n",
        "*  La inclusión de pesos en las distancias refuerza la capacidad del clasificador KNN para generalizar de manera efectiva y mejorar su capacidad de adaptación a la complejidad inherente de los conjuntos de datos del mundo real."
      ],
      "metadata": {
        "id": "ZaKIaNdIeEgq"
      }
    }
  ]
}